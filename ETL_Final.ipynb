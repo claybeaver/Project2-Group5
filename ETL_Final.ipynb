{
 "cells": [
  {
   "cell_type": "code",
   "execution_count": 1,
   "metadata": {},
   "outputs": [],
   "source": [
    "# Import modules\n",
    "from bs4 import BeautifulSoup\n",
    "import requests\n",
    "from splinter import Browser\n",
    "from selenium import webdriver\n",
    "import pandas as pd\n",
    "import time\n",
    "from secret import username, password\n",
    "from sqlalchemy import create_engine\n",
    "import csv\n",
    "import numpy as np\n",
    "import html5lib"
   ]
  },
  {
   "cell_type": "markdown",
   "metadata": {},
   "source": [
    "### Load main hurricane dataset from csv to pandas dataframe"
   ]
  },
  {
   "cell_type": "code",
   "execution_count": 2,
   "metadata": {},
   "outputs": [
    {
     "data": {
      "text/html": [
       "<div>\n",
       "<style scoped>\n",
       "    .dataframe tbody tr th:only-of-type {\n",
       "        vertical-align: middle;\n",
       "    }\n",
       "\n",
       "    .dataframe tbody tr th {\n",
       "        vertical-align: top;\n",
       "    }\n",
       "\n",
       "    .dataframe thead th {\n",
       "        text-align: right;\n",
       "    }\n",
       "</style>\n",
       "<table border=\"1\" class=\"dataframe\">\n",
       "  <thead>\n",
       "    <tr style=\"text-align: right;\">\n",
       "      <th></th>\n",
       "      <th>Date</th>\n",
       "      <th>Name</th>\n",
       "      <th>Time</th>\n",
       "      <th>Status</th>\n",
       "      <th>Latitude</th>\n",
       "      <th>Longitude</th>\n",
       "      <th>MaximumWind</th>\n",
       "      <th>AirPressure</th>\n",
       "    </tr>\n",
       "  </thead>\n",
       "  <tbody>\n",
       "    <tr>\n",
       "      <th>0</th>\n",
       "      <td>19500812</td>\n",
       "      <td>ABLE</td>\n",
       "      <td>0</td>\n",
       "      <td>TS</td>\n",
       "      <td>17.1N</td>\n",
       "      <td>55.5W</td>\n",
       "      <td>35</td>\n",
       "      <td>-999</td>\n",
       "    </tr>\n",
       "    <tr>\n",
       "      <th>1</th>\n",
       "      <td>19500812</td>\n",
       "      <td>ABLE</td>\n",
       "      <td>600</td>\n",
       "      <td>TS</td>\n",
       "      <td>17.7N</td>\n",
       "      <td>56.3W</td>\n",
       "      <td>40</td>\n",
       "      <td>-999</td>\n",
       "    </tr>\n",
       "    <tr>\n",
       "      <th>2</th>\n",
       "      <td>19500812</td>\n",
       "      <td>ABLE</td>\n",
       "      <td>1200</td>\n",
       "      <td>TS</td>\n",
       "      <td>18.2N</td>\n",
       "      <td>57.4W</td>\n",
       "      <td>45</td>\n",
       "      <td>-999</td>\n",
       "    </tr>\n",
       "    <tr>\n",
       "      <th>3</th>\n",
       "      <td>19500812</td>\n",
       "      <td>ABLE</td>\n",
       "      <td>1800</td>\n",
       "      <td>TS</td>\n",
       "      <td>19.0N</td>\n",
       "      <td>58.6W</td>\n",
       "      <td>50</td>\n",
       "      <td>-999</td>\n",
       "    </tr>\n",
       "    <tr>\n",
       "      <th>4</th>\n",
       "      <td>19500813</td>\n",
       "      <td>ABLE</td>\n",
       "      <td>0</td>\n",
       "      <td>TS</td>\n",
       "      <td>20.0N</td>\n",
       "      <td>60.0W</td>\n",
       "      <td>50</td>\n",
       "      <td>-999</td>\n",
       "    </tr>\n",
       "    <tr>\n",
       "      <th>...</th>\n",
       "      <td>...</td>\n",
       "      <td>...</td>\n",
       "      <td>...</td>\n",
       "      <td>...</td>\n",
       "      <td>...</td>\n",
       "      <td>...</td>\n",
       "      <td>...</td>\n",
       "      <td>...</td>\n",
       "    </tr>\n",
       "    <tr>\n",
       "      <th>29969</th>\n",
       "      <td>20191126</td>\n",
       "      <td>SEBASTIEN</td>\n",
       "      <td>1200</td>\n",
       "      <td>EX</td>\n",
       "      <td>52.2N</td>\n",
       "      <td>9.3W</td>\n",
       "      <td>45</td>\n",
       "      <td>970</td>\n",
       "    </tr>\n",
       "    <tr>\n",
       "      <th>29970</th>\n",
       "      <td>20191126</td>\n",
       "      <td>SEBASTIEN</td>\n",
       "      <td>1800</td>\n",
       "      <td>EX</td>\n",
       "      <td>52.2N</td>\n",
       "      <td>8.9W</td>\n",
       "      <td>40</td>\n",
       "      <td>972</td>\n",
       "    </tr>\n",
       "    <tr>\n",
       "      <th>29971</th>\n",
       "      <td>20191127</td>\n",
       "      <td>SEBASTIEN</td>\n",
       "      <td>0</td>\n",
       "      <td>EX</td>\n",
       "      <td>51.8N</td>\n",
       "      <td>8.2W</td>\n",
       "      <td>40</td>\n",
       "      <td>974</td>\n",
       "    </tr>\n",
       "    <tr>\n",
       "      <th>29972</th>\n",
       "      <td>20191127</td>\n",
       "      <td>SEBASTIEN</td>\n",
       "      <td>600</td>\n",
       "      <td>EX</td>\n",
       "      <td>51.4N</td>\n",
       "      <td>6.0W</td>\n",
       "      <td>40</td>\n",
       "      <td>976</td>\n",
       "    </tr>\n",
       "    <tr>\n",
       "      <th>29973</th>\n",
       "      <td>20191127</td>\n",
       "      <td>SEBASTIEN</td>\n",
       "      <td>1200</td>\n",
       "      <td>EX</td>\n",
       "      <td>51.3N</td>\n",
       "      <td>2.1W</td>\n",
       "      <td>40</td>\n",
       "      <td>980</td>\n",
       "    </tr>\n",
       "  </tbody>\n",
       "</table>\n",
       "<p>29974 rows × 8 columns</p>\n",
       "</div>"
      ],
      "text/plain": [
       "           Date       Name  Time Status Latitude Longitude  MaximumWind  \\\n",
       "0      19500812       ABLE     0     TS    17.1N     55.5W           35   \n",
       "1      19500812       ABLE   600     TS    17.7N     56.3W           40   \n",
       "2      19500812       ABLE  1200     TS    18.2N     57.4W           45   \n",
       "3      19500812       ABLE  1800     TS    19.0N     58.6W           50   \n",
       "4      19500813       ABLE     0     TS    20.0N     60.0W           50   \n",
       "...         ...        ...   ...    ...      ...       ...          ...   \n",
       "29969  20191126  SEBASTIEN  1200     EX    52.2N      9.3W           45   \n",
       "29970  20191126  SEBASTIEN  1800     EX    52.2N      8.9W           40   \n",
       "29971  20191127  SEBASTIEN     0     EX    51.8N      8.2W           40   \n",
       "29972  20191127  SEBASTIEN   600     EX    51.4N      6.0W           40   \n",
       "29973  20191127  SEBASTIEN  1200     EX    51.3N      2.1W           40   \n",
       "\n",
       "       AirPressure  \n",
       "0             -999  \n",
       "1             -999  \n",
       "2             -999  \n",
       "3             -999  \n",
       "4             -999  \n",
       "...            ...  \n",
       "29969          970  \n",
       "29970          972  \n",
       "29971          974  \n",
       "29972          976  \n",
       "29973          980  \n",
       "\n",
       "[29974 rows x 8 columns]"
      ]
     },
     "execution_count": 2,
     "metadata": {},
     "output_type": "execute_result"
    }
   ],
   "source": [
    "main_csv_df = pd.read_csv(\"Data/Hurricane Data 2019.csv\")\n",
    "main_csv_df"
   ]
  },
  {
   "cell_type": "code",
   "execution_count": 3,
   "metadata": {},
   "outputs": [
    {
     "data": {
      "text/html": [
       "<div>\n",
       "<style scoped>\n",
       "    .dataframe tbody tr th:only-of-type {\n",
       "        vertical-align: middle;\n",
       "    }\n",
       "\n",
       "    .dataframe tbody tr th {\n",
       "        vertical-align: top;\n",
       "    }\n",
       "\n",
       "    .dataframe thead th {\n",
       "        text-align: right;\n",
       "    }\n",
       "</style>\n",
       "<table border=\"1\" class=\"dataframe\">\n",
       "  <thead>\n",
       "    <tr style=\"text-align: right;\">\n",
       "      <th></th>\n",
       "      <th>Date</th>\n",
       "      <th>Name</th>\n",
       "      <th>Time</th>\n",
       "      <th>Status</th>\n",
       "      <th>Latitude</th>\n",
       "      <th>Longitude</th>\n",
       "      <th>MaximumWind</th>\n",
       "      <th>AirPressure</th>\n",
       "    </tr>\n",
       "  </thead>\n",
       "  <tbody>\n",
       "    <tr>\n",
       "      <th>0</th>\n",
       "      <td>19500812</td>\n",
       "      <td>ABLE</td>\n",
       "      <td>0</td>\n",
       "      <td>TS</td>\n",
       "      <td>17.1N</td>\n",
       "      <td>55.5W</td>\n",
       "      <td>35</td>\n",
       "      <td>-999</td>\n",
       "    </tr>\n",
       "    <tr>\n",
       "      <th>1</th>\n",
       "      <td>19500812</td>\n",
       "      <td>ABLE</td>\n",
       "      <td>600</td>\n",
       "      <td>TS</td>\n",
       "      <td>17.7N</td>\n",
       "      <td>56.3W</td>\n",
       "      <td>40</td>\n",
       "      <td>-999</td>\n",
       "    </tr>\n",
       "    <tr>\n",
       "      <th>2</th>\n",
       "      <td>19500812</td>\n",
       "      <td>ABLE</td>\n",
       "      <td>1200</td>\n",
       "      <td>TS</td>\n",
       "      <td>18.2N</td>\n",
       "      <td>57.4W</td>\n",
       "      <td>45</td>\n",
       "      <td>-999</td>\n",
       "    </tr>\n",
       "    <tr>\n",
       "      <th>3</th>\n",
       "      <td>19500812</td>\n",
       "      <td>ABLE</td>\n",
       "      <td>1800</td>\n",
       "      <td>TS</td>\n",
       "      <td>19.0N</td>\n",
       "      <td>58.6W</td>\n",
       "      <td>50</td>\n",
       "      <td>-999</td>\n",
       "    </tr>\n",
       "    <tr>\n",
       "      <th>4</th>\n",
       "      <td>19500813</td>\n",
       "      <td>ABLE</td>\n",
       "      <td>0</td>\n",
       "      <td>TS</td>\n",
       "      <td>20.0N</td>\n",
       "      <td>60.0W</td>\n",
       "      <td>50</td>\n",
       "      <td>-999</td>\n",
       "    </tr>\n",
       "    <tr>\n",
       "      <th>...</th>\n",
       "      <td>...</td>\n",
       "      <td>...</td>\n",
       "      <td>...</td>\n",
       "      <td>...</td>\n",
       "      <td>...</td>\n",
       "      <td>...</td>\n",
       "      <td>...</td>\n",
       "      <td>...</td>\n",
       "    </tr>\n",
       "    <tr>\n",
       "      <th>29969</th>\n",
       "      <td>20191126</td>\n",
       "      <td>SEBASTIEN</td>\n",
       "      <td>1200</td>\n",
       "      <td>EX</td>\n",
       "      <td>52.2N</td>\n",
       "      <td>9.3W</td>\n",
       "      <td>45</td>\n",
       "      <td>970</td>\n",
       "    </tr>\n",
       "    <tr>\n",
       "      <th>29970</th>\n",
       "      <td>20191126</td>\n",
       "      <td>SEBASTIEN</td>\n",
       "      <td>1800</td>\n",
       "      <td>EX</td>\n",
       "      <td>52.2N</td>\n",
       "      <td>8.9W</td>\n",
       "      <td>40</td>\n",
       "      <td>972</td>\n",
       "    </tr>\n",
       "    <tr>\n",
       "      <th>29971</th>\n",
       "      <td>20191127</td>\n",
       "      <td>SEBASTIEN</td>\n",
       "      <td>0</td>\n",
       "      <td>EX</td>\n",
       "      <td>51.8N</td>\n",
       "      <td>8.2W</td>\n",
       "      <td>40</td>\n",
       "      <td>974</td>\n",
       "    </tr>\n",
       "    <tr>\n",
       "      <th>29972</th>\n",
       "      <td>20191127</td>\n",
       "      <td>SEBASTIEN</td>\n",
       "      <td>600</td>\n",
       "      <td>EX</td>\n",
       "      <td>51.4N</td>\n",
       "      <td>6.0W</td>\n",
       "      <td>40</td>\n",
       "      <td>976</td>\n",
       "    </tr>\n",
       "    <tr>\n",
       "      <th>29973</th>\n",
       "      <td>20191127</td>\n",
       "      <td>SEBASTIEN</td>\n",
       "      <td>1200</td>\n",
       "      <td>EX</td>\n",
       "      <td>51.3N</td>\n",
       "      <td>2.1W</td>\n",
       "      <td>40</td>\n",
       "      <td>980</td>\n",
       "    </tr>\n",
       "  </tbody>\n",
       "</table>\n",
       "<p>29974 rows × 8 columns</p>\n",
       "</div>"
      ],
      "text/plain": [
       "           Date       Name  Time Status Latitude Longitude  MaximumWind  \\\n",
       "0      19500812       ABLE     0     TS    17.1N     55.5W           35   \n",
       "1      19500812       ABLE   600     TS    17.7N     56.3W           40   \n",
       "2      19500812       ABLE  1200     TS    18.2N     57.4W           45   \n",
       "3      19500812       ABLE  1800     TS    19.0N     58.6W           50   \n",
       "4      19500813       ABLE     0     TS    20.0N     60.0W           50   \n",
       "...         ...        ...   ...    ...      ...       ...          ...   \n",
       "29969  20191126  SEBASTIEN  1200     EX    52.2N      9.3W           45   \n",
       "29970  20191126  SEBASTIEN  1800     EX    52.2N      8.9W           40   \n",
       "29971  20191127  SEBASTIEN     0     EX    51.8N      8.2W           40   \n",
       "29972  20191127  SEBASTIEN   600     EX    51.4N      6.0W           40   \n",
       "29973  20191127  SEBASTIEN  1200     EX    51.3N      2.1W           40   \n",
       "\n",
       "       AirPressure  \n",
       "0             -999  \n",
       "1             -999  \n",
       "2             -999  \n",
       "3             -999  \n",
       "4             -999  \n",
       "...            ...  \n",
       "29969          970  \n",
       "29970          972  \n",
       "29971          974  \n",
       "29972          976  \n",
       "29973          980  \n",
       "\n",
       "[29974 rows x 8 columns]"
      ]
     },
     "execution_count": 3,
     "metadata": {},
     "output_type": "execute_result"
    }
   ],
   "source": [
    "main_df = main_csv_df #.drop(columns=(\"Unnamed: 8\"))\n",
    "main_df"
   ]
  },
  {
   "cell_type": "code",
   "execution_count": 4,
   "metadata": {},
   "outputs": [],
   "source": [
    "main_df.columns = main_df.columns.str.lower()"
   ]
  },
  {
   "cell_type": "code",
   "execution_count": 5,
   "metadata": {},
   "outputs": [
    {
     "data": {
      "text/html": [
       "<div>\n",
       "<style scoped>\n",
       "    .dataframe tbody tr th:only-of-type {\n",
       "        vertical-align: middle;\n",
       "    }\n",
       "\n",
       "    .dataframe tbody tr th {\n",
       "        vertical-align: top;\n",
       "    }\n",
       "\n",
       "    .dataframe thead th {\n",
       "        text-align: right;\n",
       "    }\n",
       "</style>\n",
       "<table border=\"1\" class=\"dataframe\">\n",
       "  <thead>\n",
       "    <tr style=\"text-align: right;\">\n",
       "      <th></th>\n",
       "      <th>date</th>\n",
       "      <th>name</th>\n",
       "      <th>time</th>\n",
       "      <th>status</th>\n",
       "      <th>latitude</th>\n",
       "      <th>longitude</th>\n",
       "      <th>max_wind</th>\n",
       "      <th>air_pressure</th>\n",
       "    </tr>\n",
       "  </thead>\n",
       "  <tbody>\n",
       "    <tr>\n",
       "      <th>0</th>\n",
       "      <td>19500812</td>\n",
       "      <td>ABLE</td>\n",
       "      <td>0</td>\n",
       "      <td>TS</td>\n",
       "      <td>17.1N</td>\n",
       "      <td>55.5W</td>\n",
       "      <td>35</td>\n",
       "      <td>-999</td>\n",
       "    </tr>\n",
       "    <tr>\n",
       "      <th>1</th>\n",
       "      <td>19500812</td>\n",
       "      <td>ABLE</td>\n",
       "      <td>600</td>\n",
       "      <td>TS</td>\n",
       "      <td>17.7N</td>\n",
       "      <td>56.3W</td>\n",
       "      <td>40</td>\n",
       "      <td>-999</td>\n",
       "    </tr>\n",
       "    <tr>\n",
       "      <th>2</th>\n",
       "      <td>19500812</td>\n",
       "      <td>ABLE</td>\n",
       "      <td>1200</td>\n",
       "      <td>TS</td>\n",
       "      <td>18.2N</td>\n",
       "      <td>57.4W</td>\n",
       "      <td>45</td>\n",
       "      <td>-999</td>\n",
       "    </tr>\n",
       "    <tr>\n",
       "      <th>3</th>\n",
       "      <td>19500812</td>\n",
       "      <td>ABLE</td>\n",
       "      <td>1800</td>\n",
       "      <td>TS</td>\n",
       "      <td>19.0N</td>\n",
       "      <td>58.6W</td>\n",
       "      <td>50</td>\n",
       "      <td>-999</td>\n",
       "    </tr>\n",
       "    <tr>\n",
       "      <th>4</th>\n",
       "      <td>19500813</td>\n",
       "      <td>ABLE</td>\n",
       "      <td>0</td>\n",
       "      <td>TS</td>\n",
       "      <td>20.0N</td>\n",
       "      <td>60.0W</td>\n",
       "      <td>50</td>\n",
       "      <td>-999</td>\n",
       "    </tr>\n",
       "    <tr>\n",
       "      <th>...</th>\n",
       "      <td>...</td>\n",
       "      <td>...</td>\n",
       "      <td>...</td>\n",
       "      <td>...</td>\n",
       "      <td>...</td>\n",
       "      <td>...</td>\n",
       "      <td>...</td>\n",
       "      <td>...</td>\n",
       "    </tr>\n",
       "    <tr>\n",
       "      <th>29969</th>\n",
       "      <td>20191126</td>\n",
       "      <td>SEBASTIEN</td>\n",
       "      <td>1200</td>\n",
       "      <td>EX</td>\n",
       "      <td>52.2N</td>\n",
       "      <td>9.3W</td>\n",
       "      <td>45</td>\n",
       "      <td>970</td>\n",
       "    </tr>\n",
       "    <tr>\n",
       "      <th>29970</th>\n",
       "      <td>20191126</td>\n",
       "      <td>SEBASTIEN</td>\n",
       "      <td>1800</td>\n",
       "      <td>EX</td>\n",
       "      <td>52.2N</td>\n",
       "      <td>8.9W</td>\n",
       "      <td>40</td>\n",
       "      <td>972</td>\n",
       "    </tr>\n",
       "    <tr>\n",
       "      <th>29971</th>\n",
       "      <td>20191127</td>\n",
       "      <td>SEBASTIEN</td>\n",
       "      <td>0</td>\n",
       "      <td>EX</td>\n",
       "      <td>51.8N</td>\n",
       "      <td>8.2W</td>\n",
       "      <td>40</td>\n",
       "      <td>974</td>\n",
       "    </tr>\n",
       "    <tr>\n",
       "      <th>29972</th>\n",
       "      <td>20191127</td>\n",
       "      <td>SEBASTIEN</td>\n",
       "      <td>600</td>\n",
       "      <td>EX</td>\n",
       "      <td>51.4N</td>\n",
       "      <td>6.0W</td>\n",
       "      <td>40</td>\n",
       "      <td>976</td>\n",
       "    </tr>\n",
       "    <tr>\n",
       "      <th>29973</th>\n",
       "      <td>20191127</td>\n",
       "      <td>SEBASTIEN</td>\n",
       "      <td>1200</td>\n",
       "      <td>EX</td>\n",
       "      <td>51.3N</td>\n",
       "      <td>2.1W</td>\n",
       "      <td>40</td>\n",
       "      <td>980</td>\n",
       "    </tr>\n",
       "  </tbody>\n",
       "</table>\n",
       "<p>29974 rows × 8 columns</p>\n",
       "</div>"
      ],
      "text/plain": [
       "           date       name  time status latitude longitude  max_wind  \\\n",
       "0      19500812       ABLE     0     TS    17.1N     55.5W        35   \n",
       "1      19500812       ABLE   600     TS    17.7N     56.3W        40   \n",
       "2      19500812       ABLE  1200     TS    18.2N     57.4W        45   \n",
       "3      19500812       ABLE  1800     TS    19.0N     58.6W        50   \n",
       "4      19500813       ABLE     0     TS    20.0N     60.0W        50   \n",
       "...         ...        ...   ...    ...      ...       ...       ...   \n",
       "29969  20191126  SEBASTIEN  1200     EX    52.2N      9.3W        45   \n",
       "29970  20191126  SEBASTIEN  1800     EX    52.2N      8.9W        40   \n",
       "29971  20191127  SEBASTIEN     0     EX    51.8N      8.2W        40   \n",
       "29972  20191127  SEBASTIEN   600     EX    51.4N      6.0W        40   \n",
       "29973  20191127  SEBASTIEN  1200     EX    51.3N      2.1W        40   \n",
       "\n",
       "       air_pressure  \n",
       "0              -999  \n",
       "1              -999  \n",
       "2              -999  \n",
       "3              -999  \n",
       "4              -999  \n",
       "...             ...  \n",
       "29969           970  \n",
       "29970           972  \n",
       "29971           974  \n",
       "29972           976  \n",
       "29973           980  \n",
       "\n",
       "[29974 rows x 8 columns]"
      ]
     },
     "execution_count": 5,
     "metadata": {},
     "output_type": "execute_result"
    }
   ],
   "source": [
    "main_df.rename(columns={'maximumwind':'max_wind','airpressure':'air_pressure'}, inplace=True)\n",
    "main_df"
   ]
  },
  {
   "cell_type": "code",
   "execution_count": 6,
   "metadata": {},
   "outputs": [
    {
     "data": {
      "text/plain": [
       "0        55.5W\n",
       "1        56.3W\n",
       "2        57.4W\n",
       "3        58.6W\n",
       "4        60.0W\n",
       "         ...  \n",
       "29969     9.3W\n",
       "29970     8.9W\n",
       "29971     8.2W\n",
       "29972     6.0W\n",
       "29973     2.1W\n",
       "Name: longitude, Length: 29974, dtype: object"
      ]
     },
     "execution_count": 6,
     "metadata": {},
     "output_type": "execute_result"
    }
   ],
   "source": [
    "longitudes = main_df['longitude']\n",
    "longitudes"
   ]
  },
  {
   "cell_type": "code",
   "execution_count": 7,
   "metadata": {},
   "outputs": [
    {
     "name": "stdout",
     "output_type": "stream",
     "text": [
      "[-55.08, -56.05, -57.07, -58.1, -60.0]\n"
     ]
    }
   ],
   "source": [
    "long_list = []\n",
    "for i in range(len(longitudes)):\n",
    "    longitude = longitudes[i]\n",
    "    W = 'W' in longitude\n",
    "    d, m = map(float, longitude[:-1].split('.'))\n",
    "    longitude = (d + m / 60.) * (-1 if W else 1)\n",
    "    long_list.append(round(longitude, 2))\n",
    "print(long_list[:5])"
   ]
  },
  {
   "cell_type": "code",
   "execution_count": 8,
   "metadata": {},
   "outputs": [],
   "source": [
    "latitudes = main_df['latitude']"
   ]
  },
  {
   "cell_type": "code",
   "execution_count": 9,
   "metadata": {},
   "outputs": [
    {
     "name": "stdout",
     "output_type": "stream",
     "text": [
      "[17.02, 17.12, 18.03, 19.0, 20.0]\n"
     ]
    }
   ],
   "source": [
    "lat_list = []\n",
    "for i in range(len(latitudes)):\n",
    "    latitude = latitudes[i]\n",
    "    N = 'N' in latitude\n",
    "    d, m = map(float, latitude[:-1].split('.'))\n",
    "    latitude = (d + m / 60.) * (1 if N else -1)\n",
    "    lat_list.append(round(latitude, 2))\n",
    "print(lat_list[:5])"
   ]
  },
  {
   "cell_type": "code",
   "execution_count": 10,
   "metadata": {},
   "outputs": [],
   "source": [
    "main_df['latitude_decimal'] = lat_list\n",
    "main_df['longitude_decimal'] = long_list"
   ]
  },
  {
   "cell_type": "code",
   "execution_count": 11,
   "metadata": {},
   "outputs": [
    {
     "data": {
      "text/plain": [
       "29974"
      ]
     },
     "execution_count": 11,
     "metadata": {},
     "output_type": "execute_result"
    }
   ],
   "source": [
    "len(main_df)"
   ]
  },
  {
   "cell_type": "code",
   "execution_count": 12,
   "metadata": {},
   "outputs": [
    {
     "data": {
      "text/html": [
       "<div>\n",
       "<style scoped>\n",
       "    .dataframe tbody tr th:only-of-type {\n",
       "        vertical-align: middle;\n",
       "    }\n",
       "\n",
       "    .dataframe tbody tr th {\n",
       "        vertical-align: top;\n",
       "    }\n",
       "\n",
       "    .dataframe thead th {\n",
       "        text-align: right;\n",
       "    }\n",
       "</style>\n",
       "<table border=\"1\" class=\"dataframe\">\n",
       "  <thead>\n",
       "    <tr style=\"text-align: right;\">\n",
       "      <th></th>\n",
       "      <th>date</th>\n",
       "      <th>name</th>\n",
       "      <th>time</th>\n",
       "      <th>status</th>\n",
       "      <th>latitude</th>\n",
       "      <th>longitude</th>\n",
       "      <th>max_wind</th>\n",
       "      <th>air_pressure</th>\n",
       "      <th>latitude_decimal</th>\n",
       "      <th>longitude_decimal</th>\n",
       "    </tr>\n",
       "  </thead>\n",
       "  <tbody>\n",
       "    <tr>\n",
       "      <th>0</th>\n",
       "      <td>19500812</td>\n",
       "      <td>ABLE</td>\n",
       "      <td>0</td>\n",
       "      <td>TS</td>\n",
       "      <td>17.1N</td>\n",
       "      <td>55.5W</td>\n",
       "      <td>35</td>\n",
       "      <td>-999</td>\n",
       "      <td>17.02</td>\n",
       "      <td>-55.08</td>\n",
       "    </tr>\n",
       "    <tr>\n",
       "      <th>1</th>\n",
       "      <td>19500812</td>\n",
       "      <td>ABLE</td>\n",
       "      <td>600</td>\n",
       "      <td>TS</td>\n",
       "      <td>17.7N</td>\n",
       "      <td>56.3W</td>\n",
       "      <td>40</td>\n",
       "      <td>-999</td>\n",
       "      <td>17.12</td>\n",
       "      <td>-56.05</td>\n",
       "    </tr>\n",
       "    <tr>\n",
       "      <th>2</th>\n",
       "      <td>19500812</td>\n",
       "      <td>ABLE</td>\n",
       "      <td>1200</td>\n",
       "      <td>TS</td>\n",
       "      <td>18.2N</td>\n",
       "      <td>57.4W</td>\n",
       "      <td>45</td>\n",
       "      <td>-999</td>\n",
       "      <td>18.03</td>\n",
       "      <td>-57.07</td>\n",
       "    </tr>\n",
       "    <tr>\n",
       "      <th>3</th>\n",
       "      <td>19500812</td>\n",
       "      <td>ABLE</td>\n",
       "      <td>1800</td>\n",
       "      <td>TS</td>\n",
       "      <td>19.0N</td>\n",
       "      <td>58.6W</td>\n",
       "      <td>50</td>\n",
       "      <td>-999</td>\n",
       "      <td>19.00</td>\n",
       "      <td>-58.10</td>\n",
       "    </tr>\n",
       "    <tr>\n",
       "      <th>4</th>\n",
       "      <td>19500813</td>\n",
       "      <td>ABLE</td>\n",
       "      <td>0</td>\n",
       "      <td>TS</td>\n",
       "      <td>20.0N</td>\n",
       "      <td>60.0W</td>\n",
       "      <td>50</td>\n",
       "      <td>-999</td>\n",
       "      <td>20.00</td>\n",
       "      <td>-60.00</td>\n",
       "    </tr>\n",
       "    <tr>\n",
       "      <th>...</th>\n",
       "      <td>...</td>\n",
       "      <td>...</td>\n",
       "      <td>...</td>\n",
       "      <td>...</td>\n",
       "      <td>...</td>\n",
       "      <td>...</td>\n",
       "      <td>...</td>\n",
       "      <td>...</td>\n",
       "      <td>...</td>\n",
       "      <td>...</td>\n",
       "    </tr>\n",
       "    <tr>\n",
       "      <th>29969</th>\n",
       "      <td>20191126</td>\n",
       "      <td>SEBASTIEN</td>\n",
       "      <td>1200</td>\n",
       "      <td>EX</td>\n",
       "      <td>52.2N</td>\n",
       "      <td>9.3W</td>\n",
       "      <td>45</td>\n",
       "      <td>970</td>\n",
       "      <td>52.03</td>\n",
       "      <td>-9.05</td>\n",
       "    </tr>\n",
       "    <tr>\n",
       "      <th>29970</th>\n",
       "      <td>20191126</td>\n",
       "      <td>SEBASTIEN</td>\n",
       "      <td>1800</td>\n",
       "      <td>EX</td>\n",
       "      <td>52.2N</td>\n",
       "      <td>8.9W</td>\n",
       "      <td>40</td>\n",
       "      <td>972</td>\n",
       "      <td>52.03</td>\n",
       "      <td>-8.15</td>\n",
       "    </tr>\n",
       "    <tr>\n",
       "      <th>29971</th>\n",
       "      <td>20191127</td>\n",
       "      <td>SEBASTIEN</td>\n",
       "      <td>0</td>\n",
       "      <td>EX</td>\n",
       "      <td>51.8N</td>\n",
       "      <td>8.2W</td>\n",
       "      <td>40</td>\n",
       "      <td>974</td>\n",
       "      <td>51.13</td>\n",
       "      <td>-8.03</td>\n",
       "    </tr>\n",
       "    <tr>\n",
       "      <th>29972</th>\n",
       "      <td>20191127</td>\n",
       "      <td>SEBASTIEN</td>\n",
       "      <td>600</td>\n",
       "      <td>EX</td>\n",
       "      <td>51.4N</td>\n",
       "      <td>6.0W</td>\n",
       "      <td>40</td>\n",
       "      <td>976</td>\n",
       "      <td>51.07</td>\n",
       "      <td>-6.00</td>\n",
       "    </tr>\n",
       "    <tr>\n",
       "      <th>29973</th>\n",
       "      <td>20191127</td>\n",
       "      <td>SEBASTIEN</td>\n",
       "      <td>1200</td>\n",
       "      <td>EX</td>\n",
       "      <td>51.3N</td>\n",
       "      <td>2.1W</td>\n",
       "      <td>40</td>\n",
       "      <td>980</td>\n",
       "      <td>51.05</td>\n",
       "      <td>-2.02</td>\n",
       "    </tr>\n",
       "  </tbody>\n",
       "</table>\n",
       "<p>29974 rows × 10 columns</p>\n",
       "</div>"
      ],
      "text/plain": [
       "           date       name  time status latitude longitude  max_wind  \\\n",
       "0      19500812       ABLE     0     TS    17.1N     55.5W        35   \n",
       "1      19500812       ABLE   600     TS    17.7N     56.3W        40   \n",
       "2      19500812       ABLE  1200     TS    18.2N     57.4W        45   \n",
       "3      19500812       ABLE  1800     TS    19.0N     58.6W        50   \n",
       "4      19500813       ABLE     0     TS    20.0N     60.0W        50   \n",
       "...         ...        ...   ...    ...      ...       ...       ...   \n",
       "29969  20191126  SEBASTIEN  1200     EX    52.2N      9.3W        45   \n",
       "29970  20191126  SEBASTIEN  1800     EX    52.2N      8.9W        40   \n",
       "29971  20191127  SEBASTIEN     0     EX    51.8N      8.2W        40   \n",
       "29972  20191127  SEBASTIEN   600     EX    51.4N      6.0W        40   \n",
       "29973  20191127  SEBASTIEN  1200     EX    51.3N      2.1W        40   \n",
       "\n",
       "       air_pressure  latitude_decimal  longitude_decimal  \n",
       "0              -999             17.02             -55.08  \n",
       "1              -999             17.12             -56.05  \n",
       "2              -999             18.03             -57.07  \n",
       "3              -999             19.00             -58.10  \n",
       "4              -999             20.00             -60.00  \n",
       "...             ...               ...                ...  \n",
       "29969           970             52.03              -9.05  \n",
       "29970           972             52.03              -8.15  \n",
       "29971           974             51.13              -8.03  \n",
       "29972           976             51.07              -6.00  \n",
       "29973           980             51.05              -2.02  \n",
       "\n",
       "[29974 rows x 10 columns]"
      ]
     },
     "execution_count": 12,
     "metadata": {},
     "output_type": "execute_result"
    }
   ],
   "source": [
    "clean_df = main_df.dropna()\n",
    "clean_df"
   ]
  },
  {
   "cell_type": "code",
   "execution_count": 13,
   "metadata": {},
   "outputs": [
    {
     "data": {
      "text/plain": [
       "29974"
      ]
     },
     "execution_count": 13,
     "metadata": {},
     "output_type": "execute_result"
    }
   ],
   "source": [
    "len(clean_df)"
   ]
  },
  {
   "cell_type": "markdown",
   "metadata": {},
   "source": [
    "### Group by hurricane name to assign unique ID"
   ]
  },
  {
   "cell_type": "code",
   "execution_count": 14,
   "metadata": {},
   "outputs": [],
   "source": [
    "# Need to create a df with unique hurricanes IDs, based on name and date"
   ]
  },
  {
   "cell_type": "code",
   "execution_count": 15,
   "metadata": {},
   "outputs": [],
   "source": [
    "dates = clean_df['date']"
   ]
  },
  {
   "cell_type": "code",
   "execution_count": 16,
   "metadata": {},
   "outputs": [],
   "source": [
    "# Extract year column from date\n",
    "years = []\n",
    "for i in range(len(dates)):\n",
    "    split_str = int(str(dates[i])[:4])\n",
    "    years.append(split_str)"
   ]
  },
  {
   "cell_type": "code",
   "execution_count": 17,
   "metadata": {},
   "outputs": [
    {
     "name": "stdout",
     "output_type": "stream",
     "text": [
      "29974\n"
     ]
    }
   ],
   "source": [
    "print(len(years))"
   ]
  },
  {
   "cell_type": "code",
   "execution_count": 18,
   "metadata": {},
   "outputs": [
    {
     "data": {
      "text/html": [
       "<div>\n",
       "<style scoped>\n",
       "    .dataframe tbody tr th:only-of-type {\n",
       "        vertical-align: middle;\n",
       "    }\n",
       "\n",
       "    .dataframe tbody tr th {\n",
       "        vertical-align: top;\n",
       "    }\n",
       "\n",
       "    .dataframe thead th {\n",
       "        text-align: right;\n",
       "    }\n",
       "</style>\n",
       "<table border=\"1\" class=\"dataframe\">\n",
       "  <thead>\n",
       "    <tr style=\"text-align: right;\">\n",
       "      <th></th>\n",
       "      <th>date</th>\n",
       "      <th>name</th>\n",
       "      <th>time</th>\n",
       "      <th>status</th>\n",
       "      <th>latitude</th>\n",
       "      <th>longitude</th>\n",
       "      <th>max_wind</th>\n",
       "      <th>air_pressure</th>\n",
       "      <th>latitude_decimal</th>\n",
       "      <th>longitude_decimal</th>\n",
       "      <th>year</th>\n",
       "    </tr>\n",
       "  </thead>\n",
       "  <tbody>\n",
       "    <tr>\n",
       "      <th>0</th>\n",
       "      <td>19500812</td>\n",
       "      <td>ABLE</td>\n",
       "      <td>0</td>\n",
       "      <td>TS</td>\n",
       "      <td>17.1N</td>\n",
       "      <td>55.5W</td>\n",
       "      <td>35</td>\n",
       "      <td>-999</td>\n",
       "      <td>17.02</td>\n",
       "      <td>-55.08</td>\n",
       "      <td>1950</td>\n",
       "    </tr>\n",
       "    <tr>\n",
       "      <th>1</th>\n",
       "      <td>19500812</td>\n",
       "      <td>ABLE</td>\n",
       "      <td>600</td>\n",
       "      <td>TS</td>\n",
       "      <td>17.7N</td>\n",
       "      <td>56.3W</td>\n",
       "      <td>40</td>\n",
       "      <td>-999</td>\n",
       "      <td>17.12</td>\n",
       "      <td>-56.05</td>\n",
       "      <td>1950</td>\n",
       "    </tr>\n",
       "    <tr>\n",
       "      <th>2</th>\n",
       "      <td>19500812</td>\n",
       "      <td>ABLE</td>\n",
       "      <td>1200</td>\n",
       "      <td>TS</td>\n",
       "      <td>18.2N</td>\n",
       "      <td>57.4W</td>\n",
       "      <td>45</td>\n",
       "      <td>-999</td>\n",
       "      <td>18.03</td>\n",
       "      <td>-57.07</td>\n",
       "      <td>1950</td>\n",
       "    </tr>\n",
       "    <tr>\n",
       "      <th>3</th>\n",
       "      <td>19500812</td>\n",
       "      <td>ABLE</td>\n",
       "      <td>1800</td>\n",
       "      <td>TS</td>\n",
       "      <td>19.0N</td>\n",
       "      <td>58.6W</td>\n",
       "      <td>50</td>\n",
       "      <td>-999</td>\n",
       "      <td>19.00</td>\n",
       "      <td>-58.10</td>\n",
       "      <td>1950</td>\n",
       "    </tr>\n",
       "    <tr>\n",
       "      <th>4</th>\n",
       "      <td>19500813</td>\n",
       "      <td>ABLE</td>\n",
       "      <td>0</td>\n",
       "      <td>TS</td>\n",
       "      <td>20.0N</td>\n",
       "      <td>60.0W</td>\n",
       "      <td>50</td>\n",
       "      <td>-999</td>\n",
       "      <td>20.00</td>\n",
       "      <td>-60.00</td>\n",
       "      <td>1950</td>\n",
       "    </tr>\n",
       "  </tbody>\n",
       "</table>\n",
       "</div>"
      ],
      "text/plain": [
       "       date  name  time status latitude longitude  max_wind  air_pressure  \\\n",
       "0  19500812  ABLE     0     TS    17.1N     55.5W        35          -999   \n",
       "1  19500812  ABLE   600     TS    17.7N     56.3W        40          -999   \n",
       "2  19500812  ABLE  1200     TS    18.2N     57.4W        45          -999   \n",
       "3  19500812  ABLE  1800     TS    19.0N     58.6W        50          -999   \n",
       "4  19500813  ABLE     0     TS    20.0N     60.0W        50          -999   \n",
       "\n",
       "   latitude_decimal  longitude_decimal  year  \n",
       "0             17.02             -55.08  1950  \n",
       "1             17.12             -56.05  1950  \n",
       "2             18.03             -57.07  1950  \n",
       "3             19.00             -58.10  1950  \n",
       "4             20.00             -60.00  1950  "
      ]
     },
     "execution_count": 18,
     "metadata": {},
     "output_type": "execute_result"
    }
   ],
   "source": [
    "clean_df['year'] = years\n",
    "clean_df.head()"
   ]
  },
  {
   "cell_type": "markdown",
   "metadata": {},
   "source": [
    "### Rename hurricanes to Capitalized"
   ]
  },
  {
   "cell_type": "code",
   "execution_count": 19,
   "metadata": {},
   "outputs": [
    {
     "data": {
      "text/html": [
       "<div>\n",
       "<style scoped>\n",
       "    .dataframe tbody tr th:only-of-type {\n",
       "        vertical-align: middle;\n",
       "    }\n",
       "\n",
       "    .dataframe tbody tr th {\n",
       "        vertical-align: top;\n",
       "    }\n",
       "\n",
       "    .dataframe thead th {\n",
       "        text-align: right;\n",
       "    }\n",
       "</style>\n",
       "<table border=\"1\" class=\"dataframe\">\n",
       "  <thead>\n",
       "    <tr style=\"text-align: right;\">\n",
       "      <th></th>\n",
       "      <th>date</th>\n",
       "      <th>name</th>\n",
       "      <th>time</th>\n",
       "      <th>status</th>\n",
       "      <th>latitude</th>\n",
       "      <th>longitude</th>\n",
       "      <th>max_wind</th>\n",
       "      <th>air_pressure</th>\n",
       "      <th>latitude_decimal</th>\n",
       "      <th>longitude_decimal</th>\n",
       "      <th>year</th>\n",
       "    </tr>\n",
       "  </thead>\n",
       "  <tbody>\n",
       "    <tr>\n",
       "      <th>0</th>\n",
       "      <td>19500812</td>\n",
       "      <td>Able</td>\n",
       "      <td>0</td>\n",
       "      <td>TS</td>\n",
       "      <td>17.1N</td>\n",
       "      <td>55.5W</td>\n",
       "      <td>35</td>\n",
       "      <td>-999</td>\n",
       "      <td>17.02</td>\n",
       "      <td>-55.08</td>\n",
       "      <td>1950</td>\n",
       "    </tr>\n",
       "    <tr>\n",
       "      <th>1</th>\n",
       "      <td>19500812</td>\n",
       "      <td>Able</td>\n",
       "      <td>600</td>\n",
       "      <td>TS</td>\n",
       "      <td>17.7N</td>\n",
       "      <td>56.3W</td>\n",
       "      <td>40</td>\n",
       "      <td>-999</td>\n",
       "      <td>17.12</td>\n",
       "      <td>-56.05</td>\n",
       "      <td>1950</td>\n",
       "    </tr>\n",
       "    <tr>\n",
       "      <th>2</th>\n",
       "      <td>19500812</td>\n",
       "      <td>Able</td>\n",
       "      <td>1200</td>\n",
       "      <td>TS</td>\n",
       "      <td>18.2N</td>\n",
       "      <td>57.4W</td>\n",
       "      <td>45</td>\n",
       "      <td>-999</td>\n",
       "      <td>18.03</td>\n",
       "      <td>-57.07</td>\n",
       "      <td>1950</td>\n",
       "    </tr>\n",
       "    <tr>\n",
       "      <th>3</th>\n",
       "      <td>19500812</td>\n",
       "      <td>Able</td>\n",
       "      <td>1800</td>\n",
       "      <td>TS</td>\n",
       "      <td>19.0N</td>\n",
       "      <td>58.6W</td>\n",
       "      <td>50</td>\n",
       "      <td>-999</td>\n",
       "      <td>19.00</td>\n",
       "      <td>-58.10</td>\n",
       "      <td>1950</td>\n",
       "    </tr>\n",
       "    <tr>\n",
       "      <th>4</th>\n",
       "      <td>19500813</td>\n",
       "      <td>Able</td>\n",
       "      <td>0</td>\n",
       "      <td>TS</td>\n",
       "      <td>20.0N</td>\n",
       "      <td>60.0W</td>\n",
       "      <td>50</td>\n",
       "      <td>-999</td>\n",
       "      <td>20.00</td>\n",
       "      <td>-60.00</td>\n",
       "      <td>1950</td>\n",
       "    </tr>\n",
       "  </tbody>\n",
       "</table>\n",
       "</div>"
      ],
      "text/plain": [
       "       date  name  time status latitude longitude  max_wind  air_pressure  \\\n",
       "0  19500812  Able     0     TS    17.1N     55.5W        35          -999   \n",
       "1  19500812  Able   600     TS    17.7N     56.3W        40          -999   \n",
       "2  19500812  Able  1200     TS    18.2N     57.4W        45          -999   \n",
       "3  19500812  Able  1800     TS    19.0N     58.6W        50          -999   \n",
       "4  19500813  Able     0     TS    20.0N     60.0W        50          -999   \n",
       "\n",
       "   latitude_decimal  longitude_decimal  year  \n",
       "0             17.02             -55.08  1950  \n",
       "1             17.12             -56.05  1950  \n",
       "2             18.03             -57.07  1950  \n",
       "3             19.00             -58.10  1950  \n",
       "4             20.00             -60.00  1950  "
      ]
     },
     "execution_count": 19,
     "metadata": {},
     "output_type": "execute_result"
    }
   ],
   "source": [
    "names = clean_df['name']\n",
    "names_capitalized = names.str.title()\n",
    "names_capitalized\n",
    "clean_df['name'] = names_capitalized\n",
    "clean_df.head()"
   ]
  },
  {
   "cell_type": "code",
   "execution_count": 20,
   "metadata": {},
   "outputs": [
    {
     "data": {
      "text/html": [
       "<div>\n",
       "<style scoped>\n",
       "    .dataframe tbody tr th:only-of-type {\n",
       "        vertical-align: middle;\n",
       "    }\n",
       "\n",
       "    .dataframe tbody tr th {\n",
       "        vertical-align: top;\n",
       "    }\n",
       "\n",
       "    .dataframe thead th {\n",
       "        text-align: right;\n",
       "    }\n",
       "</style>\n",
       "<table border=\"1\" class=\"dataframe\">\n",
       "  <thead>\n",
       "    <tr style=\"text-align: right;\">\n",
       "      <th></th>\n",
       "      <th>date</th>\n",
       "      <th>name</th>\n",
       "      <th>time</th>\n",
       "      <th>status</th>\n",
       "      <th>latitude</th>\n",
       "      <th>longitude</th>\n",
       "      <th>max_wind</th>\n",
       "      <th>air_pressure</th>\n",
       "      <th>latitude_decimal</th>\n",
       "      <th>longitude_decimal</th>\n",
       "      <th>year</th>\n",
       "    </tr>\n",
       "  </thead>\n",
       "  <tbody>\n",
       "    <tr>\n",
       "      <th>29874</th>\n",
       "      <td>20191018</td>\n",
       "      <td>Nestor</td>\n",
       "      <td>1200</td>\n",
       "      <td>DB</td>\n",
       "      <td>25.2N</td>\n",
       "      <td>91.2W</td>\n",
       "      <td>50</td>\n",
       "      <td>1001</td>\n",
       "      <td>25.03</td>\n",
       "      <td>-91.03</td>\n",
       "      <td>2019</td>\n",
       "    </tr>\n",
       "    <tr>\n",
       "      <th>29875</th>\n",
       "      <td>20191018</td>\n",
       "      <td>Nestor</td>\n",
       "      <td>1800</td>\n",
       "      <td>TS</td>\n",
       "      <td>26.4N</td>\n",
       "      <td>89.4W</td>\n",
       "      <td>50</td>\n",
       "      <td>1000</td>\n",
       "      <td>26.07</td>\n",
       "      <td>-89.07</td>\n",
       "      <td>2019</td>\n",
       "    </tr>\n",
       "    <tr>\n",
       "      <th>29876</th>\n",
       "      <td>20191019</td>\n",
       "      <td>Nestor</td>\n",
       "      <td>0</td>\n",
       "      <td>TS</td>\n",
       "      <td>27.8N</td>\n",
       "      <td>87.8W</td>\n",
       "      <td>50</td>\n",
       "      <td>996</td>\n",
       "      <td>27.13</td>\n",
       "      <td>-87.13</td>\n",
       "      <td>2019</td>\n",
       "    </tr>\n",
       "    <tr>\n",
       "      <th>29877</th>\n",
       "      <td>20191019</td>\n",
       "      <td>Nestor</td>\n",
       "      <td>600</td>\n",
       "      <td>TS</td>\n",
       "      <td>28.6N</td>\n",
       "      <td>87.1W</td>\n",
       "      <td>50</td>\n",
       "      <td>996</td>\n",
       "      <td>28.10</td>\n",
       "      <td>-87.02</td>\n",
       "      <td>2019</td>\n",
       "    </tr>\n",
       "    <tr>\n",
       "      <th>29878</th>\n",
       "      <td>20191019</td>\n",
       "      <td>Nestor</td>\n",
       "      <td>1200</td>\n",
       "      <td>EX</td>\n",
       "      <td>29.3N</td>\n",
       "      <td>86.4W</td>\n",
       "      <td>40</td>\n",
       "      <td>996</td>\n",
       "      <td>29.05</td>\n",
       "      <td>-86.07</td>\n",
       "      <td>2019</td>\n",
       "    </tr>\n",
       "    <tr>\n",
       "      <th>...</th>\n",
       "      <td>...</td>\n",
       "      <td>...</td>\n",
       "      <td>...</td>\n",
       "      <td>...</td>\n",
       "      <td>...</td>\n",
       "      <td>...</td>\n",
       "      <td>...</td>\n",
       "      <td>...</td>\n",
       "      <td>...</td>\n",
       "      <td>...</td>\n",
       "      <td>...</td>\n",
       "    </tr>\n",
       "    <tr>\n",
       "      <th>29969</th>\n",
       "      <td>20191126</td>\n",
       "      <td>Sebastien</td>\n",
       "      <td>1200</td>\n",
       "      <td>EX</td>\n",
       "      <td>52.2N</td>\n",
       "      <td>9.3W</td>\n",
       "      <td>45</td>\n",
       "      <td>970</td>\n",
       "      <td>52.03</td>\n",
       "      <td>-9.05</td>\n",
       "      <td>2019</td>\n",
       "    </tr>\n",
       "    <tr>\n",
       "      <th>29970</th>\n",
       "      <td>20191126</td>\n",
       "      <td>Sebastien</td>\n",
       "      <td>1800</td>\n",
       "      <td>EX</td>\n",
       "      <td>52.2N</td>\n",
       "      <td>8.9W</td>\n",
       "      <td>40</td>\n",
       "      <td>972</td>\n",
       "      <td>52.03</td>\n",
       "      <td>-8.15</td>\n",
       "      <td>2019</td>\n",
       "    </tr>\n",
       "    <tr>\n",
       "      <th>29971</th>\n",
       "      <td>20191127</td>\n",
       "      <td>Sebastien</td>\n",
       "      <td>0</td>\n",
       "      <td>EX</td>\n",
       "      <td>51.8N</td>\n",
       "      <td>8.2W</td>\n",
       "      <td>40</td>\n",
       "      <td>974</td>\n",
       "      <td>51.13</td>\n",
       "      <td>-8.03</td>\n",
       "      <td>2019</td>\n",
       "    </tr>\n",
       "    <tr>\n",
       "      <th>29972</th>\n",
       "      <td>20191127</td>\n",
       "      <td>Sebastien</td>\n",
       "      <td>600</td>\n",
       "      <td>EX</td>\n",
       "      <td>51.4N</td>\n",
       "      <td>6.0W</td>\n",
       "      <td>40</td>\n",
       "      <td>976</td>\n",
       "      <td>51.07</td>\n",
       "      <td>-6.00</td>\n",
       "      <td>2019</td>\n",
       "    </tr>\n",
       "    <tr>\n",
       "      <th>29973</th>\n",
       "      <td>20191127</td>\n",
       "      <td>Sebastien</td>\n",
       "      <td>1200</td>\n",
       "      <td>EX</td>\n",
       "      <td>51.3N</td>\n",
       "      <td>2.1W</td>\n",
       "      <td>40</td>\n",
       "      <td>980</td>\n",
       "      <td>51.05</td>\n",
       "      <td>-2.02</td>\n",
       "      <td>2019</td>\n",
       "    </tr>\n",
       "  </tbody>\n",
       "</table>\n",
       "<p>100 rows × 11 columns</p>\n",
       "</div>"
      ],
      "text/plain": [
       "           date       name  time status latitude longitude  max_wind  \\\n",
       "29874  20191018     Nestor  1200     DB    25.2N     91.2W        50   \n",
       "29875  20191018     Nestor  1800     TS    26.4N     89.4W        50   \n",
       "29876  20191019     Nestor     0     TS    27.8N     87.8W        50   \n",
       "29877  20191019     Nestor   600     TS    28.6N     87.1W        50   \n",
       "29878  20191019     Nestor  1200     EX    29.3N     86.4W        40   \n",
       "...         ...        ...   ...    ...      ...       ...       ...   \n",
       "29969  20191126  Sebastien  1200     EX    52.2N      9.3W        45   \n",
       "29970  20191126  Sebastien  1800     EX    52.2N      8.9W        40   \n",
       "29971  20191127  Sebastien     0     EX    51.8N      8.2W        40   \n",
       "29972  20191127  Sebastien   600     EX    51.4N      6.0W        40   \n",
       "29973  20191127  Sebastien  1200     EX    51.3N      2.1W        40   \n",
       "\n",
       "       air_pressure  latitude_decimal  longitude_decimal  year  \n",
       "29874          1001             25.03             -91.03  2019  \n",
       "29875          1000             26.07             -89.07  2019  \n",
       "29876           996             27.13             -87.13  2019  \n",
       "29877           996             28.10             -87.02  2019  \n",
       "29878           996             29.05             -86.07  2019  \n",
       "...             ...               ...                ...   ...  \n",
       "29969           970             52.03              -9.05  2019  \n",
       "29970           972             52.03              -8.15  2019  \n",
       "29971           974             51.13              -8.03  2019  \n",
       "29972           976             51.07              -6.00  2019  \n",
       "29973           980             51.05              -2.02  2019  \n",
       "\n",
       "[100 rows x 11 columns]"
      ]
     },
     "execution_count": 20,
     "metadata": {},
     "output_type": "execute_result"
    }
   ],
   "source": [
    "clean_df.tail(100)"
   ]
  },
  {
   "cell_type": "markdown",
   "metadata": {},
   "source": [
    "### Find duplicated names"
   ]
  },
  {
   "cell_type": "code",
   "execution_count": 21,
   "metadata": {},
   "outputs": [
    {
     "data": {
      "text/plain": [
       "array(['Able', 'Baker', 'Charlie', 'Dog', 'Easy', 'Fox', 'George', 'How',\n",
       "       'Item', 'Jig', 'King', 'Unnamed', 'Love', 'Mike', 'Alice',\n",
       "       'Barbara', 'Carol', 'Dolly', 'Edna', 'Florence', 'Gail', 'Hazel',\n",
       "       'Gilda', 'Brenda', 'Connie', 'Diane', 'Edith', 'Flora', 'Gladys',\n",
       "       'Ione', 'Hilda', 'Janet', 'Katie', 'Anna', 'Betsy', 'Carla',\n",
       "       'Dora', 'Ethel', 'Flossy', 'Greta', 'Audrey', 'Bertha', 'Carrie',\n",
       "       'Debbie', 'Esther', 'Frieda', 'Alma', 'Becky', 'Cleo', 'Daisy',\n",
       "       'Ella', 'Fifi', 'Gerda', 'Helene', 'Ilsa', 'Janice', 'Arlene',\n",
       "       'Beulah', 'Cindy', 'Debra', 'Gracie', 'Hannah', 'Irene', 'Judith',\n",
       "       'Abby', 'Donna', 'Frances', 'Hattie', 'Jenny', 'Inga', 'Celia',\n",
       "       'Ginny', 'Helena', 'Isbell', 'Elena', 'Dorothy', 'Faith', 'Hallie',\n",
       "       'Inez', 'Lois', 'Chloe', 'Doria', 'Fern', 'Ginger', 'Heidi',\n",
       "       'Candy', 'Blanche', 'Camille', 'Eve', 'Francelia', 'Holly', 'Kara',\n",
       "       'Laurie', 'Martha', 'Felice', 'Beth', 'Kristy', 'Laura', 'Alpha',\n",
       "       'Agnes', 'Betty', 'Dawn', 'Delta', 'Alfa', 'Christine', 'Delia',\n",
       "       'Ellen', 'Fran', 'Carmen', 'Elaine', 'Gertrude', 'Amy', 'Caroline',\n",
       "       'Doris', 'Eloise', 'Faye', 'Belle', 'Dottie', 'Candice', 'Emmy',\n",
       "       'Gloria', 'Anita', 'Babe', 'Clara', 'Evelyn', 'Amelia', 'Bess',\n",
       "       'Cora', 'Flossie', 'Hope', 'Irma', 'Juliet', 'Kendra', 'Ana',\n",
       "       'Bob', 'Claudette', 'David', 'Frederic', 'Henri', 'Allen',\n",
       "       'Bonnie', 'Charley', 'Georges', 'Earl', 'Danielle', 'Hermine',\n",
       "       'Ivan', 'Jeanne', 'Karl', 'Bret', 'Dennis', 'Emily', 'Floyd',\n",
       "       'Gert', 'Harvey', 'Jose', 'Katrina', 'Alberto', 'Beryl', 'Chris',\n",
       "       'Debby', 'Ernesto', 'Alicia', 'Barry', 'Chantal', 'Dean', 'Arthur',\n",
       "       'Cesar', 'Diana', 'Edouard', 'Gustav', 'Hortense', 'Isidore',\n",
       "       'Josephine', 'Klaus', 'Lili', 'Danny', 'Fabian', 'Isabel', 'Juan',\n",
       "       'Kate', 'Andrew', 'Gilbert', 'Isaac', 'Joan', 'Keith', 'Allison',\n",
       "       'Erin', 'Felix', 'Gabrielle', 'Hugo', 'Iris', 'Jerry', 'Karen',\n",
       "       'Marco', 'Nana', 'Erika', 'Grace', 'Gordon', 'Humberto', 'Luis',\n",
       "       'Marilyn', 'Noel', 'Opal', 'Pablo', 'Roxanne', 'Sebastien',\n",
       "       'Tanya', 'Kyle', 'Bill', 'Alex', 'Lisa', 'Mitch', 'Nicole',\n",
       "       'Lenny', 'Joyce', 'Leslie', 'Michael', 'Nadine', 'Lorenzo',\n",
       "       'Michelle', 'Olga', 'Cristobal', 'Fay', 'Hanna', 'Larry', 'Mindy',\n",
       "       'Nicholas', 'Odette', 'Peter', 'Gaston', 'Matthew', 'Otto',\n",
       "       'Franklin', 'Ten', 'Lee', 'Maria', 'Nate', 'Ophelia', 'Philippe',\n",
       "       'Rita', 'Nineteen', 'Stan', 'Tammy', 'Twenty-Two', 'Vince',\n",
       "       'Wilma', 'Beta', 'Gamma', 'Epsilon', 'Zeta', 'Andrea', 'Ingrid',\n",
       "       'Melissa', 'Fifteen', 'Ike', 'Omar', 'Sixteen', 'Paloma', 'One',\n",
       "       'Fred', 'Eight', 'Ida', 'Two', 'Colin', 'Five', 'Fiona', 'Igor',\n",
       "       'Julia', 'Paula', 'Richard', 'Shary', 'Tomas', 'Don', 'Katia',\n",
       "       'Rina', 'Sean', 'Kirk', 'Oscar', 'Patty', 'Rafael', 'Sandy',\n",
       "       'Tony', 'Dorian', 'Fernand', 'Gonzalo', 'Nine', 'Joaquin', 'Ian',\n",
       "       'Four', 'Eleven', 'Three', 'Imelda', 'Nestor', 'Rebekah'],\n",
       "      dtype=object)"
      ]
     },
     "execution_count": 21,
     "metadata": {},
     "output_type": "execute_result"
    }
   ],
   "source": [
    "# Getting the duplicate movie by title and star released. \n",
    "dupl_df = clean_df.loc[clean_df.duplicated(subset=[\"name\", \"year\"]), \"name\"].unique()\n",
    "dupl_df"
   ]
  },
  {
   "cell_type": "code",
   "execution_count": 22,
   "metadata": {},
   "outputs": [
    {
     "data": {
      "text/plain": [
       "295"
      ]
     },
     "execution_count": 22,
     "metadata": {},
     "output_type": "execute_result"
    }
   ],
   "source": [
    "len(dupl_df)"
   ]
  },
  {
   "cell_type": "code",
   "execution_count": 23,
   "metadata": {},
   "outputs": [],
   "source": [
    "# Remove the duplicates \n",
    "clean_df = clean_df.drop_duplicates(subset=['name','year'], keep='first')\n",
    "clean_df.head()\n",
    "clean_df.to_csv(\"Data/clean_df.csv\")"
   ]
  },
  {
   "cell_type": "code",
   "execution_count": 24,
   "metadata": {},
   "outputs": [
    {
     "data": {
      "text/plain": [
       "825"
      ]
     },
     "execution_count": 24,
     "metadata": {},
     "output_type": "execute_result"
    }
   ],
   "source": [
    "len(clean_df)"
   ]
  },
  {
   "cell_type": "markdown",
   "metadata": {},
   "source": [
    "### Add hurricane index column"
   ]
  },
  {
   "cell_type": "code",
   "execution_count": 25,
   "metadata": {},
   "outputs": [
    {
     "data": {
      "text/html": [
       "<div>\n",
       "<style scoped>\n",
       "    .dataframe tbody tr th:only-of-type {\n",
       "        vertical-align: middle;\n",
       "    }\n",
       "\n",
       "    .dataframe tbody tr th {\n",
       "        vertical-align: top;\n",
       "    }\n",
       "\n",
       "    .dataframe thead th {\n",
       "        text-align: right;\n",
       "    }\n",
       "</style>\n",
       "<table border=\"1\" class=\"dataframe\">\n",
       "  <thead>\n",
       "    <tr style=\"text-align: right;\">\n",
       "      <th></th>\n",
       "      <th>date</th>\n",
       "      <th>name</th>\n",
       "      <th>time</th>\n",
       "      <th>status</th>\n",
       "      <th>latitude</th>\n",
       "      <th>longitude</th>\n",
       "      <th>max_wind</th>\n",
       "      <th>air_pressure</th>\n",
       "      <th>latitude_decimal</th>\n",
       "      <th>longitude_decimal</th>\n",
       "      <th>year</th>\n",
       "    </tr>\n",
       "  </thead>\n",
       "  <tbody>\n",
       "    <tr>\n",
       "      <th>0</th>\n",
       "      <td>19500812</td>\n",
       "      <td>Able</td>\n",
       "      <td>0</td>\n",
       "      <td>TS</td>\n",
       "      <td>17.1N</td>\n",
       "      <td>55.5W</td>\n",
       "      <td>35</td>\n",
       "      <td>-999</td>\n",
       "      <td>17.02</td>\n",
       "      <td>-55.08</td>\n",
       "      <td>1950</td>\n",
       "    </tr>\n",
       "    <tr>\n",
       "      <th>51</th>\n",
       "      <td>19500818</td>\n",
       "      <td>Baker</td>\n",
       "      <td>1200</td>\n",
       "      <td>TD</td>\n",
       "      <td>12.0N</td>\n",
       "      <td>54.0W</td>\n",
       "      <td>30</td>\n",
       "      <td>-999</td>\n",
       "      <td>12.00</td>\n",
       "      <td>-54.00</td>\n",
       "      <td>1950</td>\n",
       "    </tr>\n",
       "    <tr>\n",
       "      <th>111</th>\n",
       "      <td>19500821</td>\n",
       "      <td>Charlie</td>\n",
       "      <td>1200</td>\n",
       "      <td>TS</td>\n",
       "      <td>11.1N</td>\n",
       "      <td>26.4W</td>\n",
       "      <td>35</td>\n",
       "      <td>-999</td>\n",
       "      <td>11.02</td>\n",
       "      <td>-26.07</td>\n",
       "      <td>1950</td>\n",
       "    </tr>\n",
       "    <tr>\n",
       "      <th>172</th>\n",
       "      <td>19500830</td>\n",
       "      <td>Dog</td>\n",
       "      <td>1800</td>\n",
       "      <td>HU</td>\n",
       "      <td>15.2N</td>\n",
       "      <td>55.6W</td>\n",
       "      <td>80</td>\n",
       "      <td>-999</td>\n",
       "      <td>15.03</td>\n",
       "      <td>-55.10</td>\n",
       "      <td>1950</td>\n",
       "    </tr>\n",
       "    <tr>\n",
       "      <th>246</th>\n",
       "      <td>19500901</td>\n",
       "      <td>Easy</td>\n",
       "      <td>600</td>\n",
       "      <td>TS</td>\n",
       "      <td>19.7N</td>\n",
       "      <td>83.2W</td>\n",
       "      <td>40</td>\n",
       "      <td>-999</td>\n",
       "      <td>19.12</td>\n",
       "      <td>-83.03</td>\n",
       "      <td>1950</td>\n",
       "    </tr>\n",
       "  </tbody>\n",
       "</table>\n",
       "</div>"
      ],
      "text/plain": [
       "         date     name  time status latitude longitude  max_wind  \\\n",
       "0    19500812     Able     0     TS    17.1N     55.5W        35   \n",
       "51   19500818    Baker  1200     TD    12.0N     54.0W        30   \n",
       "111  19500821  Charlie  1200     TS    11.1N     26.4W        35   \n",
       "172  19500830      Dog  1800     HU    15.2N     55.6W        80   \n",
       "246  19500901     Easy   600     TS    19.7N     83.2W        40   \n",
       "\n",
       "     air_pressure  latitude_decimal  longitude_decimal  year  \n",
       "0            -999             17.02             -55.08  1950  \n",
       "51           -999             12.00             -54.00  1950  \n",
       "111          -999             11.02             -26.07  1950  \n",
       "172          -999             15.03             -55.10  1950  \n",
       "246          -999             19.12             -83.03  1950  "
      ]
     },
     "execution_count": 25,
     "metadata": {},
     "output_type": "execute_result"
    }
   ],
   "source": [
    "hurricanes_df = clean_df\n",
    "hurricanes_df.head()"
   ]
  },
  {
   "cell_type": "code",
   "execution_count": 26,
   "metadata": {},
   "outputs": [
    {
     "data": {
      "text/html": [
       "<div>\n",
       "<style scoped>\n",
       "    .dataframe tbody tr th:only-of-type {\n",
       "        vertical-align: middle;\n",
       "    }\n",
       "\n",
       "    .dataframe tbody tr th {\n",
       "        vertical-align: top;\n",
       "    }\n",
       "\n",
       "    .dataframe thead th {\n",
       "        text-align: right;\n",
       "    }\n",
       "</style>\n",
       "<table border=\"1\" class=\"dataframe\">\n",
       "  <thead>\n",
       "    <tr style=\"text-align: right;\">\n",
       "      <th></th>\n",
       "      <th>date</th>\n",
       "      <th>name</th>\n",
       "      <th>time</th>\n",
       "      <th>status</th>\n",
       "      <th>latitude</th>\n",
       "      <th>longitude</th>\n",
       "      <th>max_wind</th>\n",
       "      <th>air_pressure</th>\n",
       "      <th>latitude_decimal</th>\n",
       "      <th>longitude_decimal</th>\n",
       "      <th>year</th>\n",
       "    </tr>\n",
       "  </thead>\n",
       "  <tbody>\n",
       "    <tr>\n",
       "      <th>0</th>\n",
       "      <td>19500812</td>\n",
       "      <td>Able</td>\n",
       "      <td>0</td>\n",
       "      <td>TS</td>\n",
       "      <td>17.1N</td>\n",
       "      <td>55.5W</td>\n",
       "      <td>35</td>\n",
       "      <td>-999</td>\n",
       "      <td>17.02</td>\n",
       "      <td>-55.08</td>\n",
       "      <td>1950</td>\n",
       "    </tr>\n",
       "    <tr>\n",
       "      <th>51</th>\n",
       "      <td>19500818</td>\n",
       "      <td>Baker</td>\n",
       "      <td>1200</td>\n",
       "      <td>TD</td>\n",
       "      <td>12.0N</td>\n",
       "      <td>54.0W</td>\n",
       "      <td>30</td>\n",
       "      <td>-999</td>\n",
       "      <td>12.00</td>\n",
       "      <td>-54.00</td>\n",
       "      <td>1950</td>\n",
       "    </tr>\n",
       "    <tr>\n",
       "      <th>111</th>\n",
       "      <td>19500821</td>\n",
       "      <td>Charlie</td>\n",
       "      <td>1200</td>\n",
       "      <td>TS</td>\n",
       "      <td>11.1N</td>\n",
       "      <td>26.4W</td>\n",
       "      <td>35</td>\n",
       "      <td>-999</td>\n",
       "      <td>11.02</td>\n",
       "      <td>-26.07</td>\n",
       "      <td>1950</td>\n",
       "    </tr>\n",
       "    <tr>\n",
       "      <th>172</th>\n",
       "      <td>19500830</td>\n",
       "      <td>Dog</td>\n",
       "      <td>1800</td>\n",
       "      <td>HU</td>\n",
       "      <td>15.2N</td>\n",
       "      <td>55.6W</td>\n",
       "      <td>80</td>\n",
       "      <td>-999</td>\n",
       "      <td>15.03</td>\n",
       "      <td>-55.10</td>\n",
       "      <td>1950</td>\n",
       "    </tr>\n",
       "    <tr>\n",
       "      <th>246</th>\n",
       "      <td>19500901</td>\n",
       "      <td>Easy</td>\n",
       "      <td>600</td>\n",
       "      <td>TS</td>\n",
       "      <td>19.7N</td>\n",
       "      <td>83.2W</td>\n",
       "      <td>40</td>\n",
       "      <td>-999</td>\n",
       "      <td>19.12</td>\n",
       "      <td>-83.03</td>\n",
       "      <td>1950</td>\n",
       "    </tr>\n",
       "  </tbody>\n",
       "</table>\n",
       "</div>"
      ],
      "text/plain": [
       "         date     name  time status latitude longitude  max_wind  \\\n",
       "0    19500812     Able     0     TS    17.1N     55.5W        35   \n",
       "51   19500818    Baker  1200     TD    12.0N     54.0W        30   \n",
       "111  19500821  Charlie  1200     TS    11.1N     26.4W        35   \n",
       "172  19500830      Dog  1800     HU    15.2N     55.6W        80   \n",
       "246  19500901     Easy   600     TS    19.7N     83.2W        40   \n",
       "\n",
       "     air_pressure  latitude_decimal  longitude_decimal  year  \n",
       "0            -999             17.02             -55.08  1950  \n",
       "51           -999             12.00             -54.00  1950  \n",
       "111          -999             11.02             -26.07  1950  \n",
       "172          -999             15.03             -55.10  1950  \n",
       "246          -999             19.12             -83.03  1950  "
      ]
     },
     "execution_count": 26,
     "metadata": {},
     "output_type": "execute_result"
    }
   ],
   "source": [
    "hurricanes_df.reset_index()\n",
    "hurricanes_df.head()"
   ]
  },
  {
   "cell_type": "code",
   "execution_count": 27,
   "metadata": {},
   "outputs": [
    {
     "data": {
      "text/html": [
       "<div>\n",
       "<style scoped>\n",
       "    .dataframe tbody tr th:only-of-type {\n",
       "        vertical-align: middle;\n",
       "    }\n",
       "\n",
       "    .dataframe tbody tr th {\n",
       "        vertical-align: top;\n",
       "    }\n",
       "\n",
       "    .dataframe thead th {\n",
       "        text-align: right;\n",
       "    }\n",
       "</style>\n",
       "<table border=\"1\" class=\"dataframe\">\n",
       "  <thead>\n",
       "    <tr style=\"text-align: right;\">\n",
       "      <th></th>\n",
       "      <th>date</th>\n",
       "      <th>name</th>\n",
       "      <th>time</th>\n",
       "      <th>status</th>\n",
       "      <th>latitude</th>\n",
       "      <th>longitude</th>\n",
       "      <th>max_wind</th>\n",
       "      <th>air_pressure</th>\n",
       "      <th>latitude_decimal</th>\n",
       "      <th>longitude_decimal</th>\n",
       "      <th>year</th>\n",
       "    </tr>\n",
       "  </thead>\n",
       "  <tbody>\n",
       "    <tr>\n",
       "      <th>0</th>\n",
       "      <td>19500812</td>\n",
       "      <td>Able</td>\n",
       "      <td>0</td>\n",
       "      <td>TS</td>\n",
       "      <td>17.1N</td>\n",
       "      <td>55.5W</td>\n",
       "      <td>35</td>\n",
       "      <td>-999</td>\n",
       "      <td>17.02</td>\n",
       "      <td>-55.08</td>\n",
       "      <td>1950</td>\n",
       "    </tr>\n",
       "    <tr>\n",
       "      <th>1</th>\n",
       "      <td>19500818</td>\n",
       "      <td>Baker</td>\n",
       "      <td>1200</td>\n",
       "      <td>TD</td>\n",
       "      <td>12.0N</td>\n",
       "      <td>54.0W</td>\n",
       "      <td>30</td>\n",
       "      <td>-999</td>\n",
       "      <td>12.00</td>\n",
       "      <td>-54.00</td>\n",
       "      <td>1950</td>\n",
       "    </tr>\n",
       "    <tr>\n",
       "      <th>2</th>\n",
       "      <td>19500821</td>\n",
       "      <td>Charlie</td>\n",
       "      <td>1200</td>\n",
       "      <td>TS</td>\n",
       "      <td>11.1N</td>\n",
       "      <td>26.4W</td>\n",
       "      <td>35</td>\n",
       "      <td>-999</td>\n",
       "      <td>11.02</td>\n",
       "      <td>-26.07</td>\n",
       "      <td>1950</td>\n",
       "    </tr>\n",
       "    <tr>\n",
       "      <th>3</th>\n",
       "      <td>19500830</td>\n",
       "      <td>Dog</td>\n",
       "      <td>1800</td>\n",
       "      <td>HU</td>\n",
       "      <td>15.2N</td>\n",
       "      <td>55.6W</td>\n",
       "      <td>80</td>\n",
       "      <td>-999</td>\n",
       "      <td>15.03</td>\n",
       "      <td>-55.10</td>\n",
       "      <td>1950</td>\n",
       "    </tr>\n",
       "    <tr>\n",
       "      <th>4</th>\n",
       "      <td>19500901</td>\n",
       "      <td>Easy</td>\n",
       "      <td>600</td>\n",
       "      <td>TS</td>\n",
       "      <td>19.7N</td>\n",
       "      <td>83.2W</td>\n",
       "      <td>40</td>\n",
       "      <td>-999</td>\n",
       "      <td>19.12</td>\n",
       "      <td>-83.03</td>\n",
       "      <td>1950</td>\n",
       "    </tr>\n",
       "    <tr>\n",
       "      <th>...</th>\n",
       "      <td>...</td>\n",
       "      <td>...</td>\n",
       "      <td>...</td>\n",
       "      <td>...</td>\n",
       "      <td>...</td>\n",
       "      <td>...</td>\n",
       "      <td>...</td>\n",
       "      <td>...</td>\n",
       "      <td>...</td>\n",
       "      <td>...</td>\n",
       "      <td>...</td>\n",
       "    </tr>\n",
       "    <tr>\n",
       "      <th>820</th>\n",
       "      <td>20191017</td>\n",
       "      <td>Nestor</td>\n",
       "      <td>1200</td>\n",
       "      <td>DB</td>\n",
       "      <td>22.2N</td>\n",
       "      <td>95.7W</td>\n",
       "      <td>35</td>\n",
       "      <td>1007</td>\n",
       "      <td>22.03</td>\n",
       "      <td>-95.12</td>\n",
       "      <td>2019</td>\n",
       "    </tr>\n",
       "    <tr>\n",
       "      <th>821</th>\n",
       "      <td>20191025</td>\n",
       "      <td>Olga</td>\n",
       "      <td>1200</td>\n",
       "      <td>TS</td>\n",
       "      <td>24.7N</td>\n",
       "      <td>94.8W</td>\n",
       "      <td>35</td>\n",
       "      <td>1004</td>\n",
       "      <td>24.12</td>\n",
       "      <td>-94.13</td>\n",
       "      <td>2019</td>\n",
       "    </tr>\n",
       "    <tr>\n",
       "      <th>822</th>\n",
       "      <td>20191023</td>\n",
       "      <td>Pablo</td>\n",
       "      <td>1800</td>\n",
       "      <td>EX</td>\n",
       "      <td>40.0N</td>\n",
       "      <td>38.3W</td>\n",
       "      <td>40</td>\n",
       "      <td>1000</td>\n",
       "      <td>40.00</td>\n",
       "      <td>-38.05</td>\n",
       "      <td>2019</td>\n",
       "    </tr>\n",
       "    <tr>\n",
       "      <th>823</th>\n",
       "      <td>20191027</td>\n",
       "      <td>Rebekah</td>\n",
       "      <td>0</td>\n",
       "      <td>EX</td>\n",
       "      <td>40.5N</td>\n",
       "      <td>51.5W</td>\n",
       "      <td>35</td>\n",
       "      <td>1004</td>\n",
       "      <td>40.08</td>\n",
       "      <td>-51.08</td>\n",
       "      <td>2019</td>\n",
       "    </tr>\n",
       "    <tr>\n",
       "      <th>824</th>\n",
       "      <td>20191119</td>\n",
       "      <td>Sebastien</td>\n",
       "      <td>600</td>\n",
       "      <td>TS</td>\n",
       "      <td>19.4N</td>\n",
       "      <td>58.1W</td>\n",
       "      <td>35</td>\n",
       "      <td>1006</td>\n",
       "      <td>19.07</td>\n",
       "      <td>-58.02</td>\n",
       "      <td>2019</td>\n",
       "    </tr>\n",
       "  </tbody>\n",
       "</table>\n",
       "<p>825 rows × 11 columns</p>\n",
       "</div>"
      ],
      "text/plain": [
       "         date       name  time status latitude longitude  max_wind  \\\n",
       "0    19500812       Able     0     TS    17.1N     55.5W        35   \n",
       "1    19500818      Baker  1200     TD    12.0N     54.0W        30   \n",
       "2    19500821    Charlie  1200     TS    11.1N     26.4W        35   \n",
       "3    19500830        Dog  1800     HU    15.2N     55.6W        80   \n",
       "4    19500901       Easy   600     TS    19.7N     83.2W        40   \n",
       "..        ...        ...   ...    ...      ...       ...       ...   \n",
       "820  20191017     Nestor  1200     DB    22.2N     95.7W        35   \n",
       "821  20191025       Olga  1200     TS    24.7N     94.8W        35   \n",
       "822  20191023      Pablo  1800     EX    40.0N     38.3W        40   \n",
       "823  20191027    Rebekah     0     EX    40.5N     51.5W        35   \n",
       "824  20191119  Sebastien   600     TS    19.4N     58.1W        35   \n",
       "\n",
       "     air_pressure  latitude_decimal  longitude_decimal  year  \n",
       "0            -999             17.02             -55.08  1950  \n",
       "1            -999             12.00             -54.00  1950  \n",
       "2            -999             11.02             -26.07  1950  \n",
       "3            -999             15.03             -55.10  1950  \n",
       "4            -999             19.12             -83.03  1950  \n",
       "..            ...               ...                ...   ...  \n",
       "820          1007             22.03             -95.12  2019  \n",
       "821          1004             24.12             -94.13  2019  \n",
       "822          1000             40.00             -38.05  2019  \n",
       "823          1004             40.08             -51.08  2019  \n",
       "824          1006             19.07             -58.02  2019  \n",
       "\n",
       "[825 rows x 11 columns]"
      ]
     },
     "execution_count": 27,
     "metadata": {},
     "output_type": "execute_result"
    }
   ],
   "source": [
    "hurricanes_df = hurricanes_df.reset_index(drop=True)\n",
    "hurricanes_df"
   ]
  },
  {
   "cell_type": "code",
   "execution_count": 28,
   "metadata": {
    "scrolled": true
   },
   "outputs": [
    {
     "data": {
      "text/html": [
       "<div>\n",
       "<style scoped>\n",
       "    .dataframe tbody tr th:only-of-type {\n",
       "        vertical-align: middle;\n",
       "    }\n",
       "\n",
       "    .dataframe tbody tr th {\n",
       "        vertical-align: top;\n",
       "    }\n",
       "\n",
       "    .dataframe thead th {\n",
       "        text-align: right;\n",
       "    }\n",
       "</style>\n",
       "<table border=\"1\" class=\"dataframe\">\n",
       "  <thead>\n",
       "    <tr style=\"text-align: right;\">\n",
       "      <th></th>\n",
       "      <th>date</th>\n",
       "      <th>name</th>\n",
       "      <th>time</th>\n",
       "      <th>status</th>\n",
       "      <th>latitude</th>\n",
       "      <th>longitude</th>\n",
       "      <th>max_wind</th>\n",
       "      <th>air_pressure</th>\n",
       "      <th>latitude_decimal</th>\n",
       "      <th>longitude_decimal</th>\n",
       "      <th>year</th>\n",
       "    </tr>\n",
       "  </thead>\n",
       "  <tbody>\n",
       "    <tr>\n",
       "      <th>1</th>\n",
       "      <td>19500812</td>\n",
       "      <td>Able</td>\n",
       "      <td>0</td>\n",
       "      <td>TS</td>\n",
       "      <td>17.1N</td>\n",
       "      <td>55.5W</td>\n",
       "      <td>35</td>\n",
       "      <td>-999</td>\n",
       "      <td>17.02</td>\n",
       "      <td>-55.08</td>\n",
       "      <td>1950</td>\n",
       "    </tr>\n",
       "    <tr>\n",
       "      <th>2</th>\n",
       "      <td>19500818</td>\n",
       "      <td>Baker</td>\n",
       "      <td>1200</td>\n",
       "      <td>TD</td>\n",
       "      <td>12.0N</td>\n",
       "      <td>54.0W</td>\n",
       "      <td>30</td>\n",
       "      <td>-999</td>\n",
       "      <td>12.00</td>\n",
       "      <td>-54.00</td>\n",
       "      <td>1950</td>\n",
       "    </tr>\n",
       "    <tr>\n",
       "      <th>3</th>\n",
       "      <td>19500821</td>\n",
       "      <td>Charlie</td>\n",
       "      <td>1200</td>\n",
       "      <td>TS</td>\n",
       "      <td>11.1N</td>\n",
       "      <td>26.4W</td>\n",
       "      <td>35</td>\n",
       "      <td>-999</td>\n",
       "      <td>11.02</td>\n",
       "      <td>-26.07</td>\n",
       "      <td>1950</td>\n",
       "    </tr>\n",
       "    <tr>\n",
       "      <th>4</th>\n",
       "      <td>19500830</td>\n",
       "      <td>Dog</td>\n",
       "      <td>1800</td>\n",
       "      <td>HU</td>\n",
       "      <td>15.2N</td>\n",
       "      <td>55.6W</td>\n",
       "      <td>80</td>\n",
       "      <td>-999</td>\n",
       "      <td>15.03</td>\n",
       "      <td>-55.10</td>\n",
       "      <td>1950</td>\n",
       "    </tr>\n",
       "    <tr>\n",
       "      <th>5</th>\n",
       "      <td>19500901</td>\n",
       "      <td>Easy</td>\n",
       "      <td>600</td>\n",
       "      <td>TS</td>\n",
       "      <td>19.7N</td>\n",
       "      <td>83.2W</td>\n",
       "      <td>40</td>\n",
       "      <td>-999</td>\n",
       "      <td>19.12</td>\n",
       "      <td>-83.03</td>\n",
       "      <td>1950</td>\n",
       "    </tr>\n",
       "    <tr>\n",
       "      <th>...</th>\n",
       "      <td>...</td>\n",
       "      <td>...</td>\n",
       "      <td>...</td>\n",
       "      <td>...</td>\n",
       "      <td>...</td>\n",
       "      <td>...</td>\n",
       "      <td>...</td>\n",
       "      <td>...</td>\n",
       "      <td>...</td>\n",
       "      <td>...</td>\n",
       "      <td>...</td>\n",
       "    </tr>\n",
       "    <tr>\n",
       "      <th>96</th>\n",
       "      <td>19590920</td>\n",
       "      <td>Gracie</td>\n",
       "      <td>1200</td>\n",
       "      <td>TD</td>\n",
       "      <td>19.8N</td>\n",
       "      <td>68.3W</td>\n",
       "      <td>25</td>\n",
       "      <td>1009</td>\n",
       "      <td>19.13</td>\n",
       "      <td>-68.05</td>\n",
       "      <td>1959</td>\n",
       "    </tr>\n",
       "    <tr>\n",
       "      <th>97</th>\n",
       "      <td>19590927</td>\n",
       "      <td>Hannah</td>\n",
       "      <td>1200</td>\n",
       "      <td>TD</td>\n",
       "      <td>26.8N</td>\n",
       "      <td>49.9W</td>\n",
       "      <td>30</td>\n",
       "      <td>-999</td>\n",
       "      <td>26.13</td>\n",
       "      <td>-49.15</td>\n",
       "      <td>1959</td>\n",
       "    </tr>\n",
       "    <tr>\n",
       "      <th>98</th>\n",
       "      <td>19591006</td>\n",
       "      <td>Irene</td>\n",
       "      <td>1800</td>\n",
       "      <td>TD</td>\n",
       "      <td>23.2N</td>\n",
       "      <td>92.5W</td>\n",
       "      <td>30</td>\n",
       "      <td>-999</td>\n",
       "      <td>23.03</td>\n",
       "      <td>-92.08</td>\n",
       "      <td>1959</td>\n",
       "    </tr>\n",
       "    <tr>\n",
       "      <th>99</th>\n",
       "      <td>19591014</td>\n",
       "      <td>Judith</td>\n",
       "      <td>600</td>\n",
       "      <td>TD</td>\n",
       "      <td>14.0N</td>\n",
       "      <td>73.5W</td>\n",
       "      <td>30</td>\n",
       "      <td>-999</td>\n",
       "      <td>14.00</td>\n",
       "      <td>-73.08</td>\n",
       "      <td>1959</td>\n",
       "    </tr>\n",
       "    <tr>\n",
       "      <th>100</th>\n",
       "      <td>19600622</td>\n",
       "      <td>Unnamed</td>\n",
       "      <td>600</td>\n",
       "      <td>TD</td>\n",
       "      <td>19.2N</td>\n",
       "      <td>93.2W</td>\n",
       "      <td>25</td>\n",
       "      <td>-999</td>\n",
       "      <td>19.03</td>\n",
       "      <td>-93.03</td>\n",
       "      <td>1960</td>\n",
       "    </tr>\n",
       "  </tbody>\n",
       "</table>\n",
       "<p>100 rows × 11 columns</p>\n",
       "</div>"
      ],
      "text/plain": [
       "         date     name  time status latitude longitude  max_wind  \\\n",
       "1    19500812     Able     0     TS    17.1N     55.5W        35   \n",
       "2    19500818    Baker  1200     TD    12.0N     54.0W        30   \n",
       "3    19500821  Charlie  1200     TS    11.1N     26.4W        35   \n",
       "4    19500830      Dog  1800     HU    15.2N     55.6W        80   \n",
       "5    19500901     Easy   600     TS    19.7N     83.2W        40   \n",
       "..        ...      ...   ...    ...      ...       ...       ...   \n",
       "96   19590920   Gracie  1200     TD    19.8N     68.3W        25   \n",
       "97   19590927   Hannah  1200     TD    26.8N     49.9W        30   \n",
       "98   19591006    Irene  1800     TD    23.2N     92.5W        30   \n",
       "99   19591014   Judith   600     TD    14.0N     73.5W        30   \n",
       "100  19600622  Unnamed   600     TD    19.2N     93.2W        25   \n",
       "\n",
       "     air_pressure  latitude_decimal  longitude_decimal  year  \n",
       "1            -999             17.02             -55.08  1950  \n",
       "2            -999             12.00             -54.00  1950  \n",
       "3            -999             11.02             -26.07  1950  \n",
       "4            -999             15.03             -55.10  1950  \n",
       "5            -999             19.12             -83.03  1950  \n",
       "..            ...               ...                ...   ...  \n",
       "96           1009             19.13             -68.05  1959  \n",
       "97           -999             26.13             -49.15  1959  \n",
       "98           -999             23.03             -92.08  1959  \n",
       "99           -999             14.00             -73.08  1959  \n",
       "100          -999             19.03             -93.03  1960  \n",
       "\n",
       "[100 rows x 11 columns]"
      ]
     },
     "execution_count": 28,
     "metadata": {},
     "output_type": "execute_result"
    }
   ],
   "source": [
    "# Start index from 1\n",
    "hurricanes_df.index += 1\n",
    "hurricanes_df.head(100)"
   ]
  },
  {
   "cell_type": "code",
   "execution_count": 29,
   "metadata": {
    "scrolled": true
   },
   "outputs": [
    {
     "data": {
      "text/html": [
       "<div>\n",
       "<style scoped>\n",
       "    .dataframe tbody tr th:only-of-type {\n",
       "        vertical-align: middle;\n",
       "    }\n",
       "\n",
       "    .dataframe tbody tr th {\n",
       "        vertical-align: top;\n",
       "    }\n",
       "\n",
       "    .dataframe thead th {\n",
       "        text-align: right;\n",
       "    }\n",
       "</style>\n",
       "<table border=\"1\" class=\"dataframe\">\n",
       "  <thead>\n",
       "    <tr style=\"text-align: right;\">\n",
       "      <th></th>\n",
       "      <th>index</th>\n",
       "      <th>date</th>\n",
       "      <th>name</th>\n",
       "      <th>time</th>\n",
       "      <th>status</th>\n",
       "      <th>latitude</th>\n",
       "      <th>longitude</th>\n",
       "      <th>max_wind</th>\n",
       "      <th>air_pressure</th>\n",
       "      <th>latitude_decimal</th>\n",
       "      <th>longitude_decimal</th>\n",
       "      <th>year</th>\n",
       "    </tr>\n",
       "  </thead>\n",
       "  <tbody>\n",
       "    <tr>\n",
       "      <th>0</th>\n",
       "      <td>1</td>\n",
       "      <td>19500812</td>\n",
       "      <td>Able</td>\n",
       "      <td>0</td>\n",
       "      <td>TS</td>\n",
       "      <td>17.1N</td>\n",
       "      <td>55.5W</td>\n",
       "      <td>35</td>\n",
       "      <td>-999</td>\n",
       "      <td>17.02</td>\n",
       "      <td>-55.08</td>\n",
       "      <td>1950</td>\n",
       "    </tr>\n",
       "    <tr>\n",
       "      <th>1</th>\n",
       "      <td>2</td>\n",
       "      <td>19500818</td>\n",
       "      <td>Baker</td>\n",
       "      <td>1200</td>\n",
       "      <td>TD</td>\n",
       "      <td>12.0N</td>\n",
       "      <td>54.0W</td>\n",
       "      <td>30</td>\n",
       "      <td>-999</td>\n",
       "      <td>12.00</td>\n",
       "      <td>-54.00</td>\n",
       "      <td>1950</td>\n",
       "    </tr>\n",
       "    <tr>\n",
       "      <th>2</th>\n",
       "      <td>3</td>\n",
       "      <td>19500821</td>\n",
       "      <td>Charlie</td>\n",
       "      <td>1200</td>\n",
       "      <td>TS</td>\n",
       "      <td>11.1N</td>\n",
       "      <td>26.4W</td>\n",
       "      <td>35</td>\n",
       "      <td>-999</td>\n",
       "      <td>11.02</td>\n",
       "      <td>-26.07</td>\n",
       "      <td>1950</td>\n",
       "    </tr>\n",
       "    <tr>\n",
       "      <th>3</th>\n",
       "      <td>4</td>\n",
       "      <td>19500830</td>\n",
       "      <td>Dog</td>\n",
       "      <td>1800</td>\n",
       "      <td>HU</td>\n",
       "      <td>15.2N</td>\n",
       "      <td>55.6W</td>\n",
       "      <td>80</td>\n",
       "      <td>-999</td>\n",
       "      <td>15.03</td>\n",
       "      <td>-55.10</td>\n",
       "      <td>1950</td>\n",
       "    </tr>\n",
       "    <tr>\n",
       "      <th>4</th>\n",
       "      <td>5</td>\n",
       "      <td>19500901</td>\n",
       "      <td>Easy</td>\n",
       "      <td>600</td>\n",
       "      <td>TS</td>\n",
       "      <td>19.7N</td>\n",
       "      <td>83.2W</td>\n",
       "      <td>40</td>\n",
       "      <td>-999</td>\n",
       "      <td>19.12</td>\n",
       "      <td>-83.03</td>\n",
       "      <td>1950</td>\n",
       "    </tr>\n",
       "  </tbody>\n",
       "</table>\n",
       "</div>"
      ],
      "text/plain": [
       "   index      date     name  time status latitude longitude  max_wind  \\\n",
       "0      1  19500812     Able     0     TS    17.1N     55.5W        35   \n",
       "1      2  19500818    Baker  1200     TD    12.0N     54.0W        30   \n",
       "2      3  19500821  Charlie  1200     TS    11.1N     26.4W        35   \n",
       "3      4  19500830      Dog  1800     HU    15.2N     55.6W        80   \n",
       "4      5  19500901     Easy   600     TS    19.7N     83.2W        40   \n",
       "\n",
       "   air_pressure  latitude_decimal  longitude_decimal  year  \n",
       "0          -999             17.02             -55.08  1950  \n",
       "1          -999             12.00             -54.00  1950  \n",
       "2          -999             11.02             -26.07  1950  \n",
       "3          -999             15.03             -55.10  1950  \n",
       "4          -999             19.12             -83.03  1950  "
      ]
     },
     "execution_count": 29,
     "metadata": {},
     "output_type": "execute_result"
    }
   ],
   "source": [
    "# Reset index\n",
    "hurricanes_df = hurricanes_df.reset_index()\n",
    "hurricanes_df.head()"
   ]
  },
  {
   "cell_type": "code",
   "execution_count": 30,
   "metadata": {
    "scrolled": true
   },
   "outputs": [
    {
     "data": {
      "text/html": [
       "<div>\n",
       "<style scoped>\n",
       "    .dataframe tbody tr th:only-of-type {\n",
       "        vertical-align: middle;\n",
       "    }\n",
       "\n",
       "    .dataframe tbody tr th {\n",
       "        vertical-align: top;\n",
       "    }\n",
       "\n",
       "    .dataframe thead th {\n",
       "        text-align: right;\n",
       "    }\n",
       "</style>\n",
       "<table border=\"1\" class=\"dataframe\">\n",
       "  <thead>\n",
       "    <tr style=\"text-align: right;\">\n",
       "      <th></th>\n",
       "      <th>hurricane_id</th>\n",
       "      <th>date</th>\n",
       "      <th>name</th>\n",
       "      <th>time</th>\n",
       "      <th>status</th>\n",
       "      <th>latitude</th>\n",
       "      <th>longitude</th>\n",
       "      <th>max_wind</th>\n",
       "      <th>air_pressure</th>\n",
       "      <th>latitude_decimal</th>\n",
       "      <th>longitude_decimal</th>\n",
       "      <th>year</th>\n",
       "    </tr>\n",
       "  </thead>\n",
       "  <tbody>\n",
       "    <tr>\n",
       "      <th>0</th>\n",
       "      <td>1</td>\n",
       "      <td>19500812</td>\n",
       "      <td>Able</td>\n",
       "      <td>0</td>\n",
       "      <td>TS</td>\n",
       "      <td>17.1N</td>\n",
       "      <td>55.5W</td>\n",
       "      <td>35</td>\n",
       "      <td>-999</td>\n",
       "      <td>17.02</td>\n",
       "      <td>-55.08</td>\n",
       "      <td>1950</td>\n",
       "    </tr>\n",
       "    <tr>\n",
       "      <th>1</th>\n",
       "      <td>2</td>\n",
       "      <td>19500818</td>\n",
       "      <td>Baker</td>\n",
       "      <td>1200</td>\n",
       "      <td>TD</td>\n",
       "      <td>12.0N</td>\n",
       "      <td>54.0W</td>\n",
       "      <td>30</td>\n",
       "      <td>-999</td>\n",
       "      <td>12.00</td>\n",
       "      <td>-54.00</td>\n",
       "      <td>1950</td>\n",
       "    </tr>\n",
       "    <tr>\n",
       "      <th>2</th>\n",
       "      <td>3</td>\n",
       "      <td>19500821</td>\n",
       "      <td>Charlie</td>\n",
       "      <td>1200</td>\n",
       "      <td>TS</td>\n",
       "      <td>11.1N</td>\n",
       "      <td>26.4W</td>\n",
       "      <td>35</td>\n",
       "      <td>-999</td>\n",
       "      <td>11.02</td>\n",
       "      <td>-26.07</td>\n",
       "      <td>1950</td>\n",
       "    </tr>\n",
       "    <tr>\n",
       "      <th>3</th>\n",
       "      <td>4</td>\n",
       "      <td>19500830</td>\n",
       "      <td>Dog</td>\n",
       "      <td>1800</td>\n",
       "      <td>HU</td>\n",
       "      <td>15.2N</td>\n",
       "      <td>55.6W</td>\n",
       "      <td>80</td>\n",
       "      <td>-999</td>\n",
       "      <td>15.03</td>\n",
       "      <td>-55.10</td>\n",
       "      <td>1950</td>\n",
       "    </tr>\n",
       "    <tr>\n",
       "      <th>4</th>\n",
       "      <td>5</td>\n",
       "      <td>19500901</td>\n",
       "      <td>Easy</td>\n",
       "      <td>600</td>\n",
       "      <td>TS</td>\n",
       "      <td>19.7N</td>\n",
       "      <td>83.2W</td>\n",
       "      <td>40</td>\n",
       "      <td>-999</td>\n",
       "      <td>19.12</td>\n",
       "      <td>-83.03</td>\n",
       "      <td>1950</td>\n",
       "    </tr>\n",
       "    <tr>\n",
       "      <th>...</th>\n",
       "      <td>...</td>\n",
       "      <td>...</td>\n",
       "      <td>...</td>\n",
       "      <td>...</td>\n",
       "      <td>...</td>\n",
       "      <td>...</td>\n",
       "      <td>...</td>\n",
       "      <td>...</td>\n",
       "      <td>...</td>\n",
       "      <td>...</td>\n",
       "      <td>...</td>\n",
       "      <td>...</td>\n",
       "    </tr>\n",
       "    <tr>\n",
       "      <th>820</th>\n",
       "      <td>821</td>\n",
       "      <td>20191017</td>\n",
       "      <td>Nestor</td>\n",
       "      <td>1200</td>\n",
       "      <td>DB</td>\n",
       "      <td>22.2N</td>\n",
       "      <td>95.7W</td>\n",
       "      <td>35</td>\n",
       "      <td>1007</td>\n",
       "      <td>22.03</td>\n",
       "      <td>-95.12</td>\n",
       "      <td>2019</td>\n",
       "    </tr>\n",
       "    <tr>\n",
       "      <th>821</th>\n",
       "      <td>822</td>\n",
       "      <td>20191025</td>\n",
       "      <td>Olga</td>\n",
       "      <td>1200</td>\n",
       "      <td>TS</td>\n",
       "      <td>24.7N</td>\n",
       "      <td>94.8W</td>\n",
       "      <td>35</td>\n",
       "      <td>1004</td>\n",
       "      <td>24.12</td>\n",
       "      <td>-94.13</td>\n",
       "      <td>2019</td>\n",
       "    </tr>\n",
       "    <tr>\n",
       "      <th>822</th>\n",
       "      <td>823</td>\n",
       "      <td>20191023</td>\n",
       "      <td>Pablo</td>\n",
       "      <td>1800</td>\n",
       "      <td>EX</td>\n",
       "      <td>40.0N</td>\n",
       "      <td>38.3W</td>\n",
       "      <td>40</td>\n",
       "      <td>1000</td>\n",
       "      <td>40.00</td>\n",
       "      <td>-38.05</td>\n",
       "      <td>2019</td>\n",
       "    </tr>\n",
       "    <tr>\n",
       "      <th>823</th>\n",
       "      <td>824</td>\n",
       "      <td>20191027</td>\n",
       "      <td>Rebekah</td>\n",
       "      <td>0</td>\n",
       "      <td>EX</td>\n",
       "      <td>40.5N</td>\n",
       "      <td>51.5W</td>\n",
       "      <td>35</td>\n",
       "      <td>1004</td>\n",
       "      <td>40.08</td>\n",
       "      <td>-51.08</td>\n",
       "      <td>2019</td>\n",
       "    </tr>\n",
       "    <tr>\n",
       "      <th>824</th>\n",
       "      <td>825</td>\n",
       "      <td>20191119</td>\n",
       "      <td>Sebastien</td>\n",
       "      <td>600</td>\n",
       "      <td>TS</td>\n",
       "      <td>19.4N</td>\n",
       "      <td>58.1W</td>\n",
       "      <td>35</td>\n",
       "      <td>1006</td>\n",
       "      <td>19.07</td>\n",
       "      <td>-58.02</td>\n",
       "      <td>2019</td>\n",
       "    </tr>\n",
       "  </tbody>\n",
       "</table>\n",
       "<p>825 rows × 12 columns</p>\n",
       "</div>"
      ],
      "text/plain": [
       "     hurricane_id      date       name  time status latitude longitude  \\\n",
       "0               1  19500812       Able     0     TS    17.1N     55.5W   \n",
       "1               2  19500818      Baker  1200     TD    12.0N     54.0W   \n",
       "2               3  19500821    Charlie  1200     TS    11.1N     26.4W   \n",
       "3               4  19500830        Dog  1800     HU    15.2N     55.6W   \n",
       "4               5  19500901       Easy   600     TS    19.7N     83.2W   \n",
       "..            ...       ...        ...   ...    ...      ...       ...   \n",
       "820           821  20191017     Nestor  1200     DB    22.2N     95.7W   \n",
       "821           822  20191025       Olga  1200     TS    24.7N     94.8W   \n",
       "822           823  20191023      Pablo  1800     EX    40.0N     38.3W   \n",
       "823           824  20191027    Rebekah     0     EX    40.5N     51.5W   \n",
       "824           825  20191119  Sebastien   600     TS    19.4N     58.1W   \n",
       "\n",
       "     max_wind  air_pressure  latitude_decimal  longitude_decimal  year  \n",
       "0          35          -999             17.02             -55.08  1950  \n",
       "1          30          -999             12.00             -54.00  1950  \n",
       "2          35          -999             11.02             -26.07  1950  \n",
       "3          80          -999             15.03             -55.10  1950  \n",
       "4          40          -999             19.12             -83.03  1950  \n",
       "..        ...           ...               ...                ...   ...  \n",
       "820        35          1007             22.03             -95.12  2019  \n",
       "821        35          1004             24.12             -94.13  2019  \n",
       "822        40          1000             40.00             -38.05  2019  \n",
       "823        35          1004             40.08             -51.08  2019  \n",
       "824        35          1006             19.07             -58.02  2019  \n",
       "\n",
       "[825 rows x 12 columns]"
      ]
     },
     "execution_count": 30,
     "metadata": {},
     "output_type": "execute_result"
    }
   ],
   "source": [
    "hurricanes_df = hurricanes_df.rename(columns={'index': 'hurricane_id'})\n",
    "hurricanes_df"
   ]
  },
  {
   "cell_type": "code",
   "execution_count": 31,
   "metadata": {},
   "outputs": [],
   "source": [
    "hurricanes_df.to_csv(\"Data/00_Hurricane Data 2019_with_unique_IDs.csv\")"
   ]
  },
  {
   "cell_type": "code",
   "execution_count": 32,
   "metadata": {},
   "outputs": [
    {
     "data": {
      "text/html": [
       "<div>\n",
       "<style scoped>\n",
       "    .dataframe tbody tr th:only-of-type {\n",
       "        vertical-align: middle;\n",
       "    }\n",
       "\n",
       "    .dataframe tbody tr th {\n",
       "        vertical-align: top;\n",
       "    }\n",
       "\n",
       "    .dataframe thead th {\n",
       "        text-align: right;\n",
       "    }\n",
       "</style>\n",
       "<table border=\"1\" class=\"dataframe\">\n",
       "  <thead>\n",
       "    <tr style=\"text-align: right;\">\n",
       "      <th></th>\n",
       "      <th>hurricane_id</th>\n",
       "      <th>date</th>\n",
       "      <th>name</th>\n",
       "      <th>time</th>\n",
       "      <th>status</th>\n",
       "      <th>latitude</th>\n",
       "      <th>longitude</th>\n",
       "      <th>max_wind</th>\n",
       "      <th>air_pressure</th>\n",
       "      <th>latitude_decimal</th>\n",
       "      <th>longitude_decimal</th>\n",
       "      <th>year</th>\n",
       "    </tr>\n",
       "  </thead>\n",
       "  <tbody>\n",
       "    <tr>\n",
       "      <th>0</th>\n",
       "      <td>1</td>\n",
       "      <td>19500812</td>\n",
       "      <td>Able</td>\n",
       "      <td>0</td>\n",
       "      <td>TS</td>\n",
       "      <td>17.1N</td>\n",
       "      <td>55.5W</td>\n",
       "      <td>35</td>\n",
       "      <td>-999</td>\n",
       "      <td>17.02</td>\n",
       "      <td>-55.08</td>\n",
       "      <td>1950</td>\n",
       "    </tr>\n",
       "    <tr>\n",
       "      <th>1</th>\n",
       "      <td>2</td>\n",
       "      <td>19500818</td>\n",
       "      <td>Baker</td>\n",
       "      <td>1200</td>\n",
       "      <td>TD</td>\n",
       "      <td>12.0N</td>\n",
       "      <td>54.0W</td>\n",
       "      <td>30</td>\n",
       "      <td>-999</td>\n",
       "      <td>12.00</td>\n",
       "      <td>-54.00</td>\n",
       "      <td>1950</td>\n",
       "    </tr>\n",
       "    <tr>\n",
       "      <th>2</th>\n",
       "      <td>3</td>\n",
       "      <td>19500821</td>\n",
       "      <td>Charlie</td>\n",
       "      <td>1200</td>\n",
       "      <td>TS</td>\n",
       "      <td>11.1N</td>\n",
       "      <td>26.4W</td>\n",
       "      <td>35</td>\n",
       "      <td>-999</td>\n",
       "      <td>11.02</td>\n",
       "      <td>-26.07</td>\n",
       "      <td>1950</td>\n",
       "    </tr>\n",
       "    <tr>\n",
       "      <th>3</th>\n",
       "      <td>4</td>\n",
       "      <td>19500830</td>\n",
       "      <td>Dog</td>\n",
       "      <td>1800</td>\n",
       "      <td>HU</td>\n",
       "      <td>15.2N</td>\n",
       "      <td>55.6W</td>\n",
       "      <td>80</td>\n",
       "      <td>-999</td>\n",
       "      <td>15.03</td>\n",
       "      <td>-55.10</td>\n",
       "      <td>1950</td>\n",
       "    </tr>\n",
       "    <tr>\n",
       "      <th>4</th>\n",
       "      <td>5</td>\n",
       "      <td>19500901</td>\n",
       "      <td>Easy</td>\n",
       "      <td>600</td>\n",
       "      <td>TS</td>\n",
       "      <td>19.7N</td>\n",
       "      <td>83.2W</td>\n",
       "      <td>40</td>\n",
       "      <td>-999</td>\n",
       "      <td>19.12</td>\n",
       "      <td>-83.03</td>\n",
       "      <td>1950</td>\n",
       "    </tr>\n",
       "  </tbody>\n",
       "</table>\n",
       "</div>"
      ],
      "text/plain": [
       "   hurricane_id      date     name  time status latitude longitude  max_wind  \\\n",
       "0             1  19500812     Able     0     TS    17.1N     55.5W        35   \n",
       "1             2  19500818    Baker  1200     TD    12.0N     54.0W        30   \n",
       "2             3  19500821  Charlie  1200     TS    11.1N     26.4W        35   \n",
       "3             4  19500830      Dog  1800     HU    15.2N     55.6W        80   \n",
       "4             5  19500901     Easy   600     TS    19.7N     83.2W        40   \n",
       "\n",
       "   air_pressure  latitude_decimal  longitude_decimal  year  \n",
       "0          -999             17.02             -55.08  1950  \n",
       "1          -999             12.00             -54.00  1950  \n",
       "2          -999             11.02             -26.07  1950  \n",
       "3          -999             15.03             -55.10  1950  \n",
       "4          -999             19.12             -83.03  1950  "
      ]
     },
     "execution_count": 32,
     "metadata": {},
     "output_type": "execute_result"
    }
   ],
   "source": [
    "hurricanes_df.head()"
   ]
  },
  {
   "cell_type": "markdown",
   "metadata": {},
   "source": [
    "### Merge main df with costliest df on name and keep hurricane_id as foreign key"
   ]
  },
  {
   "cell_type": "markdown",
   "metadata": {},
   "source": [
    "### Mac (Irina) Connection"
   ]
  },
  {
   "cell_type": "code",
   "execution_count": 33,
   "metadata": {},
   "outputs": [
    {
     "name": "stdout",
     "output_type": "stream",
     "text": [
      "/usr/local/bin/chromedriver\r\n"
     ]
    }
   ],
   "source": [
    "# https://splinter.readthedocs.io/en/latest/drivers/chrome.html\n",
    "!which chromedriver"
   ]
  },
  {
   "cell_type": "code",
   "execution_count": 34,
   "metadata": {},
   "outputs": [],
   "source": [
    "# executable_path = {'executable_path': '/usr/local/bin/chromedriver'}\n",
    "# browser = Browser('chrome', **executable_path, headless=False)"
   ]
  },
  {
   "cell_type": "markdown",
   "metadata": {},
   "source": [
    "### Windows (Clay) Connection"
   ]
  },
  {
   "cell_type": "code",
   "execution_count": 35,
   "metadata": {},
   "outputs": [],
   "source": [
    "# executable_path = {'executable_path': 'C:/Users/Clay/chromedriver.exe'}\n",
    "# browser = Browser('chrome', **executable_path, headless=False)"
   ]
  },
  {
   "cell_type": "markdown",
   "metadata": {},
   "source": [
    "### Dataset 1 - Web Scrape Wikipedia Most Costliest hurricanes"
   ]
  },
  {
   "cell_type": "code",
   "execution_count": 36,
   "metadata": {},
   "outputs": [
    {
     "name": "stdout",
     "output_type": "stream",
     "text": [
      "Open web browser\n",
      "Read and save table\n"
     ]
    },
    {
     "data": {
      "text/html": [
       "<div>\n",
       "<style scoped>\n",
       "    .dataframe tbody tr th:only-of-type {\n",
       "        vertical-align: middle;\n",
       "    }\n",
       "\n",
       "    .dataframe tbody tr th {\n",
       "        vertical-align: top;\n",
       "    }\n",
       "\n",
       "    .dataframe thead th {\n",
       "        text-align: right;\n",
       "    }\n",
       "</style>\n",
       "<table border=\"1\" class=\"dataframe\">\n",
       "  <thead>\n",
       "    <tr style=\"text-align: right;\">\n",
       "      <th></th>\n",
       "      <th>Name</th>\n",
       "      <th>Nominal damage(Billions USD)</th>\n",
       "      <th>Normalized damage(Billions USD)</th>\n",
       "      <th>Season</th>\n",
       "      <th>Storm classificationat peak intensity</th>\n",
       "      <th>Areas affected</th>\n",
       "      <th>References</th>\n",
       "    </tr>\n",
       "  </thead>\n",
       "  <tbody>\n",
       "    <tr>\n",
       "      <th>0</th>\n",
       "      <td>Katrina</td>\n",
       "      <td>$125.0</td>\n",
       "      <td>$116.9</td>\n",
       "      <td>2005</td>\n",
       "      <td>Category 5 hurricane</td>\n",
       "      <td>Louisiana Mississippi The Bahamas United State...</td>\n",
       "      <td>[4][5]</td>\n",
       "    </tr>\n",
       "    <tr>\n",
       "      <th>1</th>\n",
       "      <td>Harvey</td>\n",
       "      <td>$125.0</td>\n",
       "      <td>$62.2</td>\n",
       "      <td>2017</td>\n",
       "      <td>Category 4 hurricane</td>\n",
       "      <td>Texas Louisiana South America Central America ...</td>\n",
       "      <td>[5][6]</td>\n",
       "    </tr>\n",
       "    <tr>\n",
       "      <th>2</th>\n",
       "      <td>Maria</td>\n",
       "      <td>$90.0</td>\n",
       "      <td>NaN</td>\n",
       "      <td>2017</td>\n",
       "      <td>Category 5 hurricane</td>\n",
       "      <td>Puerto Rico Lesser Antilles Greater Antilles C...</td>\n",
       "      <td>[7]</td>\n",
       "    </tr>\n",
       "    <tr>\n",
       "      <th>3</th>\n",
       "      <td>Irma</td>\n",
       "      <td>$77.2</td>\n",
       "      <td>$31.0</td>\n",
       "      <td>2017</td>\n",
       "      <td>Category 5 hurricane</td>\n",
       "      <td>Lesser Antilles Greater Antilles Caribbean Sea...</td>\n",
       "      <td>[5]</td>\n",
       "    </tr>\n",
       "    <tr>\n",
       "      <th>4</th>\n",
       "      <td>Sandy</td>\n",
       "      <td>$68.7</td>\n",
       "      <td>$73.5</td>\n",
       "      <td>2012</td>\n",
       "      <td>Category 3 hurricane</td>\n",
       "      <td>The Caribbean United States East Coast Eastern...</td>\n",
       "      <td>[5][8]</td>\n",
       "    </tr>\n",
       "  </tbody>\n",
       "</table>\n",
       "</div>"
      ],
      "text/plain": [
       "      Name Nominal damage(Billions USD) Normalized damage(Billions USD)  \\\n",
       "0  Katrina                       $125.0                          $116.9   \n",
       "1   Harvey                       $125.0                           $62.2   \n",
       "2    Maria                        $90.0                             NaN   \n",
       "3     Irma                        $77.2                           $31.0   \n",
       "4    Sandy                        $68.7                           $73.5   \n",
       "\n",
       "   Season Storm classificationat peak intensity  \\\n",
       "0    2005                  Category 5 hurricane   \n",
       "1    2017                  Category 4 hurricane   \n",
       "2    2017                  Category 5 hurricane   \n",
       "3    2017                  Category 5 hurricane   \n",
       "4    2012                  Category 3 hurricane   \n",
       "\n",
       "                                      Areas affected References  \n",
       "0  Louisiana Mississippi The Bahamas United State...     [4][5]  \n",
       "1  Texas Louisiana South America Central America ...     [5][6]  \n",
       "2  Puerto Rico Lesser Antilles Greater Antilles C...        [7]  \n",
       "3  Lesser Antilles Greater Antilles Caribbean Sea...        [5]  \n",
       "4  The Caribbean United States East Coast Eastern...     [5][8]  "
      ]
     },
     "execution_count": 36,
     "metadata": {},
     "output_type": "execute_result"
    }
   ],
   "source": [
    "url = 'https://en.wikipedia.org/wiki/List_of_costliest_Atlantic_hurricanes'\n",
    "executable_path = {'executable_path': '/usr/local/bin/chromedriver'}\n",
    "browser = Browser('chrome', **executable_path, headless=False)\n",
    "browser.visit(url)\n",
    "time.sleep(3)\n",
    "print(\"Open web browser\")\n",
    "tables = pd.read_html(url)\n",
    "most_costly_hurricanes = tables[0]\n",
    "print(\"Read and save table\")\n",
    "browser.quit()\n",
    "most_costly_hurricanes.head()"
   ]
  },
  {
   "cell_type": "code",
   "execution_count": 37,
   "metadata": {},
   "outputs": [],
   "source": [
    "# Create a copy of the df\n",
    "renamed_cost_df = most_costly_hurricanes"
   ]
  },
  {
   "cell_type": "code",
   "execution_count": 38,
   "metadata": {},
   "outputs": [],
   "source": [
    "# # Rename columns\n",
    "renamed_cost_df = renamed_cost_df.rename(columns={'Name': 'name','Nominal damage(Billions USD)': 'damage_usd', 'Normalized damage(Billions USD)': 'norm_damage_usd', \n",
    "                'Season': 'year', 'Storm classificationat peak intensity': 'category', 'Areas affected':'states'})"
   ]
  },
  {
   "cell_type": "code",
   "execution_count": 39,
   "metadata": {},
   "outputs": [],
   "source": [
    "# Drop Reference column\n",
    "renamed_cost_df = renamed_cost_df.drop(columns=['References','states'])"
   ]
  },
  {
   "cell_type": "code",
   "execution_count": 40,
   "metadata": {},
   "outputs": [
    {
     "data": {
      "text/html": [
       "<div>\n",
       "<style scoped>\n",
       "    .dataframe tbody tr th:only-of-type {\n",
       "        vertical-align: middle;\n",
       "    }\n",
       "\n",
       "    .dataframe tbody tr th {\n",
       "        vertical-align: top;\n",
       "    }\n",
       "\n",
       "    .dataframe thead th {\n",
       "        text-align: right;\n",
       "    }\n",
       "</style>\n",
       "<table border=\"1\" class=\"dataframe\">\n",
       "  <thead>\n",
       "    <tr style=\"text-align: right;\">\n",
       "      <th></th>\n",
       "      <th>name</th>\n",
       "      <th>damage_usd</th>\n",
       "      <th>norm_damage_usd</th>\n",
       "      <th>year</th>\n",
       "      <th>category</th>\n",
       "    </tr>\n",
       "  </thead>\n",
       "  <tbody>\n",
       "    <tr>\n",
       "      <th>0</th>\n",
       "      <td>Katrina</td>\n",
       "      <td>$125.0</td>\n",
       "      <td>$116.9</td>\n",
       "      <td>2005</td>\n",
       "      <td>Category 5 hurricane</td>\n",
       "    </tr>\n",
       "    <tr>\n",
       "      <th>1</th>\n",
       "      <td>Harvey</td>\n",
       "      <td>$125.0</td>\n",
       "      <td>$62.2</td>\n",
       "      <td>2017</td>\n",
       "      <td>Category 4 hurricane</td>\n",
       "    </tr>\n",
       "    <tr>\n",
       "      <th>2</th>\n",
       "      <td>Maria</td>\n",
       "      <td>$90.0</td>\n",
       "      <td>NaN</td>\n",
       "      <td>2017</td>\n",
       "      <td>Category 5 hurricane</td>\n",
       "    </tr>\n",
       "    <tr>\n",
       "      <th>3</th>\n",
       "      <td>Irma</td>\n",
       "      <td>$77.2</td>\n",
       "      <td>$31.0</td>\n",
       "      <td>2017</td>\n",
       "      <td>Category 5 hurricane</td>\n",
       "    </tr>\n",
       "    <tr>\n",
       "      <th>4</th>\n",
       "      <td>Sandy</td>\n",
       "      <td>$68.7</td>\n",
       "      <td>$73.5</td>\n",
       "      <td>2012</td>\n",
       "      <td>Category 3 hurricane</td>\n",
       "    </tr>\n",
       "  </tbody>\n",
       "</table>\n",
       "</div>"
      ],
      "text/plain": [
       "      name damage_usd norm_damage_usd  year              category\n",
       "0  Katrina     $125.0          $116.9  2005  Category 5 hurricane\n",
       "1   Harvey     $125.0           $62.2  2017  Category 4 hurricane\n",
       "2    Maria      $90.0             NaN  2017  Category 5 hurricane\n",
       "3     Irma      $77.2           $31.0  2017  Category 5 hurricane\n",
       "4    Sandy      $68.7           $73.5  2012  Category 3 hurricane"
      ]
     },
     "execution_count": 40,
     "metadata": {},
     "output_type": "execute_result"
    }
   ],
   "source": [
    "renamed_cost_df.head()"
   ]
  },
  {
   "cell_type": "code",
   "execution_count": 41,
   "metadata": {},
   "outputs": [],
   "source": [
    "# Save to the csv file\n",
    "renamed_cost_df.to_csv(\"Data/01_most_costly_hurricanes_wiki_web.csv\")"
   ]
  },
  {
   "cell_type": "code",
   "execution_count": 42,
   "metadata": {},
   "outputs": [],
   "source": [
    "# Read csv file into df\n",
    "renamed_cost_df = pd.read_csv('Data/01_most_costly_hurricanes_wiki_web.csv', index_col=[0])"
   ]
  },
  {
   "cell_type": "code",
   "execution_count": 43,
   "metadata": {},
   "outputs": [
    {
     "data": {
      "text/html": [
       "<div>\n",
       "<style scoped>\n",
       "    .dataframe tbody tr th:only-of-type {\n",
       "        vertical-align: middle;\n",
       "    }\n",
       "\n",
       "    .dataframe tbody tr th {\n",
       "        vertical-align: top;\n",
       "    }\n",
       "\n",
       "    .dataframe thead th {\n",
       "        text-align: right;\n",
       "    }\n",
       "</style>\n",
       "<table border=\"1\" class=\"dataframe\">\n",
       "  <thead>\n",
       "    <tr style=\"text-align: right;\">\n",
       "      <th></th>\n",
       "      <th>name</th>\n",
       "      <th>damage_usd</th>\n",
       "      <th>norm_damage_usd</th>\n",
       "      <th>year</th>\n",
       "      <th>category</th>\n",
       "    </tr>\n",
       "  </thead>\n",
       "  <tbody>\n",
       "    <tr>\n",
       "      <th>0</th>\n",
       "      <td>Katrina</td>\n",
       "      <td>$125.0</td>\n",
       "      <td>$116.9</td>\n",
       "      <td>2005</td>\n",
       "      <td>Category 5 hurricane</td>\n",
       "    </tr>\n",
       "    <tr>\n",
       "      <th>1</th>\n",
       "      <td>Harvey</td>\n",
       "      <td>$125.0</td>\n",
       "      <td>$62.2</td>\n",
       "      <td>2017</td>\n",
       "      <td>Category 4 hurricane</td>\n",
       "    </tr>\n",
       "    <tr>\n",
       "      <th>2</th>\n",
       "      <td>Maria</td>\n",
       "      <td>$90.0</td>\n",
       "      <td>NaN</td>\n",
       "      <td>2017</td>\n",
       "      <td>Category 5 hurricane</td>\n",
       "    </tr>\n",
       "    <tr>\n",
       "      <th>3</th>\n",
       "      <td>Irma</td>\n",
       "      <td>$77.2</td>\n",
       "      <td>$31.0</td>\n",
       "      <td>2017</td>\n",
       "      <td>Category 5 hurricane</td>\n",
       "    </tr>\n",
       "    <tr>\n",
       "      <th>4</th>\n",
       "      <td>Sandy</td>\n",
       "      <td>$68.7</td>\n",
       "      <td>$73.5</td>\n",
       "      <td>2012</td>\n",
       "      <td>Category 3 hurricane</td>\n",
       "    </tr>\n",
       "  </tbody>\n",
       "</table>\n",
       "</div>"
      ],
      "text/plain": [
       "      name damage_usd norm_damage_usd  year              category\n",
       "0  Katrina     $125.0          $116.9  2005  Category 5 hurricane\n",
       "1   Harvey     $125.0           $62.2  2017  Category 4 hurricane\n",
       "2    Maria      $90.0             NaN  2017  Category 5 hurricane\n",
       "3     Irma      $77.2           $31.0  2017  Category 5 hurricane\n",
       "4    Sandy      $68.7           $73.5  2012  Category 3 hurricane"
      ]
     },
     "execution_count": 43,
     "metadata": {},
     "output_type": "execute_result"
    }
   ],
   "source": [
    "renamed_cost_df.head()"
   ]
  },
  {
   "cell_type": "markdown",
   "metadata": {},
   "source": [
    "## Prepare Cost data"
   ]
  },
  {
   "cell_type": "code",
   "execution_count": 44,
   "metadata": {},
   "outputs": [],
   "source": [
    "cost_df = renamed_cost_df"
   ]
  },
  {
   "cell_type": "code",
   "execution_count": 45,
   "metadata": {},
   "outputs": [
    {
     "data": {
      "text/plain": [
       "54"
      ]
     },
     "execution_count": 45,
     "metadata": {},
     "output_type": "execute_result"
    }
   ],
   "source": [
    "cost_df[\"norm_damage_usd\"] = cost_df[\"norm_damage_usd\"].str.replace('$','')\n",
    "cost_df[\"norm_damage_usd\"] = cost_df[\"norm_damage_usd\"].str.replace('<','')\n",
    "cost_df[\"norm_damage_usd\"] = cost_df[\"norm_damage_usd\"].str.replace('>','')\n",
    "cost_df[\"damage_usd\"] = cost_df[\"damage_usd\"].str.replace('$','')\n",
    "cost_df[\"damage_usd\"] = cost_df[\"damage_usd\"].str.replace('<','')\n",
    "cost_df[\"damage_usd\"] = cost_df[\"damage_usd\"].str.replace('>','')\n",
    "cost_df['norm_damage_usd'] = cost_df['norm_damage_usd'].astype(float)\n",
    "cost_df['norm_damage_usd'] = cost_df['norm_damage_usd'].dropna()\n",
    "cost_df['damage_usd'] = cost_df['damage_usd'].astype(float)\n",
    "cost_df['damage_usd'] = cost_df['damage_usd'].dropna()\n",
    "cost_df = cost_df.dropna()\n",
    "len(cost_df) # 54 count"
   ]
  },
  {
   "cell_type": "code",
   "execution_count": 46,
   "metadata": {},
   "outputs": [
    {
     "data": {
      "text/plain": [
       "54"
      ]
     },
     "execution_count": 46,
     "metadata": {},
     "output_type": "execute_result"
    }
   ],
   "source": [
    "len(cost_df)"
   ]
  },
  {
   "cell_type": "code",
   "execution_count": 47,
   "metadata": {},
   "outputs": [
    {
     "data": {
      "text/plain": [
       "54"
      ]
     },
     "execution_count": 47,
     "metadata": {},
     "output_type": "execute_result"
    }
   ],
   "source": [
    "len(cost_df['name'].unique())"
   ]
  },
  {
   "cell_type": "code",
   "execution_count": 50,
   "metadata": {},
   "outputs": [
    {
     "data": {
      "text/html": [
       "<div>\n",
       "<style scoped>\n",
       "    .dataframe tbody tr th:only-of-type {\n",
       "        vertical-align: middle;\n",
       "    }\n",
       "\n",
       "    .dataframe tbody tr th {\n",
       "        vertical-align: top;\n",
       "    }\n",
       "\n",
       "    .dataframe thead th {\n",
       "        text-align: right;\n",
       "    }\n",
       "</style>\n",
       "<table border=\"1\" class=\"dataframe\">\n",
       "  <thead>\n",
       "    <tr style=\"text-align: right;\">\n",
       "      <th></th>\n",
       "      <th>name</th>\n",
       "      <th>damage_usd</th>\n",
       "      <th>norm_damage_usd</th>\n",
       "      <th>year</th>\n",
       "      <th>category</th>\n",
       "    </tr>\n",
       "  </thead>\n",
       "  <tbody>\n",
       "    <tr>\n",
       "      <th>0</th>\n",
       "      <td>Katrina</td>\n",
       "      <td>125.0</td>\n",
       "      <td>116.9</td>\n",
       "      <td>2005</td>\n",
       "      <td>Category 5 hurricane</td>\n",
       "    </tr>\n",
       "    <tr>\n",
       "      <th>1</th>\n",
       "      <td>Harvey</td>\n",
       "      <td>125.0</td>\n",
       "      <td>62.2</td>\n",
       "      <td>2017</td>\n",
       "      <td>Category 4 hurricane</td>\n",
       "    </tr>\n",
       "    <tr>\n",
       "      <th>3</th>\n",
       "      <td>Irma</td>\n",
       "      <td>77.2</td>\n",
       "      <td>31.0</td>\n",
       "      <td>2017</td>\n",
       "      <td>Category 5 hurricane</td>\n",
       "    </tr>\n",
       "    <tr>\n",
       "      <th>4</th>\n",
       "      <td>Sandy</td>\n",
       "      <td>68.7</td>\n",
       "      <td>73.5</td>\n",
       "      <td>2012</td>\n",
       "      <td>Category 3 hurricane</td>\n",
       "    </tr>\n",
       "    <tr>\n",
       "      <th>5</th>\n",
       "      <td>Ike</td>\n",
       "      <td>38.0</td>\n",
       "      <td>35.2</td>\n",
       "      <td>2008</td>\n",
       "      <td>Category 4 hurricane</td>\n",
       "    </tr>\n",
       "  </tbody>\n",
       "</table>\n",
       "</div>"
      ],
      "text/plain": [
       "      name  damage_usd  norm_damage_usd  year              category\n",
       "0  Katrina       125.0            116.9  2005  Category 5 hurricane\n",
       "1   Harvey       125.0             62.2  2017  Category 4 hurricane\n",
       "3     Irma        77.2             31.0  2017  Category 5 hurricane\n",
       "4    Sandy        68.7             73.5  2012  Category 3 hurricane\n",
       "5      Ike        38.0             35.2  2008  Category 4 hurricane"
      ]
     },
     "execution_count": 50,
     "metadata": {},
     "output_type": "execute_result"
    }
   ],
   "source": [
    "cost_df.head()"
   ]
  },
  {
   "cell_type": "code",
   "execution_count": 51,
   "metadata": {},
   "outputs": [],
   "source": [
    "# # Merge two dataframes on both 'name' and 'year' columns to avoid duplicated entries\n",
    "# new_df = pd.merge(cost_df, clean_df,  how='left', left_on=['name','year'], right_on = ['name','year'])"
   ]
  },
  {
   "cell_type": "code",
   "execution_count": 52,
   "metadata": {},
   "outputs": [
    {
     "ename": "NameError",
     "evalue": "name 'fatal_df' is not defined",
     "output_type": "error",
     "traceback": [
      "\u001b[0;31m---------------------------------------------------------------------------\u001b[0m",
      "\u001b[0;31mNameError\u001b[0m                                 Traceback (most recent call last)",
      "\u001b[0;32m<ipython-input-52-5f2965403c4e>\u001b[0m in \u001b[0;36m<module>\u001b[0;34m\u001b[0m\n\u001b[1;32m      1\u001b[0m \u001b[0;31m# Merge two dataframes on both 'name' and 'year' columns to avoid duplicated entries\u001b[0m\u001b[0;34m\u001b[0m\u001b[0;34m\u001b[0m\u001b[0;34m\u001b[0m\u001b[0m\n\u001b[0;32m----> 2\u001b[0;31m new_df2 = pd.merge(fatal_df, hurricanes_df,  \n\u001b[0m\u001b[1;32m      3\u001b[0m                   how='left', left_on=['name','year'], right_on = ['name','year'])\n",
      "\u001b[0;31mNameError\u001b[0m: name 'fatal_df' is not defined"
     ]
    }
   ],
   "source": [
    "# Merge two dataframes on both 'name' and 'year' columns to avoid duplicated entries\n",
    "new_df2 = pd.merge(fatal_df, hurricanes_df,  \n",
    "                  how='left', left_on=['name','year'], right_on = ['name','year'])"
   ]
  },
  {
   "cell_type": "code",
   "execution_count": null,
   "metadata": {},
   "outputs": [],
   "source": [
    "len(new_df2)"
   ]
  },
  {
   "cell_type": "code",
   "execution_count": null,
   "metadata": {},
   "outputs": [],
   "source": [
    "new_df2.head(60)"
   ]
  },
  {
   "cell_type": "code",
   "execution_count": null,
   "metadata": {
    "scrolled": true
   },
   "outputs": [],
   "source": [
    "# Sort merged df by norm_damage_usd column in descending order \n",
    "sorted_new_df = new_df.sort_values(by=['norm_damage_usd'], ascending=False)\n",
    "sorted_new_df.head(54)"
   ]
  },
  {
   "cell_type": "code",
   "execution_count": null,
   "metadata": {},
   "outputs": [],
   "source": [
    "# Re-assign to cost_df\n",
    "cost_df = sorted_new_df"
   ]
  },
  {
   "cell_type": "code",
   "execution_count": null,
   "metadata": {},
   "outputs": [],
   "source": [
    "# Drop unnecessary columns\n",
    "cost_df = cost_df.drop(columns=['category','date','time','status','latitude','longitude','max_wind','air_pressure','latitude_decimal','longitude_decimal'])"
   ]
  },
  {
   "cell_type": "code",
   "execution_count": null,
   "metadata": {},
   "outputs": [],
   "source": [
    "cost_df = cost_df[['hurricane_id','name','year','norm_damage_usd','damage_usd']]\n",
    "cost_df.head()"
   ]
  },
  {
   "cell_type": "code",
   "execution_count": null,
   "metadata": {},
   "outputs": [],
   "source": []
  },
  {
   "cell_type": "code",
   "execution_count": null,
   "metadata": {},
   "outputs": [],
   "source": []
  },
  {
   "cell_type": "markdown",
   "metadata": {},
   "source": [
    "## Dataset 2 - Deadliest hurricanes in the atlantic\n",
    "#### https://en.wikipedia.org/wiki/List_of_deadliest_Atlantic_hurricanes"
   ]
  },
  {
   "cell_type": "code",
   "execution_count": null,
   "metadata": {},
   "outputs": [],
   "source": [
    "url = 'https://en.wikipedia.org/wiki/List_of_deadliest_Atlantic_hurricanes'\n",
    "executable_path = {'executable_path': '/usr/local/bin/chromedriver'}\n",
    "browser = Browser('chrome', **executable_path, headless=False)\n",
    "browser.visit(url)\n",
    "time.sleep(3)\n",
    "print(\"Open web browser\")\n",
    "tables = pd.read_html(url)\n",
    "most_deadliest_hurricanes = tables[2]\n",
    "print(\"Read and save table\")\n",
    "browser.quit()\n",
    "most_deadliest_hurricanes.head()"
   ]
  },
  {
   "cell_type": "code",
   "execution_count": null,
   "metadata": {},
   "outputs": [],
   "source": [
    "most_fatal_hurricanes = most_deadliest_hurricanes.head(22)"
   ]
  },
  {
   "cell_type": "code",
   "execution_count": null,
   "metadata": {},
   "outputs": [],
   "source": [
    "most_fatal_hurricanes.tail()"
   ]
  },
  {
   "cell_type": "code",
   "execution_count": null,
   "metadata": {},
   "outputs": [],
   "source": [
    "len(most_fatal_hurricanes)"
   ]
  },
  {
   "cell_type": "code",
   "execution_count": 53,
   "metadata": {},
   "outputs": [
    {
     "ename": "NameError",
     "evalue": "name 'most_fatal_hurricanes' is not defined",
     "output_type": "error",
     "traceback": [
      "\u001b[0;31m---------------------------------------------------------------------------\u001b[0m",
      "\u001b[0;31mNameError\u001b[0m                                 Traceback (most recent call last)",
      "\u001b[0;32m<ipython-input-53-4b3ffaa1a634>\u001b[0m in \u001b[0;36m<module>\u001b[0;34m\u001b[0m\n\u001b[1;32m      1\u001b[0m \u001b[0;31m# Create a copy of the df\u001b[0m\u001b[0;34m\u001b[0m\u001b[0;34m\u001b[0m\u001b[0;34m\u001b[0m\u001b[0m\n\u001b[0;32m----> 2\u001b[0;31m \u001b[0mfatal_df\u001b[0m \u001b[0;34m=\u001b[0m \u001b[0mmost_fatal_hurricanes\u001b[0m\u001b[0;34m\u001b[0m\u001b[0;34m\u001b[0m\u001b[0m\n\u001b[0m\u001b[1;32m      3\u001b[0m \u001b[0mlen\u001b[0m\u001b[0;34m(\u001b[0m\u001b[0mfatal_df\u001b[0m\u001b[0;34m)\u001b[0m\u001b[0;34m\u001b[0m\u001b[0;34m\u001b[0m\u001b[0m\n",
      "\u001b[0;31mNameError\u001b[0m: name 'most_fatal_hurricanes' is not defined"
     ]
    }
   ],
   "source": [
    "# Create a copy of the df\n",
    "fatal_df = most_fatal_hurricanes\n",
    "len(fatal_df)"
   ]
  },
  {
   "cell_type": "code",
   "execution_count": null,
   "metadata": {},
   "outputs": [],
   "source": [
    "dates_active = fatal_df['Dates active']\n",
    "dates_active"
   ]
  },
  {
   "cell_type": "code",
   "execution_count": null,
   "metadata": {},
   "outputs": [],
   "source": [
    "dates_list = []\n",
    "for i in range(len(dates_active)):\n",
    "    split_str = dates_active[i].split(\",\")[-1]\n",
    "    print(split_str)\n",
    "    dates_list.append(int(split_str))\n",
    "print(len(dates_list))"
   ]
  },
  {
   "cell_type": "code",
   "execution_count": null,
   "metadata": {},
   "outputs": [],
   "source": [
    "fatal_df['year'] = dates_lst\n",
    "fatal_df.head()"
   ]
  },
  {
   "cell_type": "code",
   "execution_count": null,
   "metadata": {},
   "outputs": [],
   "source": [
    "# Drop columns\n",
    "fatal_df = fatal_df.drop(columns=['Dates active','Saffir-Simpson Category',\n",
    "                                          'Sustainedwind speeds','Pressure','Areas affected','Damage(US$)','Refs'])"
   ]
  },
  {
   "cell_type": "code",
   "execution_count": null,
   "metadata": {},
   "outputs": [],
   "source": [
    "fatal_df = fatal_df.rename(columns={'Name': 'name', 'Deaths': 'deaths'})\n",
    "fatal_df.head()"
   ]
  },
  {
   "cell_type": "code",
   "execution_count": null,
   "metadata": {},
   "outputs": [],
   "source": [
    "fatal_df.head()"
   ]
  },
  {
   "cell_type": "code",
   "execution_count": null,
   "metadata": {},
   "outputs": [],
   "source": [
    "fatal_df[\"deaths\"] = fatal_df[\"deaths\"].str.replace(',','')\n",
    "fatal_df[\"deaths\"] = fatal_df[\"deaths\"].str.replace('–',',')\n",
    "fatal_df.head()"
   ]
  },
  {
   "cell_type": "code",
   "execution_count": null,
   "metadata": {},
   "outputs": [],
   "source": [
    "fatal_list = fatal_df[\"deaths\"]"
   ]
  },
  {
   "cell_type": "code",
   "execution_count": null,
   "metadata": {},
   "outputs": [],
   "source": [
    "num_avg = []\n",
    "for i in range(len(fatal_list)):\n",
    "    if \",\" in fatal_list[i]:\n",
    "        num0 = fatal_list[i].split(\",\")[0]\n",
    "        num1 = fatal_list[i].split(\",\")[1]\n",
    "        num = (int(num1) + int(num0))/2\n",
    "        num_avg.append(num)\n",
    "    else: num_avg.append(fatal_list[i])\n",
    "print(num_avg)"
   ]
  },
  {
   "cell_type": "code",
   "execution_count": null,
   "metadata": {},
   "outputs": [],
   "source": [
    "fatal_df = fatal_df.drop(columns=\"deaths\")"
   ]
  },
  {
   "cell_type": "code",
   "execution_count": null,
   "metadata": {},
   "outputs": [],
   "source": [
    "fatal_df['deaths'] = num_avg"
   ]
  },
  {
   "cell_type": "code",
   "execution_count": null,
   "metadata": {},
   "outputs": [],
   "source": [
    "fatal_df = fatal_df.head(22)"
   ]
  },
  {
   "cell_type": "code",
   "execution_count": null,
   "metadata": {},
   "outputs": [],
   "source": [
    "fatal_df.head()"
   ]
  },
  {
   "cell_type": "code",
   "execution_count": null,
   "metadata": {},
   "outputs": [],
   "source": [
    "len(fatal_df)"
   ]
  },
  {
   "cell_type": "code",
   "execution_count": null,
   "metadata": {},
   "outputs": [],
   "source": [
    "# Merge two dataframes on both 'name' and 'year' columns to avoid duplicated entries\n",
    "new_fatal_merged_df = pd.merge(fatal_df, hurricanes_df,  how='left', \n",
    "                               left_on=['name', 'year'], right_on = ['name','year'])\n",
    "new_fatal_merged_df.head()"
   ]
  },
  {
   "cell_type": "code",
   "execution_count": null,
   "metadata": {},
   "outputs": [],
   "source": [
    "new_fatal_merged_df.tail(60)"
   ]
  },
  {
   "cell_type": "code",
   "execution_count": null,
   "metadata": {},
   "outputs": [],
   "source": [
    "# Filter out unnamed hurricanes before 1975\n",
    "fatal_df = new_fatal_merged_df[new_fatal_merged_df['year'] > 1975]\n",
    "fatal_df.head()"
   ]
  },
  {
   "cell_type": "code",
   "execution_count": null,
   "metadata": {},
   "outputs": [],
   "source": [
    "fatal_df.info()"
   ]
  },
  {
   "cell_type": "code",
   "execution_count": null,
   "metadata": {},
   "outputs": [],
   "source": [
    "# Convert hurricane_id back to integer\n",
    "fatal_df['hurricane_id'] = fatal_df['hurricane_id'].astype(int)\n",
    "fatal_df.head()"
   ]
  },
  {
   "cell_type": "code",
   "execution_count": null,
   "metadata": {},
   "outputs": [],
   "source": [
    "fatal_df.info()"
   ]
  },
  {
   "cell_type": "code",
   "execution_count": null,
   "metadata": {},
   "outputs": [],
   "source": [
    "# Drop columns\n",
    "fatal_df = fatal_df[['hurricane_id','name','year','deaths']]"
   ]
  },
  {
   "cell_type": "code",
   "execution_count": null,
   "metadata": {},
   "outputs": [],
   "source": [
    "fatal_df"
   ]
  },
  {
   "cell_type": "code",
   "execution_count": null,
   "metadata": {},
   "outputs": [],
   "source": []
  },
  {
   "cell_type": "code",
   "execution_count": null,
   "metadata": {},
   "outputs": [],
   "source": []
  },
  {
   "cell_type": "markdown",
   "metadata": {},
   "source": [
    "### Merge total_gross_info and domestic_gross_info tables on 'name' column"
   ]
  },
  {
   "cell_type": "code",
   "execution_count": null,
   "metadata": {},
   "outputs": [],
   "source": [
    "# # combine total and domestic tables on left using name of the movie column\n",
    "# combined_gross_info = pd.merge(domestic_gross_info, total_gross_info, how='left', on=\"name\")"
   ]
  },
  {
   "cell_type": "code",
   "execution_count": null,
   "metadata": {},
   "outputs": [],
   "source": [
    "# combined_gross_info.head()"
   ]
  },
  {
   "cell_type": "code",
   "execution_count": null,
   "metadata": {},
   "outputs": [],
   "source": [
    "# len(combined_gross_info)AssertionError"
   ]
  },
  {
   "cell_type": "code",
   "execution_count": null,
   "metadata": {},
   "outputs": [],
   "source": [
    "# # Add new column and compute the international_total_revenue\n",
    "# combined_gross_info['international_revenue_usd'] = \\\n",
    "#         (combined_gross_info['total_revenue_usd'] - combined_gross_info['domestic_revenue_usd'])"
   ]
  },
  {
   "cell_type": "code",
   "execution_count": null,
   "metadata": {},
   "outputs": [],
   "source": [
    "# # Rename columns\n",
    "# combined_gross_info = combined_gross_info.rename(columns={'star':'actor'})"
   ]
  },
  {
   "cell_type": "code",
   "execution_count": null,
   "metadata": {},
   "outputs": [],
   "source": [
    "# # Getting the duplicate movie by title and star released. \n",
    "# dupl_combined_df = combined_gross_info.loc[combined_gross_info.duplicated(subset=[\"name\",\"director\", \"year\"]), \"name\"].unique()\n",
    "# dupl_combined_df"
   ]
  },
  {
   "cell_type": "code",
   "execution_count": null,
   "metadata": {},
   "outputs": [],
   "source": [
    "# # Get all the data for the duplicate movie \n",
    "# dupl_df = combined_gross_info.loc[combined_gross_info[\"name\"] == \"Clash of the titans\"]\n",
    "# dupl_df"
   ]
  },
  {
   "cell_type": "markdown",
   "metadata": {},
   "source": [
    "#### (removed) Use pandas to push data into database"
   ]
  },
  {
   "cell_type": "code",
   "execution_count": null,
   "metadata": {},
   "outputs": [],
   "source": [
    "# # Check existing tables\n",
    "# engine.table_names()"
   ]
  },
  {
   "cell_type": "code",
   "execution_count": null,
   "metadata": {},
   "outputs": [],
   "source": [
    "# # Create domesic gross revenue table in the database\n",
    "# domestic_gross_info.to_sql(name='domestic_gross_info', con=engine, if_exists='append', index=False)"
   ]
  },
  {
   "cell_type": "code",
   "execution_count": null,
   "metadata": {},
   "outputs": [],
   "source": [
    "# type(total_gross_info['name'])"
   ]
  },
  {
   "cell_type": "code",
   "execution_count": null,
   "metadata": {},
   "outputs": [],
   "source": [
    "# total_gross_info"
   ]
  },
  {
   "cell_type": "code",
   "execution_count": null,
   "metadata": {},
   "outputs": [],
   "source": [
    "# domestic_gross_info"
   ]
  },
  {
   "cell_type": "code",
   "execution_count": null,
   "metadata": {},
   "outputs": [],
   "source": [
    "# # Remove the duplicates\n",
    "# # clean_combined_df = combined_gross_info.drop_duplicates(subset=['name','director','year'], keep='first')\n",
    "# clean_combined_df"
   ]
  },
  {
   "cell_type": "code",
   "execution_count": null,
   "metadata": {},
   "outputs": [],
   "source": [
    "# len(clean_combined_df)"
   ]
  },
  {
   "cell_type": "markdown",
   "metadata": {},
   "source": [
    "### Create movies table from combined table"
   ]
  },
  {
   "cell_type": "code",
   "execution_count": null,
   "metadata": {},
   "outputs": [],
   "source": [
    "# # Re-arrange the columns and write into new table\n",
    "# movies = clean_combined_df[['name','total_revenue_usd','international_revenue_usd','domestic_revenue_usd',\n",
    "#                               'director','actor','writer','genre','rating','company','country','year']]"
   ]
  },
  {
   "cell_type": "code",
   "execution_count": null,
   "metadata": {},
   "outputs": [],
   "source": [
    "# movies.head()"
   ]
  },
  {
   "cell_type": "code",
   "execution_count": null,
   "metadata": {},
   "outputs": [],
   "source": [
    "# # Fill NaN values with zeroes\n",
    "# movies[['total_revenue_usd','international_revenue_usd','domestic_revenue_usd']] = \\\n",
    "#     movies[['total_revenue_usd','international_revenue_usd','domestic_revenue_usd']].fillna(0)"
   ]
  },
  {
   "cell_type": "markdown",
   "metadata": {},
   "source": [
    "### Extract Actor data into a separate table"
   ]
  },
  {
   "cell_type": "code",
   "execution_count": null,
   "metadata": {},
   "outputs": [],
   "source": [
    "# # Save star_actor data into a separate table\n",
    "# actor = movies['actor'].unique()\n",
    "# len(actor)"
   ]
  },
  {
   "cell_type": "code",
   "execution_count": null,
   "metadata": {},
   "outputs": [],
   "source": [
    "# actor[:5]"
   ]
  },
  {
   "cell_type": "code",
   "execution_count": null,
   "metadata": {},
   "outputs": [],
   "source": [
    "# actor = pd.DataFrame({'actor': actor})\n",
    "# actor.head(2)"
   ]
  },
  {
   "cell_type": "code",
   "execution_count": null,
   "metadata": {},
   "outputs": [],
   "source": [
    "# actor.index += 1\n",
    "# actor"
   ]
  },
  {
   "cell_type": "code",
   "execution_count": null,
   "metadata": {},
   "outputs": [],
   "source": [
    "# actor = actor.reset_index()\n",
    "# actor.head(2)"
   ]
  },
  {
   "cell_type": "code",
   "execution_count": null,
   "metadata": {},
   "outputs": [],
   "source": [
    "# actor = actor.rename(columns={'index': 'actor_id'})\n",
    "# actor.head()"
   ]
  },
  {
   "cell_type": "code",
   "execution_count": null,
   "metadata": {},
   "outputs": [],
   "source": [
    "# len(actor)"
   ]
  },
  {
   "cell_type": "markdown",
   "metadata": {},
   "source": [
    "### Merge movie and actor df on actor column"
   ]
  },
  {
   "cell_type": "code",
   "execution_count": null,
   "metadata": {},
   "outputs": [],
   "source": [
    "# # combine movie and tables\n",
    "# movie_actor = pd.merge(movies, actor, how='outer', on=\"actor\")"
   ]
  },
  {
   "cell_type": "code",
   "execution_count": null,
   "metadata": {},
   "outputs": [],
   "source": [
    "# # Extract only movie_id and actor_id columns\n",
    "# movie_actor = movie_actor[['movie_id', 'actor_id']]\n",
    "# movie_actor"
   ]
  },
  {
   "cell_type": "code",
   "execution_count": null,
   "metadata": {},
   "outputs": [],
   "source": [
    "# # Save to csv\n",
    "# movie_actor.to_csv('csv_files/movie_actor.csv')"
   ]
  },
  {
   "cell_type": "markdown",
   "metadata": {},
   "source": [
    "### Create director_movie table"
   ]
  },
  {
   "cell_type": "code",
   "execution_count": null,
   "metadata": {},
   "outputs": [],
   "source": [
    "# # Save star_actor data into a separate table\n",
    "# director = movies['director'].unique()\n",
    "# len(director)"
   ]
  },
  {
   "cell_type": "code",
   "execution_count": null,
   "metadata": {},
   "outputs": [],
   "source": [
    "# director[:5]"
   ]
  },
  {
   "cell_type": "code",
   "execution_count": null,
   "metadata": {},
   "outputs": [],
   "source": [
    "# director = pd.DataFrame({'director': director})\n",
    "# director.head(2)"
   ]
  },
  {
   "cell_type": "code",
   "execution_count": null,
   "metadata": {},
   "outputs": [],
   "source": [
    "# director.index += 1\n",
    "# director"
   ]
  },
  {
   "cell_type": "code",
   "execution_count": null,
   "metadata": {},
   "outputs": [],
   "source": [
    "# director = director.reset_index()\n",
    "# director.head(2)"
   ]
  },
  {
   "cell_type": "code",
   "execution_count": 54,
   "metadata": {},
   "outputs": [],
   "source": [
    "# director = director.rename(columns={'index': 'director_id'})\n",
    "# director.head()"
   ]
  },
  {
   "cell_type": "code",
   "execution_count": 55,
   "metadata": {
    "scrolled": true
   },
   "outputs": [],
   "source": [
    "# len(director)"
   ]
  },
  {
   "cell_type": "markdown",
   "metadata": {},
   "source": [
    "### Merge movie and director df on actor column"
   ]
  },
  {
   "cell_type": "code",
   "execution_count": 56,
   "metadata": {},
   "outputs": [],
   "source": [
    "# # combine movie and tables\n",
    "# movie_director = pd.merge(movies, director, how='outer', on=\"director\")"
   ]
  },
  {
   "cell_type": "code",
   "execution_count": 57,
   "metadata": {
    "scrolled": true
   },
   "outputs": [],
   "source": [
    "# # Extract only movie_id and actor_id columns\n",
    "# movie_director = movie_director[['movie_id', 'director_id']]\n",
    "# movie_director"
   ]
  },
  {
   "cell_type": "code",
   "execution_count": 58,
   "metadata": {},
   "outputs": [],
   "source": [
    "# # Save to csv\n",
    "# movie_director.to_csv('csv_files/movie_director.csv')"
   ]
  },
  {
   "cell_type": "markdown",
   "metadata": {},
   "source": [
    "### Create company_movie table"
   ]
  },
  {
   "cell_type": "code",
   "execution_count": 59,
   "metadata": {},
   "outputs": [],
   "source": [
    "# # Save company_movie data into a separate table\n",
    "# company = movies['company'].unique()\n",
    "# len(company)"
   ]
  },
  {
   "cell_type": "code",
   "execution_count": 60,
   "metadata": {},
   "outputs": [],
   "source": [
    "# company[:5]"
   ]
  },
  {
   "cell_type": "code",
   "execution_count": 61,
   "metadata": {},
   "outputs": [],
   "source": [
    "# company = pd.DataFrame({'company': company})\n",
    "# company.head(2)"
   ]
  },
  {
   "cell_type": "code",
   "execution_count": 62,
   "metadata": {},
   "outputs": [],
   "source": [
    "# company.index += 1\n",
    "# company"
   ]
  },
  {
   "cell_type": "code",
   "execution_count": 63,
   "metadata": {},
   "outputs": [],
   "source": [
    "# company = company.reset_index()\n",
    "# company.head(2)"
   ]
  },
  {
   "cell_type": "code",
   "execution_count": 64,
   "metadata": {},
   "outputs": [],
   "source": [
    "# company = company.rename(columns={'index': 'company_id'})\n",
    "# company.head()"
   ]
  },
  {
   "cell_type": "code",
   "execution_count": 65,
   "metadata": {
    "scrolled": false
   },
   "outputs": [],
   "source": [
    "# len(company)"
   ]
  },
  {
   "cell_type": "markdown",
   "metadata": {},
   "source": [
    "### Merge movie and company df on actor column"
   ]
  },
  {
   "cell_type": "code",
   "execution_count": 66,
   "metadata": {},
   "outputs": [],
   "source": [
    "# # combine movie and tables\n",
    "# company_movie = pd.merge(movies, company, how='outer', on=\"company\")"
   ]
  },
  {
   "cell_type": "code",
   "execution_count": 67,
   "metadata": {
    "scrolled": true
   },
   "outputs": [],
   "source": [
    "# # Extract only movie_id and actor_id columns\n",
    "# company_movie = company_movie[['movie_id', 'company_id']]\n",
    "# company_movie"
   ]
  },
  {
   "cell_type": "code",
   "execution_count": 68,
   "metadata": {},
   "outputs": [],
   "source": [
    "# # Save to csv\n",
    "# company_movie.to_csv('csv_files/company_movie.csv')"
   ]
  },
  {
   "cell_type": "markdown",
   "metadata": {},
   "source": [
    "## Extract Writer data into a separate table"
   ]
  },
  {
   "cell_type": "code",
   "execution_count": 69,
   "metadata": {},
   "outputs": [],
   "source": [
    "# # Save writer data into a separate table\n",
    "# writer = movies['writer'].unique()\n",
    "# len(writer)"
   ]
  },
  {
   "cell_type": "code",
   "execution_count": 70,
   "metadata": {},
   "outputs": [],
   "source": [
    "# writer[:5]"
   ]
  },
  {
   "cell_type": "code",
   "execution_count": 71,
   "metadata": {},
   "outputs": [],
   "source": [
    "# writer = pd.DataFrame({'writer': writer})\n",
    "# writer.head(2)"
   ]
  },
  {
   "cell_type": "code",
   "execution_count": 72,
   "metadata": {},
   "outputs": [],
   "source": [
    "# writer.index += 1\n",
    "# writer"
   ]
  },
  {
   "cell_type": "code",
   "execution_count": 73,
   "metadata": {},
   "outputs": [],
   "source": [
    "# writer = writer.reset_index()\n",
    "# writer.head(2)"
   ]
  },
  {
   "cell_type": "code",
   "execution_count": 74,
   "metadata": {},
   "outputs": [],
   "source": [
    "# writer = writer.rename(columns={'index': 'writer_id'})\n",
    "# writer.head()"
   ]
  },
  {
   "cell_type": "code",
   "execution_count": 75,
   "metadata": {
    "scrolled": false
   },
   "outputs": [],
   "source": [
    "# len(writer)"
   ]
  },
  {
   "cell_type": "markdown",
   "metadata": {},
   "source": [
    "### Merge writer_id column to movies table"
   ]
  },
  {
   "cell_type": "code",
   "execution_count": 76,
   "metadata": {},
   "outputs": [],
   "source": [
    "# # combine movie and tables\n",
    "# movies = pd.merge(movies, writer, how='outer', on=\"writer\")"
   ]
  },
  {
   "cell_type": "code",
   "execution_count": 77,
   "metadata": {
    "scrolled": true
   },
   "outputs": [],
   "source": [
    "# movies.head()"
   ]
  },
  {
   "cell_type": "markdown",
   "metadata": {},
   "source": [
    "## Extract Genre data into a separate table"
   ]
  },
  {
   "cell_type": "code",
   "execution_count": 78,
   "metadata": {},
   "outputs": [],
   "source": [
    "# # Save genre data into a separate table\n",
    "# genre = movies['genre'].unique()\n",
    "# len(genre)"
   ]
  },
  {
   "cell_type": "code",
   "execution_count": 79,
   "metadata": {},
   "outputs": [],
   "source": [
    "# genre[:5]"
   ]
  },
  {
   "cell_type": "code",
   "execution_count": 80,
   "metadata": {},
   "outputs": [],
   "source": [
    "# genre = pd.DataFrame({'genre': genre})\n",
    "# genre.head(2)"
   ]
  },
  {
   "cell_type": "code",
   "execution_count": 81,
   "metadata": {},
   "outputs": [],
   "source": [
    "# genre.index += 1\n",
    "# genre"
   ]
  },
  {
   "cell_type": "code",
   "execution_count": 82,
   "metadata": {},
   "outputs": [],
   "source": [
    "# genre = genre.reset_index()\n",
    "# genre.head(2)"
   ]
  },
  {
   "cell_type": "code",
   "execution_count": 83,
   "metadata": {},
   "outputs": [],
   "source": [
    "# genre = genre.rename(columns={'index': 'genre_id'})\n",
    "# genre.head()"
   ]
  },
  {
   "cell_type": "code",
   "execution_count": 84,
   "metadata": {
    "scrolled": false
   },
   "outputs": [],
   "source": [
    "# len(genre)"
   ]
  },
  {
   "cell_type": "markdown",
   "metadata": {},
   "source": [
    "### Merge genre_id column to movies table"
   ]
  },
  {
   "cell_type": "code",
   "execution_count": 85,
   "metadata": {},
   "outputs": [],
   "source": [
    "# # combine movies and genre\n",
    "# movies = pd.merge(movies, genre, how='outer', on=\"genre\")"
   ]
  },
  {
   "cell_type": "code",
   "execution_count": 86,
   "metadata": {
    "scrolled": true
   },
   "outputs": [],
   "source": [
    "# movies.head()"
   ]
  },
  {
   "cell_type": "code",
   "execution_count": 87,
   "metadata": {},
   "outputs": [],
   "source": [
    "# movies.to_csv('csv_files/movies_genre_ids.csv')"
   ]
  },
  {
   "cell_type": "markdown",
   "metadata": {},
   "source": [
    "## Extract rating data into a separate table"
   ]
  },
  {
   "cell_type": "code",
   "execution_count": 88,
   "metadata": {},
   "outputs": [],
   "source": [
    "# # Save rating data into a separate table\n",
    "# rating = movies['rating'].unique()\n",
    "# len(rating)"
   ]
  },
  {
   "cell_type": "code",
   "execution_count": 89,
   "metadata": {},
   "outputs": [],
   "source": [
    "# rating[:5]"
   ]
  },
  {
   "cell_type": "code",
   "execution_count": 90,
   "metadata": {},
   "outputs": [],
   "source": [
    "# rating = pd.DataFrame({'rating': rating})\n",
    "# rating.head(2)"
   ]
  },
  {
   "cell_type": "code",
   "execution_count": 91,
   "metadata": {},
   "outputs": [],
   "source": [
    "# rating.index += 1"
   ]
  },
  {
   "cell_type": "code",
   "execution_count": 92,
   "metadata": {},
   "outputs": [],
   "source": [
    "# rating = rating.reset_index()\n",
    "# rating.head(2)"
   ]
  },
  {
   "cell_type": "code",
   "execution_count": 93,
   "metadata": {},
   "outputs": [],
   "source": [
    "# rating = rating.rename(columns={'index': 'rating_id'})\n",
    "# rating.head()"
   ]
  },
  {
   "cell_type": "code",
   "execution_count": 94,
   "metadata": {
    "scrolled": false
   },
   "outputs": [],
   "source": [
    "# len(rating)"
   ]
  },
  {
   "cell_type": "code",
   "execution_count": null,
   "metadata": {},
   "outputs": [],
   "source": []
  },
  {
   "cell_type": "markdown",
   "metadata": {},
   "source": [
    "### Merge rating_id column to movies table"
   ]
  },
  {
   "cell_type": "code",
   "execution_count": 95,
   "metadata": {},
   "outputs": [],
   "source": [
    "# # combine movies and rating\n",
    "# movies = pd.merge(movies, rating, how='outer', on=\"rating\")"
   ]
  },
  {
   "cell_type": "code",
   "execution_count": 96,
   "metadata": {
    "scrolled": true
   },
   "outputs": [],
   "source": [
    "# movies.head()"
   ]
  },
  {
   "cell_type": "code",
   "execution_count": 97,
   "metadata": {},
   "outputs": [],
   "source": [
    "# movies.to_csv('csv_files/movies_rating_ids.csv')"
   ]
  },
  {
   "cell_type": "code",
   "execution_count": null,
   "metadata": {},
   "outputs": [],
   "source": []
  },
  {
   "cell_type": "markdown",
   "metadata": {},
   "source": [
    "# Remove unnecessary columns from movies"
   ]
  },
  {
   "cell_type": "code",
   "execution_count": 98,
   "metadata": {},
   "outputs": [],
   "source": [
    "# movies.head(2)"
   ]
  },
  {
   "cell_type": "code",
   "execution_count": 99,
   "metadata": {},
   "outputs": [],
   "source": [
    "# movies = movies[['movie_id','country','genre_id','writer_id','rating_id','name','year','domestic_revenue_usd',\n",
    "#                  'international_revenue_usd', 'total_revenue_usd']]"
   ]
  },
  {
   "cell_type": "code",
   "execution_count": 100,
   "metadata": {
    "scrolled": true
   },
   "outputs": [],
   "source": [
    "# movies.head()"
   ]
  },
  {
   "cell_type": "code",
   "execution_count": null,
   "metadata": {},
   "outputs": [],
   "source": []
  },
  {
   "cell_type": "markdown",
   "metadata": {},
   "source": [
    "## Push table to PostgreSQL"
   ]
  },
  {
   "cell_type": "markdown",
   "metadata": {},
   "source": [
    "### !!! Please import QuickDBD-export.sql in the repo root folder file in pgAdmin\n",
    "### !!! Run SQL file to generate the tables and reference links\n",
    "### UNCOMMENT cell below to run the rest of the code"
   ]
  },
  {
   "cell_type": "code",
   "execution_count": 101,
   "metadata": {},
   "outputs": [],
   "source": [
    "# Connect to the local database\n",
    "connection_string = f'{username}:{password}@localhost:5432/hurricanes_db'\n",
    "engine = create_engine(f'postgresql://{connection_string}')"
   ]
  },
  {
   "cell_type": "code",
   "execution_count": 102,
   "metadata": {},
   "outputs": [],
   "source": [
    "# genre.to_sql(name='genre', con=engine, if_exists='append', index=False)"
   ]
  },
  {
   "cell_type": "code",
   "execution_count": 103,
   "metadata": {},
   "outputs": [],
   "source": [
    "# writer.to_sql(name='writer', con=engine, if_exists='append', index=False)"
   ]
  },
  {
   "cell_type": "code",
   "execution_count": 104,
   "metadata": {},
   "outputs": [],
   "source": [
    "# director.to_sql(name='director', con=engine, if_exists='append', index=False)"
   ]
  },
  {
   "cell_type": "code",
   "execution_count": 105,
   "metadata": {},
   "outputs": [],
   "source": [
    "# rating.to_sql(name='rating', con=engine, if_exists='append', index=False)"
   ]
  },
  {
   "cell_type": "code",
   "execution_count": 106,
   "metadata": {},
   "outputs": [],
   "source": [
    "# company.to_sql(name='company', con=engine, if_exists='append', index=False)"
   ]
  },
  {
   "cell_type": "code",
   "execution_count": 107,
   "metadata": {},
   "outputs": [],
   "source": [
    "# actor.to_sql(name='actor', con=engine, if_exists='append', index=False)"
   ]
  },
  {
   "cell_type": "code",
   "execution_count": 108,
   "metadata": {},
   "outputs": [],
   "source": [
    "# movies.to_sql(name='movies', con=engine, if_exists='append', index=False)"
   ]
  },
  {
   "cell_type": "code",
   "execution_count": 109,
   "metadata": {},
   "outputs": [],
   "source": [
    "# company_movie.to_sql(name='company_movie', con=engine, if_exists='append', index=False)"
   ]
  },
  {
   "cell_type": "code",
   "execution_count": 110,
   "metadata": {},
   "outputs": [
    {
     "data": {
      "text/html": [
       "<div>\n",
       "<style scoped>\n",
       "    .dataframe tbody tr th:only-of-type {\n",
       "        vertical-align: middle;\n",
       "    }\n",
       "\n",
       "    .dataframe tbody tr th {\n",
       "        vertical-align: top;\n",
       "    }\n",
       "\n",
       "    .dataframe thead th {\n",
       "        text-align: right;\n",
       "    }\n",
       "</style>\n",
       "<table border=\"1\" class=\"dataframe\">\n",
       "  <thead>\n",
       "    <tr style=\"text-align: right;\">\n",
       "      <th></th>\n",
       "      <th>hurricane_id</th>\n",
       "      <th>date</th>\n",
       "      <th>name</th>\n",
       "      <th>time</th>\n",
       "      <th>status</th>\n",
       "      <th>latitude</th>\n",
       "      <th>longitude</th>\n",
       "      <th>max_wind</th>\n",
       "      <th>air_pressure</th>\n",
       "      <th>latitude_decimal</th>\n",
       "      <th>longitude_decimal</th>\n",
       "      <th>year</th>\n",
       "    </tr>\n",
       "  </thead>\n",
       "  <tbody>\n",
       "    <tr>\n",
       "      <th>0</th>\n",
       "      <td>1</td>\n",
       "      <td>19500812</td>\n",
       "      <td>Able</td>\n",
       "      <td>0</td>\n",
       "      <td>TS</td>\n",
       "      <td>17.1N</td>\n",
       "      <td>55.5W</td>\n",
       "      <td>35</td>\n",
       "      <td>-999</td>\n",
       "      <td>17.02</td>\n",
       "      <td>-55.08</td>\n",
       "      <td>1950</td>\n",
       "    </tr>\n",
       "    <tr>\n",
       "      <th>1</th>\n",
       "      <td>2</td>\n",
       "      <td>19500818</td>\n",
       "      <td>Baker</td>\n",
       "      <td>1200</td>\n",
       "      <td>TD</td>\n",
       "      <td>12.0N</td>\n",
       "      <td>54.0W</td>\n",
       "      <td>30</td>\n",
       "      <td>-999</td>\n",
       "      <td>12.00</td>\n",
       "      <td>-54.00</td>\n",
       "      <td>1950</td>\n",
       "    </tr>\n",
       "    <tr>\n",
       "      <th>2</th>\n",
       "      <td>3</td>\n",
       "      <td>19500821</td>\n",
       "      <td>Charlie</td>\n",
       "      <td>1200</td>\n",
       "      <td>TS</td>\n",
       "      <td>11.1N</td>\n",
       "      <td>26.4W</td>\n",
       "      <td>35</td>\n",
       "      <td>-999</td>\n",
       "      <td>11.02</td>\n",
       "      <td>-26.07</td>\n",
       "      <td>1950</td>\n",
       "    </tr>\n",
       "    <tr>\n",
       "      <th>3</th>\n",
       "      <td>4</td>\n",
       "      <td>19500830</td>\n",
       "      <td>Dog</td>\n",
       "      <td>1800</td>\n",
       "      <td>HU</td>\n",
       "      <td>15.2N</td>\n",
       "      <td>55.6W</td>\n",
       "      <td>80</td>\n",
       "      <td>-999</td>\n",
       "      <td>15.03</td>\n",
       "      <td>-55.10</td>\n",
       "      <td>1950</td>\n",
       "    </tr>\n",
       "    <tr>\n",
       "      <th>4</th>\n",
       "      <td>5</td>\n",
       "      <td>19500901</td>\n",
       "      <td>Easy</td>\n",
       "      <td>600</td>\n",
       "      <td>TS</td>\n",
       "      <td>19.7N</td>\n",
       "      <td>83.2W</td>\n",
       "      <td>40</td>\n",
       "      <td>-999</td>\n",
       "      <td>19.12</td>\n",
       "      <td>-83.03</td>\n",
       "      <td>1950</td>\n",
       "    </tr>\n",
       "  </tbody>\n",
       "</table>\n",
       "</div>"
      ],
      "text/plain": [
       "   hurricane_id      date     name  time status latitude longitude  max_wind  \\\n",
       "0             1  19500812     Able     0     TS    17.1N     55.5W        35   \n",
       "1             2  19500818    Baker  1200     TD    12.0N     54.0W        30   \n",
       "2             3  19500821  Charlie  1200     TS    11.1N     26.4W        35   \n",
       "3             4  19500830      Dog  1800     HU    15.2N     55.6W        80   \n",
       "4             5  19500901     Easy   600     TS    19.7N     83.2W        40   \n",
       "\n",
       "   air_pressure  latitude_decimal  longitude_decimal  year  \n",
       "0          -999             17.02             -55.08  1950  \n",
       "1          -999             12.00             -54.00  1950  \n",
       "2          -999             11.02             -26.07  1950  \n",
       "3          -999             15.03             -55.10  1950  \n",
       "4          -999             19.12             -83.03  1950  "
      ]
     },
     "execution_count": 110,
     "metadata": {},
     "output_type": "execute_result"
    }
   ],
   "source": [
    "hurricanes_df.head()"
   ]
  },
  {
   "cell_type": "code",
   "execution_count": 111,
   "metadata": {},
   "outputs": [],
   "source": [
    "hurricanes_df.to_sql(name=\"hurricanes\", con=engine, if_exists='append', index=False)"
   ]
  },
  {
   "cell_type": "code",
   "execution_count": 112,
   "metadata": {},
   "outputs": [
    {
     "ename": "ProgrammingError",
     "evalue": "(psycopg2.errors.UndefinedColumn) column \"category\" of relation \"cost\" does not exist\nLINE 1: ...TO cost (name, damage_usd, norm_damage_usd, year, category) ...\n                                                             ^\n\n[SQL: INSERT INTO cost (name, damage_usd, norm_damage_usd, year, category) VALUES (%(name)s, %(damage_usd)s, %(norm_damage_usd)s, %(year)s, %(category)s)]\n[parameters: ({'name': 'Katrina', 'damage_usd': 125.0, 'norm_damage_usd': 116.9, 'year': 2005, 'category': 'Category\\xa05 hurricane'}, {'name': 'Harvey', 'damage_usd': 125.0, 'norm_damage_usd': 62.2, 'year': 2017, 'category': 'Category\\xa04 hurricane'}, {'name': 'Irma', 'damage_usd': 77.2, 'norm_damage_usd': 31.0, 'year': 2017, 'category': 'Category\\xa05 hurricane'}, {'name': 'Sandy', 'damage_usd': 68.7, 'norm_damage_usd': 73.5, 'year': 2012, 'category': 'Category 3 hurricane'}, {'name': 'Ike', 'damage_usd': 38.0, 'norm_damage_usd': 35.2, 'year': 2008, 'category': 'Category\\xa04 hurricane'}, {'name': 'Wilma', 'damage_usd': 27.4, 'norm_damage_usd': 31.9, 'year': 2005, 'category': 'Category\\xa05 hurricane'}, {'name': 'Andrew', 'damage_usd': 27.3, 'norm_damage_usd': 106.0, 'year': 1992, 'category': 'Category\\xa05 hurricane'}, {'name': 'Ivan', 'damage_usd': 26.1, 'norm_damage_usd': 25.9, 'year': 2004, 'category': 'Category\\xa05 hurricane'}  ... displaying 10 of 54 total bound parameter sets ...  {'name': 'Emily', 'damage_usd': 1.01, 'norm_damage_usd': 6.0, 'year': 2005, 'category': 'Category\\xa05 hurricane'}, {'name': 'Bonnie', 'damage_usd': 1.0, 'norm_damage_usd': 6.0, 'year': 1998, 'category': 'Category\\xa03 hurricane'})]\n(Background on this error at: http://sqlalche.me/e/13/f405)",
     "output_type": "error",
     "traceback": [
      "\u001b[0;31m---------------------------------------------------------------------------\u001b[0m",
      "\u001b[0;31mUndefinedColumn\u001b[0m                           Traceback (most recent call last)",
      "\u001b[0;32m~/anaconda3/envs/PythonData/lib/python3.8/site-packages/sqlalchemy/engine/base.py\u001b[0m in \u001b[0;36m_execute_context\u001b[0;34m(self, dialect, constructor, statement, parameters, *args)\u001b[0m\n\u001b[1;32m   1255\u001b[0m                 \u001b[0;32mif\u001b[0m \u001b[0;32mnot\u001b[0m \u001b[0mevt_handled\u001b[0m\u001b[0;34m:\u001b[0m\u001b[0;34m\u001b[0m\u001b[0;34m\u001b[0m\u001b[0m\n\u001b[0;32m-> 1256\u001b[0;31m                     self.dialect.do_executemany(\n\u001b[0m\u001b[1;32m   1257\u001b[0m                         \u001b[0mcursor\u001b[0m\u001b[0;34m,\u001b[0m \u001b[0mstatement\u001b[0m\u001b[0;34m,\u001b[0m \u001b[0mparameters\u001b[0m\u001b[0;34m,\u001b[0m \u001b[0mcontext\u001b[0m\u001b[0;34m\u001b[0m\u001b[0;34m\u001b[0m\u001b[0m\n",
      "\u001b[0;32m~/anaconda3/envs/PythonData/lib/python3.8/site-packages/sqlalchemy/dialects/postgresql/psycopg2.py\u001b[0m in \u001b[0;36mdo_executemany\u001b[0;34m(self, cursor, statement, parameters, context)\u001b[0m\n\u001b[1;32m    872\u001b[0m         \u001b[0;32mif\u001b[0m \u001b[0mself\u001b[0m\u001b[0;34m.\u001b[0m\u001b[0mexecutemany_mode\u001b[0m \u001b[0;32mis\u001b[0m \u001b[0mEXECUTEMANY_DEFAULT\u001b[0m\u001b[0;34m:\u001b[0m\u001b[0;34m\u001b[0m\u001b[0;34m\u001b[0m\u001b[0m\n\u001b[0;32m--> 873\u001b[0;31m             \u001b[0mcursor\u001b[0m\u001b[0;34m.\u001b[0m\u001b[0mexecutemany\u001b[0m\u001b[0;34m(\u001b[0m\u001b[0mstatement\u001b[0m\u001b[0;34m,\u001b[0m \u001b[0mparameters\u001b[0m\u001b[0;34m)\u001b[0m\u001b[0;34m\u001b[0m\u001b[0;34m\u001b[0m\u001b[0m\n\u001b[0m\u001b[1;32m    874\u001b[0m             \u001b[0;32mreturn\u001b[0m\u001b[0;34m\u001b[0m\u001b[0;34m\u001b[0m\u001b[0m\n",
      "\u001b[0;31mUndefinedColumn\u001b[0m: column \"category\" of relation \"cost\" does not exist\nLINE 1: ...TO cost (name, damage_usd, norm_damage_usd, year, category) ...\n                                                             ^\n",
      "\nThe above exception was the direct cause of the following exception:\n",
      "\u001b[0;31mProgrammingError\u001b[0m                          Traceback (most recent call last)",
      "\u001b[0;32m<ipython-input-112-158f606fe981>\u001b[0m in \u001b[0;36m<module>\u001b[0;34m\u001b[0m\n\u001b[0;32m----> 1\u001b[0;31m \u001b[0mcost_df\u001b[0m\u001b[0;34m.\u001b[0m\u001b[0mto_sql\u001b[0m\u001b[0;34m(\u001b[0m\u001b[0mname\u001b[0m\u001b[0;34m=\u001b[0m\u001b[0;34m\"cost\"\u001b[0m\u001b[0;34m,\u001b[0m \u001b[0mcon\u001b[0m\u001b[0;34m=\u001b[0m\u001b[0mengine\u001b[0m\u001b[0;34m,\u001b[0m \u001b[0mif_exists\u001b[0m\u001b[0;34m=\u001b[0m\u001b[0;34m'append'\u001b[0m\u001b[0;34m,\u001b[0m \u001b[0mindex\u001b[0m\u001b[0;34m=\u001b[0m\u001b[0;32mFalse\u001b[0m\u001b[0;34m)\u001b[0m\u001b[0;34m\u001b[0m\u001b[0;34m\u001b[0m\u001b[0m\n\u001b[0m",
      "\u001b[0;32m~/anaconda3/envs/PythonData/lib/python3.8/site-packages/pandas/core/generic.py\u001b[0m in \u001b[0;36mto_sql\u001b[0;34m(self, name, con, schema, if_exists, index, index_label, chunksize, dtype, method)\u001b[0m\n\u001b[1;32m   2651\u001b[0m         \u001b[0;32mfrom\u001b[0m \u001b[0mpandas\u001b[0m\u001b[0;34m.\u001b[0m\u001b[0mio\u001b[0m \u001b[0;32mimport\u001b[0m \u001b[0msql\u001b[0m\u001b[0;34m\u001b[0m\u001b[0;34m\u001b[0m\u001b[0m\n\u001b[1;32m   2652\u001b[0m \u001b[0;34m\u001b[0m\u001b[0m\n\u001b[0;32m-> 2653\u001b[0;31m         sql.to_sql(\n\u001b[0m\u001b[1;32m   2654\u001b[0m             \u001b[0mself\u001b[0m\u001b[0;34m,\u001b[0m\u001b[0;34m\u001b[0m\u001b[0;34m\u001b[0m\u001b[0m\n\u001b[1;32m   2655\u001b[0m             \u001b[0mname\u001b[0m\u001b[0;34m,\u001b[0m\u001b[0;34m\u001b[0m\u001b[0;34m\u001b[0m\u001b[0m\n",
      "\u001b[0;32m~/anaconda3/envs/PythonData/lib/python3.8/site-packages/pandas/io/sql.py\u001b[0m in \u001b[0;36mto_sql\u001b[0;34m(frame, name, con, schema, if_exists, index, index_label, chunksize, dtype, method)\u001b[0m\n\u001b[1;32m    510\u001b[0m         )\n\u001b[1;32m    511\u001b[0m \u001b[0;34m\u001b[0m\u001b[0m\n\u001b[0;32m--> 512\u001b[0;31m     pandas_sql.to_sql(\n\u001b[0m\u001b[1;32m    513\u001b[0m         \u001b[0mframe\u001b[0m\u001b[0;34m,\u001b[0m\u001b[0;34m\u001b[0m\u001b[0;34m\u001b[0m\u001b[0m\n\u001b[1;32m    514\u001b[0m         \u001b[0mname\u001b[0m\u001b[0;34m,\u001b[0m\u001b[0;34m\u001b[0m\u001b[0;34m\u001b[0m\u001b[0m\n",
      "\u001b[0;32m~/anaconda3/envs/PythonData/lib/python3.8/site-packages/pandas/io/sql.py\u001b[0m in \u001b[0;36mto_sql\u001b[0;34m(self, frame, name, if_exists, index, index_label, schema, chunksize, dtype, method)\u001b[0m\n\u001b[1;32m   1315\u001b[0m         )\n\u001b[1;32m   1316\u001b[0m         \u001b[0mtable\u001b[0m\u001b[0;34m.\u001b[0m\u001b[0mcreate\u001b[0m\u001b[0;34m(\u001b[0m\u001b[0;34m)\u001b[0m\u001b[0;34m\u001b[0m\u001b[0;34m\u001b[0m\u001b[0m\n\u001b[0;32m-> 1317\u001b[0;31m         \u001b[0mtable\u001b[0m\u001b[0;34m.\u001b[0m\u001b[0minsert\u001b[0m\u001b[0;34m(\u001b[0m\u001b[0mchunksize\u001b[0m\u001b[0;34m,\u001b[0m \u001b[0mmethod\u001b[0m\u001b[0;34m=\u001b[0m\u001b[0mmethod\u001b[0m\u001b[0;34m)\u001b[0m\u001b[0;34m\u001b[0m\u001b[0;34m\u001b[0m\u001b[0m\n\u001b[0m\u001b[1;32m   1318\u001b[0m         \u001b[0;32mif\u001b[0m \u001b[0;32mnot\u001b[0m \u001b[0mname\u001b[0m\u001b[0;34m.\u001b[0m\u001b[0misdigit\u001b[0m\u001b[0;34m(\u001b[0m\u001b[0;34m)\u001b[0m \u001b[0;32mand\u001b[0m \u001b[0;32mnot\u001b[0m \u001b[0mname\u001b[0m\u001b[0;34m.\u001b[0m\u001b[0mislower\u001b[0m\u001b[0;34m(\u001b[0m\u001b[0;34m)\u001b[0m\u001b[0;34m:\u001b[0m\u001b[0;34m\u001b[0m\u001b[0;34m\u001b[0m\u001b[0m\n\u001b[1;32m   1319\u001b[0m             \u001b[0;31m# check for potentially case sensitivity issues (GH7815)\u001b[0m\u001b[0;34m\u001b[0m\u001b[0;34m\u001b[0m\u001b[0;34m\u001b[0m\u001b[0m\n",
      "\u001b[0;32m~/anaconda3/envs/PythonData/lib/python3.8/site-packages/pandas/io/sql.py\u001b[0m in \u001b[0;36minsert\u001b[0;34m(self, chunksize, method)\u001b[0m\n\u001b[1;32m    753\u001b[0m \u001b[0;34m\u001b[0m\u001b[0m\n\u001b[1;32m    754\u001b[0m                 \u001b[0mchunk_iter\u001b[0m \u001b[0;34m=\u001b[0m \u001b[0mzip\u001b[0m\u001b[0;34m(\u001b[0m\u001b[0;34m*\u001b[0m\u001b[0;34m[\u001b[0m\u001b[0marr\u001b[0m\u001b[0;34m[\u001b[0m\u001b[0mstart_i\u001b[0m\u001b[0;34m:\u001b[0m\u001b[0mend_i\u001b[0m\u001b[0;34m]\u001b[0m \u001b[0;32mfor\u001b[0m \u001b[0marr\u001b[0m \u001b[0;32min\u001b[0m \u001b[0mdata_list\u001b[0m\u001b[0;34m]\u001b[0m\u001b[0;34m)\u001b[0m\u001b[0;34m\u001b[0m\u001b[0;34m\u001b[0m\u001b[0m\n\u001b[0;32m--> 755\u001b[0;31m                 \u001b[0mexec_insert\u001b[0m\u001b[0;34m(\u001b[0m\u001b[0mconn\u001b[0m\u001b[0;34m,\u001b[0m \u001b[0mkeys\u001b[0m\u001b[0;34m,\u001b[0m \u001b[0mchunk_iter\u001b[0m\u001b[0;34m)\u001b[0m\u001b[0;34m\u001b[0m\u001b[0;34m\u001b[0m\u001b[0m\n\u001b[0m\u001b[1;32m    756\u001b[0m \u001b[0;34m\u001b[0m\u001b[0m\n\u001b[1;32m    757\u001b[0m     def _query_iterator(\n",
      "\u001b[0;32m~/anaconda3/envs/PythonData/lib/python3.8/site-packages/pandas/io/sql.py\u001b[0m in \u001b[0;36m_execute_insert\u001b[0;34m(self, conn, keys, data_iter)\u001b[0m\n\u001b[1;32m    667\u001b[0m         \"\"\"\n\u001b[1;32m    668\u001b[0m         \u001b[0mdata\u001b[0m \u001b[0;34m=\u001b[0m \u001b[0;34m[\u001b[0m\u001b[0mdict\u001b[0m\u001b[0;34m(\u001b[0m\u001b[0mzip\u001b[0m\u001b[0;34m(\u001b[0m\u001b[0mkeys\u001b[0m\u001b[0;34m,\u001b[0m \u001b[0mrow\u001b[0m\u001b[0;34m)\u001b[0m\u001b[0;34m)\u001b[0m \u001b[0;32mfor\u001b[0m \u001b[0mrow\u001b[0m \u001b[0;32min\u001b[0m \u001b[0mdata_iter\u001b[0m\u001b[0;34m]\u001b[0m\u001b[0;34m\u001b[0m\u001b[0;34m\u001b[0m\u001b[0m\n\u001b[0;32m--> 669\u001b[0;31m         \u001b[0mconn\u001b[0m\u001b[0;34m.\u001b[0m\u001b[0mexecute\u001b[0m\u001b[0;34m(\u001b[0m\u001b[0mself\u001b[0m\u001b[0;34m.\u001b[0m\u001b[0mtable\u001b[0m\u001b[0;34m.\u001b[0m\u001b[0minsert\u001b[0m\u001b[0;34m(\u001b[0m\u001b[0;34m)\u001b[0m\u001b[0;34m,\u001b[0m \u001b[0mdata\u001b[0m\u001b[0;34m)\u001b[0m\u001b[0;34m\u001b[0m\u001b[0;34m\u001b[0m\u001b[0m\n\u001b[0m\u001b[1;32m    670\u001b[0m \u001b[0;34m\u001b[0m\u001b[0m\n\u001b[1;32m    671\u001b[0m     \u001b[0;32mdef\u001b[0m \u001b[0m_execute_insert_multi\u001b[0m\u001b[0;34m(\u001b[0m\u001b[0mself\u001b[0m\u001b[0;34m,\u001b[0m \u001b[0mconn\u001b[0m\u001b[0;34m,\u001b[0m \u001b[0mkeys\u001b[0m\u001b[0;34m,\u001b[0m \u001b[0mdata_iter\u001b[0m\u001b[0;34m)\u001b[0m\u001b[0;34m:\u001b[0m\u001b[0;34m\u001b[0m\u001b[0;34m\u001b[0m\u001b[0m\n",
      "\u001b[0;32m~/anaconda3/envs/PythonData/lib/python3.8/site-packages/sqlalchemy/engine/base.py\u001b[0m in \u001b[0;36mexecute\u001b[0;34m(self, object_, *multiparams, **params)\u001b[0m\n\u001b[1;32m   1009\u001b[0m             )\n\u001b[1;32m   1010\u001b[0m         \u001b[0;32melse\u001b[0m\u001b[0;34m:\u001b[0m\u001b[0;34m\u001b[0m\u001b[0;34m\u001b[0m\u001b[0m\n\u001b[0;32m-> 1011\u001b[0;31m             \u001b[0;32mreturn\u001b[0m \u001b[0mmeth\u001b[0m\u001b[0;34m(\u001b[0m\u001b[0mself\u001b[0m\u001b[0;34m,\u001b[0m \u001b[0mmultiparams\u001b[0m\u001b[0;34m,\u001b[0m \u001b[0mparams\u001b[0m\u001b[0;34m)\u001b[0m\u001b[0;34m\u001b[0m\u001b[0;34m\u001b[0m\u001b[0m\n\u001b[0m\u001b[1;32m   1012\u001b[0m \u001b[0;34m\u001b[0m\u001b[0m\n\u001b[1;32m   1013\u001b[0m     \u001b[0;32mdef\u001b[0m \u001b[0m_execute_function\u001b[0m\u001b[0;34m(\u001b[0m\u001b[0mself\u001b[0m\u001b[0;34m,\u001b[0m \u001b[0mfunc\u001b[0m\u001b[0;34m,\u001b[0m \u001b[0mmultiparams\u001b[0m\u001b[0;34m,\u001b[0m \u001b[0mparams\u001b[0m\u001b[0;34m)\u001b[0m\u001b[0;34m:\u001b[0m\u001b[0;34m\u001b[0m\u001b[0;34m\u001b[0m\u001b[0m\n",
      "\u001b[0;32m~/anaconda3/envs/PythonData/lib/python3.8/site-packages/sqlalchemy/sql/elements.py\u001b[0m in \u001b[0;36m_execute_on_connection\u001b[0;34m(self, connection, multiparams, params)\u001b[0m\n\u001b[1;32m    296\u001b[0m     \u001b[0;32mdef\u001b[0m \u001b[0m_execute_on_connection\u001b[0m\u001b[0;34m(\u001b[0m\u001b[0mself\u001b[0m\u001b[0;34m,\u001b[0m \u001b[0mconnection\u001b[0m\u001b[0;34m,\u001b[0m \u001b[0mmultiparams\u001b[0m\u001b[0;34m,\u001b[0m \u001b[0mparams\u001b[0m\u001b[0;34m)\u001b[0m\u001b[0;34m:\u001b[0m\u001b[0;34m\u001b[0m\u001b[0;34m\u001b[0m\u001b[0m\n\u001b[1;32m    297\u001b[0m         \u001b[0;32mif\u001b[0m \u001b[0mself\u001b[0m\u001b[0;34m.\u001b[0m\u001b[0msupports_execution\u001b[0m\u001b[0;34m:\u001b[0m\u001b[0;34m\u001b[0m\u001b[0;34m\u001b[0m\u001b[0m\n\u001b[0;32m--> 298\u001b[0;31m             \u001b[0;32mreturn\u001b[0m \u001b[0mconnection\u001b[0m\u001b[0;34m.\u001b[0m\u001b[0m_execute_clauseelement\u001b[0m\u001b[0;34m(\u001b[0m\u001b[0mself\u001b[0m\u001b[0;34m,\u001b[0m \u001b[0mmultiparams\u001b[0m\u001b[0;34m,\u001b[0m \u001b[0mparams\u001b[0m\u001b[0;34m)\u001b[0m\u001b[0;34m\u001b[0m\u001b[0;34m\u001b[0m\u001b[0m\n\u001b[0m\u001b[1;32m    299\u001b[0m         \u001b[0;32melse\u001b[0m\u001b[0;34m:\u001b[0m\u001b[0;34m\u001b[0m\u001b[0;34m\u001b[0m\u001b[0m\n\u001b[1;32m    300\u001b[0m             \u001b[0;32mraise\u001b[0m \u001b[0mexc\u001b[0m\u001b[0;34m.\u001b[0m\u001b[0mObjectNotExecutableError\u001b[0m\u001b[0;34m(\u001b[0m\u001b[0mself\u001b[0m\u001b[0;34m)\u001b[0m\u001b[0;34m\u001b[0m\u001b[0;34m\u001b[0m\u001b[0m\n",
      "\u001b[0;32m~/anaconda3/envs/PythonData/lib/python3.8/site-packages/sqlalchemy/engine/base.py\u001b[0m in \u001b[0;36m_execute_clauseelement\u001b[0;34m(self, elem, multiparams, params)\u001b[0m\n\u001b[1;32m   1122\u001b[0m             )\n\u001b[1;32m   1123\u001b[0m \u001b[0;34m\u001b[0m\u001b[0m\n\u001b[0;32m-> 1124\u001b[0;31m         ret = self._execute_context(\n\u001b[0m\u001b[1;32m   1125\u001b[0m             \u001b[0mdialect\u001b[0m\u001b[0;34m,\u001b[0m\u001b[0;34m\u001b[0m\u001b[0;34m\u001b[0m\u001b[0m\n\u001b[1;32m   1126\u001b[0m             \u001b[0mdialect\u001b[0m\u001b[0;34m.\u001b[0m\u001b[0mexecution_ctx_cls\u001b[0m\u001b[0;34m.\u001b[0m\u001b[0m_init_compiled\u001b[0m\u001b[0;34m,\u001b[0m\u001b[0;34m\u001b[0m\u001b[0;34m\u001b[0m\u001b[0m\n",
      "\u001b[0;32m~/anaconda3/envs/PythonData/lib/python3.8/site-packages/sqlalchemy/engine/base.py\u001b[0m in \u001b[0;36m_execute_context\u001b[0;34m(self, dialect, constructor, statement, parameters, *args)\u001b[0m\n\u001b[1;32m   1314\u001b[0m \u001b[0;34m\u001b[0m\u001b[0m\n\u001b[1;32m   1315\u001b[0m         \u001b[0;32mexcept\u001b[0m \u001b[0mBaseException\u001b[0m \u001b[0;32mas\u001b[0m \u001b[0me\u001b[0m\u001b[0;34m:\u001b[0m\u001b[0;34m\u001b[0m\u001b[0;34m\u001b[0m\u001b[0m\n\u001b[0;32m-> 1316\u001b[0;31m             self._handle_dbapi_exception(\n\u001b[0m\u001b[1;32m   1317\u001b[0m                 \u001b[0me\u001b[0m\u001b[0;34m,\u001b[0m \u001b[0mstatement\u001b[0m\u001b[0;34m,\u001b[0m \u001b[0mparameters\u001b[0m\u001b[0;34m,\u001b[0m \u001b[0mcursor\u001b[0m\u001b[0;34m,\u001b[0m \u001b[0mcontext\u001b[0m\u001b[0;34m\u001b[0m\u001b[0;34m\u001b[0m\u001b[0m\n\u001b[1;32m   1318\u001b[0m             )\n",
      "\u001b[0;32m~/anaconda3/envs/PythonData/lib/python3.8/site-packages/sqlalchemy/engine/base.py\u001b[0m in \u001b[0;36m_handle_dbapi_exception\u001b[0;34m(self, e, statement, parameters, cursor, context)\u001b[0m\n\u001b[1;32m   1508\u001b[0m                 \u001b[0mutil\u001b[0m\u001b[0;34m.\u001b[0m\u001b[0mraise_\u001b[0m\u001b[0;34m(\u001b[0m\u001b[0mnewraise\u001b[0m\u001b[0;34m,\u001b[0m \u001b[0mwith_traceback\u001b[0m\u001b[0;34m=\u001b[0m\u001b[0mexc_info\u001b[0m\u001b[0;34m[\u001b[0m\u001b[0;36m2\u001b[0m\u001b[0;34m]\u001b[0m\u001b[0;34m,\u001b[0m \u001b[0mfrom_\u001b[0m\u001b[0;34m=\u001b[0m\u001b[0me\u001b[0m\u001b[0;34m)\u001b[0m\u001b[0;34m\u001b[0m\u001b[0;34m\u001b[0m\u001b[0m\n\u001b[1;32m   1509\u001b[0m             \u001b[0;32melif\u001b[0m \u001b[0mshould_wrap\u001b[0m\u001b[0;34m:\u001b[0m\u001b[0;34m\u001b[0m\u001b[0;34m\u001b[0m\u001b[0m\n\u001b[0;32m-> 1510\u001b[0;31m                 util.raise_(\n\u001b[0m\u001b[1;32m   1511\u001b[0m                     \u001b[0msqlalchemy_exception\u001b[0m\u001b[0;34m,\u001b[0m \u001b[0mwith_traceback\u001b[0m\u001b[0;34m=\u001b[0m\u001b[0mexc_info\u001b[0m\u001b[0;34m[\u001b[0m\u001b[0;36m2\u001b[0m\u001b[0;34m]\u001b[0m\u001b[0;34m,\u001b[0m \u001b[0mfrom_\u001b[0m\u001b[0;34m=\u001b[0m\u001b[0me\u001b[0m\u001b[0;34m\u001b[0m\u001b[0;34m\u001b[0m\u001b[0m\n\u001b[1;32m   1512\u001b[0m                 )\n",
      "\u001b[0;32m~/anaconda3/envs/PythonData/lib/python3.8/site-packages/sqlalchemy/util/compat.py\u001b[0m in \u001b[0;36mraise_\u001b[0;34m(***failed resolving arguments***)\u001b[0m\n\u001b[1;32m    180\u001b[0m \u001b[0;34m\u001b[0m\u001b[0m\n\u001b[1;32m    181\u001b[0m         \u001b[0;32mtry\u001b[0m\u001b[0;34m:\u001b[0m\u001b[0;34m\u001b[0m\u001b[0;34m\u001b[0m\u001b[0m\n\u001b[0;32m--> 182\u001b[0;31m             \u001b[0;32mraise\u001b[0m \u001b[0mexception\u001b[0m\u001b[0;34m\u001b[0m\u001b[0;34m\u001b[0m\u001b[0m\n\u001b[0m\u001b[1;32m    183\u001b[0m         \u001b[0;32mfinally\u001b[0m\u001b[0;34m:\u001b[0m\u001b[0;34m\u001b[0m\u001b[0;34m\u001b[0m\u001b[0m\n\u001b[1;32m    184\u001b[0m             \u001b[0;31m# credit to\u001b[0m\u001b[0;34m\u001b[0m\u001b[0;34m\u001b[0m\u001b[0;34m\u001b[0m\u001b[0m\n",
      "\u001b[0;32m~/anaconda3/envs/PythonData/lib/python3.8/site-packages/sqlalchemy/engine/base.py\u001b[0m in \u001b[0;36m_execute_context\u001b[0;34m(self, dialect, constructor, statement, parameters, *args)\u001b[0m\n\u001b[1;32m   1254\u001b[0m                             \u001b[0;32mbreak\u001b[0m\u001b[0;34m\u001b[0m\u001b[0;34m\u001b[0m\u001b[0m\n\u001b[1;32m   1255\u001b[0m                 \u001b[0;32mif\u001b[0m \u001b[0;32mnot\u001b[0m \u001b[0mevt_handled\u001b[0m\u001b[0;34m:\u001b[0m\u001b[0;34m\u001b[0m\u001b[0;34m\u001b[0m\u001b[0m\n\u001b[0;32m-> 1256\u001b[0;31m                     self.dialect.do_executemany(\n\u001b[0m\u001b[1;32m   1257\u001b[0m                         \u001b[0mcursor\u001b[0m\u001b[0;34m,\u001b[0m \u001b[0mstatement\u001b[0m\u001b[0;34m,\u001b[0m \u001b[0mparameters\u001b[0m\u001b[0;34m,\u001b[0m \u001b[0mcontext\u001b[0m\u001b[0;34m\u001b[0m\u001b[0;34m\u001b[0m\u001b[0m\n\u001b[1;32m   1258\u001b[0m                     )\n",
      "\u001b[0;32m~/anaconda3/envs/PythonData/lib/python3.8/site-packages/sqlalchemy/dialects/postgresql/psycopg2.py\u001b[0m in \u001b[0;36mdo_executemany\u001b[0;34m(self, cursor, statement, parameters, context)\u001b[0m\n\u001b[1;32m    871\u001b[0m     \u001b[0;32mdef\u001b[0m \u001b[0mdo_executemany\u001b[0m\u001b[0;34m(\u001b[0m\u001b[0mself\u001b[0m\u001b[0;34m,\u001b[0m \u001b[0mcursor\u001b[0m\u001b[0;34m,\u001b[0m \u001b[0mstatement\u001b[0m\u001b[0;34m,\u001b[0m \u001b[0mparameters\u001b[0m\u001b[0;34m,\u001b[0m \u001b[0mcontext\u001b[0m\u001b[0;34m=\u001b[0m\u001b[0;32mNone\u001b[0m\u001b[0;34m)\u001b[0m\u001b[0;34m:\u001b[0m\u001b[0;34m\u001b[0m\u001b[0;34m\u001b[0m\u001b[0m\n\u001b[1;32m    872\u001b[0m         \u001b[0;32mif\u001b[0m \u001b[0mself\u001b[0m\u001b[0;34m.\u001b[0m\u001b[0mexecutemany_mode\u001b[0m \u001b[0;32mis\u001b[0m \u001b[0mEXECUTEMANY_DEFAULT\u001b[0m\u001b[0;34m:\u001b[0m\u001b[0;34m\u001b[0m\u001b[0;34m\u001b[0m\u001b[0m\n\u001b[0;32m--> 873\u001b[0;31m             \u001b[0mcursor\u001b[0m\u001b[0;34m.\u001b[0m\u001b[0mexecutemany\u001b[0m\u001b[0;34m(\u001b[0m\u001b[0mstatement\u001b[0m\u001b[0;34m,\u001b[0m \u001b[0mparameters\u001b[0m\u001b[0;34m)\u001b[0m\u001b[0;34m\u001b[0m\u001b[0;34m\u001b[0m\u001b[0m\n\u001b[0m\u001b[1;32m    874\u001b[0m             \u001b[0;32mreturn\u001b[0m\u001b[0;34m\u001b[0m\u001b[0;34m\u001b[0m\u001b[0m\n\u001b[1;32m    875\u001b[0m \u001b[0;34m\u001b[0m\u001b[0m\n",
      "\u001b[0;31mProgrammingError\u001b[0m: (psycopg2.errors.UndefinedColumn) column \"category\" of relation \"cost\" does not exist\nLINE 1: ...TO cost (name, damage_usd, norm_damage_usd, year, category) ...\n                                                             ^\n\n[SQL: INSERT INTO cost (name, damage_usd, norm_damage_usd, year, category) VALUES (%(name)s, %(damage_usd)s, %(norm_damage_usd)s, %(year)s, %(category)s)]\n[parameters: ({'name': 'Katrina', 'damage_usd': 125.0, 'norm_damage_usd': 116.9, 'year': 2005, 'category': 'Category\\xa05 hurricane'}, {'name': 'Harvey', 'damage_usd': 125.0, 'norm_damage_usd': 62.2, 'year': 2017, 'category': 'Category\\xa04 hurricane'}, {'name': 'Irma', 'damage_usd': 77.2, 'norm_damage_usd': 31.0, 'year': 2017, 'category': 'Category\\xa05 hurricane'}, {'name': 'Sandy', 'damage_usd': 68.7, 'norm_damage_usd': 73.5, 'year': 2012, 'category': 'Category 3 hurricane'}, {'name': 'Ike', 'damage_usd': 38.0, 'norm_damage_usd': 35.2, 'year': 2008, 'category': 'Category\\xa04 hurricane'}, {'name': 'Wilma', 'damage_usd': 27.4, 'norm_damage_usd': 31.9, 'year': 2005, 'category': 'Category\\xa05 hurricane'}, {'name': 'Andrew', 'damage_usd': 27.3, 'norm_damage_usd': 106.0, 'year': 1992, 'category': 'Category\\xa05 hurricane'}, {'name': 'Ivan', 'damage_usd': 26.1, 'norm_damage_usd': 25.9, 'year': 2004, 'category': 'Category\\xa05 hurricane'}  ... displaying 10 of 54 total bound parameter sets ...  {'name': 'Emily', 'damage_usd': 1.01, 'norm_damage_usd': 6.0, 'year': 2005, 'category': 'Category\\xa05 hurricane'}, {'name': 'Bonnie', 'damage_usd': 1.0, 'norm_damage_usd': 6.0, 'year': 1998, 'category': 'Category\\xa03 hurricane'})]\n(Background on this error at: http://sqlalche.me/e/13/f405)"
     ]
    }
   ],
   "source": [
    "cost_df.to_sql(name=\"cost\", con=engine, if_exists='append', index=False)"
   ]
  },
  {
   "cell_type": "code",
   "execution_count": null,
   "metadata": {},
   "outputs": [],
   "source": [
    "fatal_df.to_sql(name=\"fatalities\", con=engine, if_exists='append', index=False)"
   ]
  },
  {
   "cell_type": "code",
   "execution_count": null,
   "metadata": {},
   "outputs": [],
   "source": []
  }
 ],
 "metadata": {
  "kernelspec": {
   "display_name": "Python 3.8.2 64-bit ('PythonData': virtualenv)",
   "language": "python",
   "name": "python38264bitpythondatavirtualenva6ed9450beb7421c92e17db9f8dc29a3"
  },
  "language_info": {
   "codemirror_mode": {
    "name": "ipython",
    "version": 3
   },
   "file_extension": ".py",
   "mimetype": "text/x-python",
   "name": "python",
   "nbconvert_exporter": "python",
   "pygments_lexer": "ipython3",
   "version": "3.8.2"
  }
 },
 "nbformat": 4,
 "nbformat_minor": 4
}
