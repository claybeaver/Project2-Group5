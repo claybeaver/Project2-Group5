{
 "cells": [
  {
   "cell_type": "code",
   "execution_count": 3,
   "metadata": {},
   "outputs": [],
   "source": [
    "# Import modules\n",
    "from bs4 import BeautifulSoup\n",
    "import requests\n",
    "from splinter import Browser\n",
    "from selenium import webdriver\n",
    "import pandas as pd\n",
    "import time\n",
    "from secret import username, password\n",
    "from sqlalchemy import create_engine\n",
    "import csv\n",
    "import numpy as np\n",
    "import html5lib"
   ]
  },
  {
   "cell_type": "markdown",
   "metadata": {},
   "source": [
    "### Mac (Irina) Connection"
   ]
  },
  {
   "cell_type": "code",
   "execution_count": 4,
   "metadata": {},
   "outputs": [
    {
     "name": "stdout",
     "output_type": "stream",
     "text": [
      "/usr/local/bin/chromedriver\r\n"
     ]
    }
   ],
   "source": [
    "# https://splinter.readthedocs.io/en/latest/drivers/chrome.html\n",
    "!which chromedriver"
   ]
  },
  {
   "cell_type": "code",
   "execution_count": 5,
   "metadata": {},
   "outputs": [],
   "source": [
    "executable_path = {'executable_path': '/usr/local/bin/chromedriver'}\n",
    "browser = Browser('chrome', **executable_path, headless=False)"
   ]
  },
  {
   "cell_type": "markdown",
   "metadata": {},
   "source": [
    "### Windows (Clay) Connection"
   ]
  },
  {
   "cell_type": "code",
   "execution_count": 6,
   "metadata": {},
   "outputs": [],
   "source": [
    "# executable_path = {'executable_path': 'C:/Users/Clay/chromedriver.exe'}\n",
    "# browser = Browser('chrome', **executable_path, headless=False)"
   ]
  },
  {
   "cell_type": "markdown",
   "metadata": {},
   "source": [
    "### Dataset 1 - Web Scrape Wikipedia Most Costliest hurricanes"
   ]
  },
  {
   "cell_type": "code",
   "execution_count": 123,
   "metadata": {},
   "outputs": [
    {
     "name": "stdout",
     "output_type": "stream",
     "text": [
      "Open web browser\n",
      "Read and save table\n"
     ]
    },
    {
     "data": {
      "text/html": [
       "<div>\n",
       "<style scoped>\n",
       "    .dataframe tbody tr th:only-of-type {\n",
       "        vertical-align: middle;\n",
       "    }\n",
       "\n",
       "    .dataframe tbody tr th {\n",
       "        vertical-align: top;\n",
       "    }\n",
       "\n",
       "    .dataframe thead th {\n",
       "        text-align: right;\n",
       "    }\n",
       "</style>\n",
       "<table border=\"1\" class=\"dataframe\">\n",
       "  <thead>\n",
       "    <tr style=\"text-align: right;\">\n",
       "      <th></th>\n",
       "      <th>Name</th>\n",
       "      <th>Nominal damage(Billions USD)</th>\n",
       "      <th>Normalized damage(Billions USD)</th>\n",
       "      <th>Season</th>\n",
       "      <th>Storm classificationat peak intensity</th>\n",
       "      <th>Areas affected</th>\n",
       "      <th>References</th>\n",
       "    </tr>\n",
       "  </thead>\n",
       "  <tbody>\n",
       "    <tr>\n",
       "      <th>0</th>\n",
       "      <td>Katrina</td>\n",
       "      <td>$125.0</td>\n",
       "      <td>$116.9</td>\n",
       "      <td>2005</td>\n",
       "      <td>Category 5 hurricane</td>\n",
       "      <td>Louisiana Mississippi The Bahamas United State...</td>\n",
       "      <td>[4][5]</td>\n",
       "    </tr>\n",
       "    <tr>\n",
       "      <th>1</th>\n",
       "      <td>Harvey</td>\n",
       "      <td>$125.0</td>\n",
       "      <td>$62.2</td>\n",
       "      <td>2017</td>\n",
       "      <td>Category 4 hurricane</td>\n",
       "      <td>Texas Louisiana South America Central America ...</td>\n",
       "      <td>[5][6]</td>\n",
       "    </tr>\n",
       "    <tr>\n",
       "      <th>2</th>\n",
       "      <td>Maria</td>\n",
       "      <td>$90.0</td>\n",
       "      <td>NaN</td>\n",
       "      <td>2017</td>\n",
       "      <td>Category 5 hurricane</td>\n",
       "      <td>Puerto Rico Lesser Antilles Greater Antilles C...</td>\n",
       "      <td>[7]</td>\n",
       "    </tr>\n",
       "    <tr>\n",
       "      <th>3</th>\n",
       "      <td>Irma</td>\n",
       "      <td>$77.2</td>\n",
       "      <td>$31.0</td>\n",
       "      <td>2017</td>\n",
       "      <td>Category 5 hurricane</td>\n",
       "      <td>Lesser Antilles Greater Antilles Caribbean Sea...</td>\n",
       "      <td>[5]</td>\n",
       "    </tr>\n",
       "    <tr>\n",
       "      <th>4</th>\n",
       "      <td>Sandy</td>\n",
       "      <td>$68.7</td>\n",
       "      <td>$73.5</td>\n",
       "      <td>2012</td>\n",
       "      <td>Category 3 hurricane</td>\n",
       "      <td>The Caribbean United States East Coast Eastern...</td>\n",
       "      <td>[5][8]</td>\n",
       "    </tr>\n",
       "  </tbody>\n",
       "</table>\n",
       "</div>"
      ],
      "text/plain": [
       "      Name Nominal damage(Billions USD) Normalized damage(Billions USD)  \\\n",
       "0  Katrina                       $125.0                          $116.9   \n",
       "1   Harvey                       $125.0                           $62.2   \n",
       "2    Maria                        $90.0                             NaN   \n",
       "3     Irma                        $77.2                           $31.0   \n",
       "4    Sandy                        $68.7                           $73.5   \n",
       "\n",
       "   Season Storm classificationat peak intensity  \\\n",
       "0    2005                  Category 5 hurricane   \n",
       "1    2017                  Category 4 hurricane   \n",
       "2    2017                  Category 5 hurricane   \n",
       "3    2017                  Category 5 hurricane   \n",
       "4    2012                  Category 3 hurricane   \n",
       "\n",
       "                                      Areas affected References  \n",
       "0  Louisiana Mississippi The Bahamas United State...     [4][5]  \n",
       "1  Texas Louisiana South America Central America ...     [5][6]  \n",
       "2  Puerto Rico Lesser Antilles Greater Antilles C...        [7]  \n",
       "3  Lesser Antilles Greater Antilles Caribbean Sea...        [5]  \n",
       "4  The Caribbean United States East Coast Eastern...     [5][8]  "
      ]
     },
     "execution_count": 123,
     "metadata": {},
     "output_type": "execute_result"
    }
   ],
   "source": [
    "mojo_list = []\n",
    "url = 'https://en.wikipedia.org/wiki/List_of_costliest_Atlantic_hurricanes'\n",
    "executable_path = {'executable_path': '/usr/local/bin/chromedriver'}\n",
    "browser = Browser('chrome', **executable_path, headless=False)\n",
    "browser.visit(url)\n",
    "time.sleep(3)\n",
    "print(\"Open web browser\")\n",
    "tables = pd.read_html(url)\n",
    "time.sleep(3)\n",
    "most_costly_hurricanes = tables[0]\n",
    "print(\"Read and save table\")\n",
    "browser.quit()\n",
    "most_costly_hurricanes.head()"
   ]
  },
  {
   "cell_type": "code",
   "execution_count": null,
   "metadata": {},
   "outputs": [],
   "source": []
  },
  {
   "cell_type": "code",
   "execution_count": null,
   "metadata": {},
   "outputs": [],
   "source": [
    "# # Rename Lifetime Gross to total_revenue_usd\n",
    "# total_gross_info = total_gross_info.rename(columns={'Lifetime Gross': 'total_revenue_usd'})"
   ]
  },
  {
   "cell_type": "code",
   "execution_count": 130,
   "metadata": {},
   "outputs": [
    {
     "data": {
      "text/html": [
       "<div>\n",
       "<style scoped>\n",
       "    .dataframe tbody tr th:only-of-type {\n",
       "        vertical-align: middle;\n",
       "    }\n",
       "\n",
       "    .dataframe tbody tr th {\n",
       "        vertical-align: top;\n",
       "    }\n",
       "\n",
       "    .dataframe thead th {\n",
       "        text-align: right;\n",
       "    }\n",
       "</style>\n",
       "<table border=\"1\" class=\"dataframe\">\n",
       "  <thead>\n",
       "    <tr style=\"text-align: right;\">\n",
       "      <th></th>\n",
       "      <th>name</th>\n",
       "      <th>damage_usd</th>\n",
       "      <th>norm_damage_usd</th>\n",
       "      <th>year</th>\n",
       "      <th>category</th>\n",
       "      <th>states</th>\n",
       "      <th>References</th>\n",
       "    </tr>\n",
       "  </thead>\n",
       "  <tbody>\n",
       "    <tr>\n",
       "      <th>0</th>\n",
       "      <td>Katrina</td>\n",
       "      <td>$125.0</td>\n",
       "      <td>116.9</td>\n",
       "      <td>2005</td>\n",
       "      <td>Category 5 hurricane</td>\n",
       "      <td>Louisiana Mississippi The Bahamas United State...</td>\n",
       "      <td>[4][5]</td>\n",
       "    </tr>\n",
       "    <tr>\n",
       "      <th>1</th>\n",
       "      <td>Harvey</td>\n",
       "      <td>$125.0</td>\n",
       "      <td>62.2</td>\n",
       "      <td>2017</td>\n",
       "      <td>Category 4 hurricane</td>\n",
       "      <td>Texas Louisiana South America Central America ...</td>\n",
       "      <td>[5][6]</td>\n",
       "    </tr>\n",
       "    <tr>\n",
       "      <th>2</th>\n",
       "      <td>Maria</td>\n",
       "      <td>$90.0</td>\n",
       "      <td>NaN</td>\n",
       "      <td>2017</td>\n",
       "      <td>Category 5 hurricane</td>\n",
       "      <td>Puerto Rico Lesser Antilles Greater Antilles C...</td>\n",
       "      <td>[7]</td>\n",
       "    </tr>\n",
       "    <tr>\n",
       "      <th>3</th>\n",
       "      <td>Irma</td>\n",
       "      <td>$77.2</td>\n",
       "      <td>31.0</td>\n",
       "      <td>2017</td>\n",
       "      <td>Category 5 hurricane</td>\n",
       "      <td>Lesser Antilles Greater Antilles Caribbean Sea...</td>\n",
       "      <td>[5]</td>\n",
       "    </tr>\n",
       "    <tr>\n",
       "      <th>4</th>\n",
       "      <td>Sandy</td>\n",
       "      <td>$68.7</td>\n",
       "      <td>73.5</td>\n",
       "      <td>2012</td>\n",
       "      <td>Category 3 hurricane</td>\n",
       "      <td>The Caribbean United States East Coast Eastern...</td>\n",
       "      <td>[5][8]</td>\n",
       "    </tr>\n",
       "  </tbody>\n",
       "</table>\n",
       "</div>"
      ],
      "text/plain": [
       "      name damage_usd norm_damage_usd  year              category  \\\n",
       "0  Katrina     $125.0           116.9  2005  Category 5 hurricane   \n",
       "1   Harvey     $125.0            62.2  2017  Category 4 hurricane   \n",
       "2    Maria      $90.0             NaN  2017  Category 5 hurricane   \n",
       "3     Irma      $77.2            31.0  2017  Category 5 hurricane   \n",
       "4    Sandy      $68.7            73.5  2012  Category 3 hurricane   \n",
       "\n",
       "                                              states References  \n",
       "0  Louisiana Mississippi The Bahamas United State...     [4][5]  \n",
       "1  Texas Louisiana South America Central America ...     [5][6]  \n",
       "2  Puerto Rico Lesser Antilles Greater Antilles C...        [7]  \n",
       "3  Lesser Antilles Greater Antilles Caribbean Sea...        [5]  \n",
       "4  The Caribbean United States East Coast Eastern...     [5][8]  "
      ]
     },
     "execution_count": 130,
     "metadata": {},
     "output_type": "execute_result"
    }
   ],
   "source": [
    "most_costly_hurricanes.head()"
   ]
  },
  {
   "cell_type": "code",
   "execution_count": 131,
   "metadata": {},
   "outputs": [],
   "source": [
    "# # Rename columns\n",
    "most_costly_hurricanes = most_costly_hurricanes.rename(columns={'Name': 'name','Nominal damage(Billions USD)': 'damage_usd', 'Normalized damage(Billions USD)': 'norm_damage_usd', \n",
    "                'Season': 'year', 'Storm classificationat peak intensity': 'category', 'Areas affected':'states'})"
   ]
  },
  {
   "cell_type": "code",
   "execution_count": 133,
   "metadata": {},
   "outputs": [],
   "source": [
    "# Drop Reference column\n",
    "most_costly_hurricanes = most_costly_hurricanes.drop(columns='References')"
   ]
  },
  {
   "cell_type": "code",
   "execution_count": 134,
   "metadata": {},
   "outputs": [
    {
     "data": {
      "text/html": [
       "<div>\n",
       "<style scoped>\n",
       "    .dataframe tbody tr th:only-of-type {\n",
       "        vertical-align: middle;\n",
       "    }\n",
       "\n",
       "    .dataframe tbody tr th {\n",
       "        vertical-align: top;\n",
       "    }\n",
       "\n",
       "    .dataframe thead th {\n",
       "        text-align: right;\n",
       "    }\n",
       "</style>\n",
       "<table border=\"1\" class=\"dataframe\">\n",
       "  <thead>\n",
       "    <tr style=\"text-align: right;\">\n",
       "      <th></th>\n",
       "      <th>name</th>\n",
       "      <th>damage_usd</th>\n",
       "      <th>norm_damage_usd</th>\n",
       "      <th>year</th>\n",
       "      <th>category</th>\n",
       "      <th>states</th>\n",
       "    </tr>\n",
       "  </thead>\n",
       "  <tbody>\n",
       "    <tr>\n",
       "      <th>0</th>\n",
       "      <td>Katrina</td>\n",
       "      <td>$125.0</td>\n",
       "      <td>116.9</td>\n",
       "      <td>2005</td>\n",
       "      <td>Category 5 hurricane</td>\n",
       "      <td>Louisiana Mississippi The Bahamas United State...</td>\n",
       "    </tr>\n",
       "    <tr>\n",
       "      <th>1</th>\n",
       "      <td>Harvey</td>\n",
       "      <td>$125.0</td>\n",
       "      <td>62.2</td>\n",
       "      <td>2017</td>\n",
       "      <td>Category 4 hurricane</td>\n",
       "      <td>Texas Louisiana South America Central America ...</td>\n",
       "    </tr>\n",
       "    <tr>\n",
       "      <th>2</th>\n",
       "      <td>Maria</td>\n",
       "      <td>$90.0</td>\n",
       "      <td>NaN</td>\n",
       "      <td>2017</td>\n",
       "      <td>Category 5 hurricane</td>\n",
       "      <td>Puerto Rico Lesser Antilles Greater Antilles C...</td>\n",
       "    </tr>\n",
       "    <tr>\n",
       "      <th>3</th>\n",
       "      <td>Irma</td>\n",
       "      <td>$77.2</td>\n",
       "      <td>31.0</td>\n",
       "      <td>2017</td>\n",
       "      <td>Category 5 hurricane</td>\n",
       "      <td>Lesser Antilles Greater Antilles Caribbean Sea...</td>\n",
       "    </tr>\n",
       "    <tr>\n",
       "      <th>4</th>\n",
       "      <td>Sandy</td>\n",
       "      <td>$68.7</td>\n",
       "      <td>73.5</td>\n",
       "      <td>2012</td>\n",
       "      <td>Category 3 hurricane</td>\n",
       "      <td>The Caribbean United States East Coast Eastern...</td>\n",
       "    </tr>\n",
       "  </tbody>\n",
       "</table>\n",
       "</div>"
      ],
      "text/plain": [
       "      name damage_usd norm_damage_usd  year              category  \\\n",
       "0  Katrina     $125.0           116.9  2005  Category 5 hurricane   \n",
       "1   Harvey     $125.0            62.2  2017  Category 4 hurricane   \n",
       "2    Maria      $90.0             NaN  2017  Category 5 hurricane   \n",
       "3     Irma      $77.2            31.0  2017  Category 5 hurricane   \n",
       "4    Sandy      $68.7            73.5  2012  Category 3 hurricane   \n",
       "\n",
       "                                              states  \n",
       "0  Louisiana Mississippi The Bahamas United State...  \n",
       "1  Texas Louisiana South America Central America ...  \n",
       "2  Puerto Rico Lesser Antilles Greater Antilles C...  \n",
       "3  Lesser Antilles Greater Antilles Caribbean Sea...  \n",
       "4  The Caribbean United States East Coast Eastern...  "
      ]
     },
     "execution_count": 134,
     "metadata": {},
     "output_type": "execute_result"
    }
   ],
   "source": [
    "most_costly_hurricanes.head()"
   ]
  },
  {
   "cell_type": "code",
   "execution_count": 135,
   "metadata": {},
   "outputs": [],
   "source": [
    "# Save to the csv file\n",
    "most_costly_hurricanes.to_csv(\"Data/01_most_costly_hurricanes_wiki_web.csv\")"
   ]
  },
  {
   "cell_type": "code",
   "execution_count": 136,
   "metadata": {},
   "outputs": [
    {
     "data": {
      "text/html": [
       "<div>\n",
       "<style scoped>\n",
       "    .dataframe tbody tr th:only-of-type {\n",
       "        vertical-align: middle;\n",
       "    }\n",
       "\n",
       "    .dataframe tbody tr th {\n",
       "        vertical-align: top;\n",
       "    }\n",
       "\n",
       "    .dataframe thead th {\n",
       "        text-align: right;\n",
       "    }\n",
       "</style>\n",
       "<table border=\"1\" class=\"dataframe\">\n",
       "  <thead>\n",
       "    <tr style=\"text-align: right;\">\n",
       "      <th></th>\n",
       "      <th>name</th>\n",
       "      <th>damage_usd</th>\n",
       "      <th>norm_damage_usd</th>\n",
       "      <th>year</th>\n",
       "      <th>category</th>\n",
       "      <th>states</th>\n",
       "    </tr>\n",
       "  </thead>\n",
       "  <tbody>\n",
       "    <tr>\n",
       "      <th>0</th>\n",
       "      <td>Katrina</td>\n",
       "      <td>$125.0</td>\n",
       "      <td>116.9</td>\n",
       "      <td>2005</td>\n",
       "      <td>Category 5 hurricane</td>\n",
       "      <td>Louisiana Mississippi The Bahamas United State...</td>\n",
       "    </tr>\n",
       "    <tr>\n",
       "      <th>1</th>\n",
       "      <td>Harvey</td>\n",
       "      <td>$125.0</td>\n",
       "      <td>62.2</td>\n",
       "      <td>2017</td>\n",
       "      <td>Category 4 hurricane</td>\n",
       "      <td>Texas Louisiana South America Central America ...</td>\n",
       "    </tr>\n",
       "    <tr>\n",
       "      <th>2</th>\n",
       "      <td>Maria</td>\n",
       "      <td>$90.0</td>\n",
       "      <td>NaN</td>\n",
       "      <td>2017</td>\n",
       "      <td>Category 5 hurricane</td>\n",
       "      <td>Puerto Rico Lesser Antilles Greater Antilles C...</td>\n",
       "    </tr>\n",
       "    <tr>\n",
       "      <th>3</th>\n",
       "      <td>Irma</td>\n",
       "      <td>$77.2</td>\n",
       "      <td>31.0</td>\n",
       "      <td>2017</td>\n",
       "      <td>Category 5 hurricane</td>\n",
       "      <td>Lesser Antilles Greater Antilles Caribbean Sea...</td>\n",
       "    </tr>\n",
       "    <tr>\n",
       "      <th>4</th>\n",
       "      <td>Sandy</td>\n",
       "      <td>$68.7</td>\n",
       "      <td>73.5</td>\n",
       "      <td>2012</td>\n",
       "      <td>Category 3 hurricane</td>\n",
       "      <td>The Caribbean United States East Coast Eastern...</td>\n",
       "    </tr>\n",
       "  </tbody>\n",
       "</table>\n",
       "</div>"
      ],
      "text/plain": [
       "      name damage_usd norm_damage_usd  year              category  \\\n",
       "0  Katrina     $125.0           116.9  2005  Category 5 hurricane   \n",
       "1   Harvey     $125.0            62.2  2017  Category 4 hurricane   \n",
       "2    Maria      $90.0             NaN  2017  Category 5 hurricane   \n",
       "3     Irma      $77.2            31.0  2017  Category 5 hurricane   \n",
       "4    Sandy      $68.7            73.5  2012  Category 3 hurricane   \n",
       "\n",
       "                                              states  \n",
       "0  Louisiana Mississippi The Bahamas United State...  \n",
       "1  Texas Louisiana South America Central America ...  \n",
       "2  Puerto Rico Lesser Antilles Greater Antilles C...  \n",
       "3  Lesser Antilles Greater Antilles Caribbean Sea...  \n",
       "4  The Caribbean United States East Coast Eastern...  "
      ]
     },
     "execution_count": 136,
     "metadata": {},
     "output_type": "execute_result"
    }
   ],
   "source": [
    "most_costly_hurricanes.head()"
   ]
  },
  {
   "cell_type": "code",
   "execution_count": 137,
   "metadata": {},
   "outputs": [
    {
     "data": {
      "text/plain": [
       "61"
      ]
     },
     "execution_count": 137,
     "metadata": {},
     "output_type": "execute_result"
    }
   ],
   "source": [
    "# Convert total_revenue_usd to Integer\n",
    "damage_usd_int = most_costly_hurricanes['damage_usd']\n",
    "len(damage_usd_int)"
   ]
  },
  {
   "cell_type": "code",
   "execution_count": 138,
   "metadata": {},
   "outputs": [
    {
     "name": "stdout",
     "output_type": "stream",
     "text": [
      "['125.0', '125.0', '90.0', '77.2', '68.7', '38.0', '27.4', '27.3', '26.1', '25.1', '24.2', '18.5', '16.9', '16.5', '14.2', '13.9', '10.1', '9.47', '8.9', '8.5', '8.31', '7.94', '6.5', '6.08', '5.5', '5.07', '5.0', '5.0', '4.7', '4.2', '3.96', '3.9', '3.98', '3.11', '3.0', '2.98', '2.97', '2.8', '2.35', '2.1', '2.1', '1.95', '1.87', '1.8', '1.77', '1.6', '1.57', '1.54', '1.52', '1.5', '1.5', '1.5', '1.5', '1.42', '1.42', '1.3', '1.28', '1.16', '1.03', '1.01', '1.0']\n"
     ]
    }
   ],
   "source": [
    "list = []\n",
    "for i in damage_usd_int:\n",
    "    list.append(i.split('$')[-1]) \n",
    "print(list[:61])"
   ]
  },
  {
   "cell_type": "code",
   "execution_count": 139,
   "metadata": {},
   "outputs": [],
   "source": [
    "# Change revenue column from string to big integer\n",
    "most_costly_hurricanes['damage_usd_int'] = list"
   ]
  },
  {
   "cell_type": "code",
   "execution_count": 140,
   "metadata": {},
   "outputs": [
    {
     "data": {
      "text/html": [
       "<div>\n",
       "<style scoped>\n",
       "    .dataframe tbody tr th:only-of-type {\n",
       "        vertical-align: middle;\n",
       "    }\n",
       "\n",
       "    .dataframe tbody tr th {\n",
       "        vertical-align: top;\n",
       "    }\n",
       "\n",
       "    .dataframe thead th {\n",
       "        text-align: right;\n",
       "    }\n",
       "</style>\n",
       "<table border=\"1\" class=\"dataframe\">\n",
       "  <thead>\n",
       "    <tr style=\"text-align: right;\">\n",
       "      <th></th>\n",
       "      <th>name</th>\n",
       "      <th>damage_usd</th>\n",
       "      <th>norm_damage_usd</th>\n",
       "      <th>year</th>\n",
       "      <th>category</th>\n",
       "      <th>states</th>\n",
       "      <th>damage_usd_int</th>\n",
       "    </tr>\n",
       "  </thead>\n",
       "  <tbody>\n",
       "    <tr>\n",
       "      <th>0</th>\n",
       "      <td>Katrina</td>\n",
       "      <td>$125.0</td>\n",
       "      <td>116.9</td>\n",
       "      <td>2005</td>\n",
       "      <td>Category 5 hurricane</td>\n",
       "      <td>Louisiana Mississippi The Bahamas United State...</td>\n",
       "      <td>125.0</td>\n",
       "    </tr>\n",
       "    <tr>\n",
       "      <th>1</th>\n",
       "      <td>Harvey</td>\n",
       "      <td>$125.0</td>\n",
       "      <td>62.2</td>\n",
       "      <td>2017</td>\n",
       "      <td>Category 4 hurricane</td>\n",
       "      <td>Texas Louisiana South America Central America ...</td>\n",
       "      <td>125.0</td>\n",
       "    </tr>\n",
       "    <tr>\n",
       "      <th>2</th>\n",
       "      <td>Maria</td>\n",
       "      <td>$90.0</td>\n",
       "      <td>NaN</td>\n",
       "      <td>2017</td>\n",
       "      <td>Category 5 hurricane</td>\n",
       "      <td>Puerto Rico Lesser Antilles Greater Antilles C...</td>\n",
       "      <td>90.0</td>\n",
       "    </tr>\n",
       "    <tr>\n",
       "      <th>3</th>\n",
       "      <td>Irma</td>\n",
       "      <td>$77.2</td>\n",
       "      <td>31.0</td>\n",
       "      <td>2017</td>\n",
       "      <td>Category 5 hurricane</td>\n",
       "      <td>Lesser Antilles Greater Antilles Caribbean Sea...</td>\n",
       "      <td>77.2</td>\n",
       "    </tr>\n",
       "    <tr>\n",
       "      <th>4</th>\n",
       "      <td>Sandy</td>\n",
       "      <td>$68.7</td>\n",
       "      <td>73.5</td>\n",
       "      <td>2012</td>\n",
       "      <td>Category 3 hurricane</td>\n",
       "      <td>The Caribbean United States East Coast Eastern...</td>\n",
       "      <td>68.7</td>\n",
       "    </tr>\n",
       "  </tbody>\n",
       "</table>\n",
       "</div>"
      ],
      "text/plain": [
       "      name damage_usd norm_damage_usd  year              category  \\\n",
       "0  Katrina     $125.0           116.9  2005  Category 5 hurricane   \n",
       "1   Harvey     $125.0            62.2  2017  Category 4 hurricane   \n",
       "2    Maria      $90.0             NaN  2017  Category 5 hurricane   \n",
       "3     Irma      $77.2            31.0  2017  Category 5 hurricane   \n",
       "4    Sandy      $68.7            73.5  2012  Category 3 hurricane   \n",
       "\n",
       "                                              states damage_usd_int  \n",
       "0  Louisiana Mississippi The Bahamas United State...          125.0  \n",
       "1  Texas Louisiana South America Central America ...          125.0  \n",
       "2  Puerto Rico Lesser Antilles Greater Antilles C...           90.0  \n",
       "3  Lesser Antilles Greater Antilles Caribbean Sea...           77.2  \n",
       "4  The Caribbean United States East Coast Eastern...           68.7  "
      ]
     },
     "execution_count": 140,
     "metadata": {},
     "output_type": "execute_result"
    }
   ],
   "source": [
    "most_costly_hurricanes.head()"
   ]
  },
  {
   "cell_type": "code",
   "execution_count": 141,
   "metadata": {},
   "outputs": [],
   "source": [
    "# # Drop Reference column\n",
    "most_costly_hurricanes = most_costly_hurricanes.drop(columns='damage_usd')"
   ]
  },
  {
   "cell_type": "code",
   "execution_count": 142,
   "metadata": {},
   "outputs": [
    {
     "data": {
      "text/html": [
       "<div>\n",
       "<style scoped>\n",
       "    .dataframe tbody tr th:only-of-type {\n",
       "        vertical-align: middle;\n",
       "    }\n",
       "\n",
       "    .dataframe tbody tr th {\n",
       "        vertical-align: top;\n",
       "    }\n",
       "\n",
       "    .dataframe thead th {\n",
       "        text-align: right;\n",
       "    }\n",
       "</style>\n",
       "<table border=\"1\" class=\"dataframe\">\n",
       "  <thead>\n",
       "    <tr style=\"text-align: right;\">\n",
       "      <th></th>\n",
       "      <th>name</th>\n",
       "      <th>norm_damage_usd</th>\n",
       "      <th>year</th>\n",
       "      <th>category</th>\n",
       "      <th>states</th>\n",
       "      <th>damage_usd_int</th>\n",
       "    </tr>\n",
       "  </thead>\n",
       "  <tbody>\n",
       "    <tr>\n",
       "      <th>0</th>\n",
       "      <td>Katrina</td>\n",
       "      <td>116.9</td>\n",
       "      <td>2005</td>\n",
       "      <td>Category 5 hurricane</td>\n",
       "      <td>Louisiana Mississippi The Bahamas United State...</td>\n",
       "      <td>125.0</td>\n",
       "    </tr>\n",
       "    <tr>\n",
       "      <th>1</th>\n",
       "      <td>Harvey</td>\n",
       "      <td>62.2</td>\n",
       "      <td>2017</td>\n",
       "      <td>Category 4 hurricane</td>\n",
       "      <td>Texas Louisiana South America Central America ...</td>\n",
       "      <td>125.0</td>\n",
       "    </tr>\n",
       "    <tr>\n",
       "      <th>2</th>\n",
       "      <td>Maria</td>\n",
       "      <td>NaN</td>\n",
       "      <td>2017</td>\n",
       "      <td>Category 5 hurricane</td>\n",
       "      <td>Puerto Rico Lesser Antilles Greater Antilles C...</td>\n",
       "      <td>90.0</td>\n",
       "    </tr>\n",
       "    <tr>\n",
       "      <th>3</th>\n",
       "      <td>Irma</td>\n",
       "      <td>31.0</td>\n",
       "      <td>2017</td>\n",
       "      <td>Category 5 hurricane</td>\n",
       "      <td>Lesser Antilles Greater Antilles Caribbean Sea...</td>\n",
       "      <td>77.2</td>\n",
       "    </tr>\n",
       "    <tr>\n",
       "      <th>4</th>\n",
       "      <td>Sandy</td>\n",
       "      <td>73.5</td>\n",
       "      <td>2012</td>\n",
       "      <td>Category 3 hurricane</td>\n",
       "      <td>The Caribbean United States East Coast Eastern...</td>\n",
       "      <td>68.7</td>\n",
       "    </tr>\n",
       "  </tbody>\n",
       "</table>\n",
       "</div>"
      ],
      "text/plain": [
       "      name norm_damage_usd  year              category  \\\n",
       "0  Katrina           116.9  2005  Category 5 hurricane   \n",
       "1   Harvey            62.2  2017  Category 4 hurricane   \n",
       "2    Maria             NaN  2017  Category 5 hurricane   \n",
       "3     Irma            31.0  2017  Category 5 hurricane   \n",
       "4    Sandy            73.5  2012  Category 3 hurricane   \n",
       "\n",
       "                                              states damage_usd_int  \n",
       "0  Louisiana Mississippi The Bahamas United State...          125.0  \n",
       "1  Texas Louisiana South America Central America ...          125.0  \n",
       "2  Puerto Rico Lesser Antilles Greater Antilles C...           90.0  \n",
       "3  Lesser Antilles Greater Antilles Caribbean Sea...           77.2  \n",
       "4  The Caribbean United States East Coast Eastern...           68.7  "
      ]
     },
     "execution_count": 142,
     "metadata": {},
     "output_type": "execute_result"
    }
   ],
   "source": [
    "most_costly_hurricanes.head()"
   ]
  },
  {
   "cell_type": "markdown",
   "metadata": {},
   "source": [
    "# Prepare Cost data"
   ]
  },
  {
   "cell_type": "code",
   "execution_count": 143,
   "metadata": {},
   "outputs": [],
   "source": [
    "# # reset index\n",
    "# most_costly_hurricanes.reset_index()"
   ]
  },
  {
   "cell_type": "code",
   "execution_count": 144,
   "metadata": {},
   "outputs": [
    {
     "data": {
      "text/plain": [
       "61"
      ]
     },
     "execution_count": 144,
     "metadata": {},
     "output_type": "execute_result"
    }
   ],
   "source": [
    "len(most_costly_hurricanes)"
   ]
  },
  {
   "cell_type": "code",
   "execution_count": 145,
   "metadata": {},
   "outputs": [],
   "source": [
    "# # Rename columns\n",
    "# total_gross_info = total_gross_info.rename(columns={'Rank': 'rank', 'Title': 'name', \n",
    "#                 'Year': 'year', 'GrossNumeric': 'total_revenue_usd'})"
   ]
  },
  {
   "cell_type": "code",
   "execution_count": 14,
   "metadata": {},
   "outputs": [],
   "source": [
    "# total_gross_info.head()"
   ]
  },
  {
   "cell_type": "code",
   "execution_count": 13,
   "metadata": {},
   "outputs": [],
   "source": [
    "# Change name column to lower case to easier join \n",
    "# total_gross_info['name'] = total_gross_info['name'].str.capitalize()"
   ]
  },
  {
   "cell_type": "code",
   "execution_count": 14,
   "metadata": {},
   "outputs": [],
   "source": [
    "# # Drop year column\n",
    "# total_gross_info = total_gross_info.drop(columns='year')"
   ]
  },
  {
   "cell_type": "code",
   "execution_count": 15,
   "metadata": {},
   "outputs": [],
   "source": [
    "# # Rename Lifetime Gross to total_revenue_usd\n",
    "# total_gross_info = total_gross_info.rename(columns={'Lifetime Gross': 'total_revenue_usd'})"
   ]
  },
  {
   "cell_type": "code",
   "execution_count": 15,
   "metadata": {},
   "outputs": [],
   "source": [
    "# total_gross_info.head()"
   ]
  },
  {
   "cell_type": "code",
   "execution_count": 16,
   "metadata": {},
   "outputs": [],
   "source": [
    "# # Convert total_revenue_usd to Integer\n",
    "# tot_rev_usd = total_gross_info['total_revenue_usd']\n",
    "# len(tot_rev_usd)"
   ]
  },
  {
   "cell_type": "code",
   "execution_count": 17,
   "metadata": {},
   "outputs": [],
   "source": [
    "# list = []\n",
    "# for i in tot_rev_usd:\n",
    "#     list.append(i.split('$')[-1]) \n",
    "# print(list[:10])"
   ]
  },
  {
   "cell_type": "code",
   "execution_count": 18,
   "metadata": {},
   "outputs": [],
   "source": [
    "# split_list = []\n",
    "# for i in list:\n",
    "#     i = i.split(',')\n",
    "#     split_list.append(''.join(i)) "
   ]
  },
  {
   "cell_type": "code",
   "execution_count": 19,
   "metadata": {},
   "outputs": [],
   "source": [
    "# merged_list = []\n",
    "# for i in split_list:\n",
    "#     merged_list.append(''.join(i)) \n",
    "# print(merged_list[:5])"
   ]
  },
  {
   "cell_type": "code",
   "execution_count": 20,
   "metadata": {},
   "outputs": [],
   "source": [
    "# len(merged_list)"
   ]
  },
  {
   "cell_type": "code",
   "execution_count": 22,
   "metadata": {},
   "outputs": [],
   "source": [
    "# Change revenue column from string to big integer\n",
    "# total_gross_info['total_revenue_usd'] = merged_list"
   ]
  },
  {
   "cell_type": "code",
   "execution_count": 23,
   "metadata": {},
   "outputs": [],
   "source": [
    "# total_gross_info['total_revenue_usd'] = pd.to_numeric(total_gross_info['total_revenue_usd'])"
   ]
  },
  {
   "cell_type": "code",
   "execution_count": 24,
   "metadata": {},
   "outputs": [],
   "source": [
    "# total_gross_info.dtypes"
   ]
  },
  {
   "cell_type": "code",
   "execution_count": 25,
   "metadata": {},
   "outputs": [],
   "source": [
    "# total_gross_info.to_csv('csv_files/Total_Gross_Info.csv')"
   ]
  },
  {
   "cell_type": "markdown",
   "metadata": {},
   "source": [
    "## Dataset 2 - Kaggle domestic revenue data - Load and clean¶\n",
    "#### Please download source data set - https://www.kaggle.com/danielgrijalvas/movies?select=movies.csv\n",
    "#### Save in 'csv_files/datasets_2745_4700_movies.csv'"
   ]
  },
  {
   "cell_type": "code",
   "execution_count": 26,
   "metadata": {},
   "outputs": [],
   "source": [
    "# path = 'csv_files/datasets_2745_4700_movies.csv'"
   ]
  },
  {
   "cell_type": "code",
   "execution_count": 27,
   "metadata": {},
   "outputs": [],
   "source": [
    "# # Convert all rows to UTF-8 type and write to a new file\n",
    "# with open(path, 'r', encoding='utf-8', errors='ignore') as infile, open(path + '_UTF8.csv', 'w') as outfile:\n",
    "#      inputs = csv.reader(infile)\n",
    "#      output = csv.writer(outfile)\n",
    "\n",
    "#      for index, row in enumerate(inputs):\n",
    "#          # Create file with no header\n",
    "#          if index == 0:\n",
    "#              continue\n",
    "#          output.writerow(row)"
   ]
  },
  {
   "cell_type": "code",
   "execution_count": 28,
   "metadata": {},
   "outputs": [],
   "source": [
    "# # Read csv file into df\n",
    "# domestic_df = pd.read_csv('csv_files/datasets_2745_4700_movies.csv_UTF8.csv')"
   ]
  },
  {
   "cell_type": "code",
   "execution_count": 29,
   "metadata": {},
   "outputs": [],
   "source": [
    "# # Add header \n",
    "# domestic_df.columns = [\"budget\",\"company\",\"country\",\"director\",\"genre\",\"gross\",\"name\",\"rating\",\"released\",\"runtime\",\"score\",\"star\",\"votes\",\"writer\",\"year\"]"
   ]
  },
  {
   "cell_type": "code",
   "execution_count": 26,
   "metadata": {},
   "outputs": [],
   "source": [
    "# domestic_df.head(2)"
   ]
  },
  {
   "cell_type": "code",
   "execution_count": 31,
   "metadata": {},
   "outputs": [],
   "source": [
    "# Make names capitalized\n",
    "# domestic_df['name'] = domestic_df['name'].str.capitalize()"
   ]
  },
  {
   "cell_type": "code",
   "execution_count": 70,
   "metadata": {},
   "outputs": [],
   "source": [
    "# domestic_df.head(2)"
   ]
  },
  {
   "cell_type": "code",
   "execution_count": 71,
   "metadata": {
    "scrolled": true
   },
   "outputs": [],
   "source": [
    "# # Getting the duplicate movies\n",
    "# duplicated_domestic_df = domestic_df.loc[domestic_df.duplicated(subset=[\"name\",\"director\"]), \"name\"].unique()\n",
    "# duplicated_domestic_df"
   ]
  },
  {
   "cell_type": "code",
   "execution_count": 72,
   "metadata": {
    "scrolled": true
   },
   "outputs": [],
   "source": [
    "# # Getting the duplicate movie by title and star released. \n",
    "# duplicated_domestic_df = domestic_df.loc[domestic_df.duplicated(subset=[\"name\",\"star\"]), \"name\"].unique()\n",
    "# duplicated_domestic_df"
   ]
  },
  {
   "cell_type": "code",
   "execution_count": 73,
   "metadata": {
    "scrolled": true
   },
   "outputs": [],
   "source": [
    "# # Getting the duplicate movie by title and country released. \n",
    "# duplicated_domestic_df = domestic_df.loc[domestic_df.duplicated(subset=[\"name\",\"country\"]), \"name\"].unique()\n",
    "# duplicated_domestic_df"
   ]
  },
  {
   "cell_type": "code",
   "execution_count": 28,
   "metadata": {},
   "outputs": [],
   "source": [
    "# # Check duplicated movie\n",
    "# duplicated_domestic_df = domestic_df.loc[domestic_df[\"name\"] == \"Godzilla\"]\n",
    "# duplicated_domestic_df"
   ]
  },
  {
   "cell_type": "code",
   "execution_count": 29,
   "metadata": {},
   "outputs": [],
   "source": [
    "# # Rename gross to domestic_revenue_usd\n",
    "# domestic_gross_info = domestic_df.rename(columns={'gross': 'domestic_revenue_usd'})"
   ]
  },
  {
   "cell_type": "code",
   "execution_count": 38,
   "metadata": {},
   "outputs": [],
   "source": [
    "# # Rename released to release_date\n",
    "# domestic_gross_info = domestic_gross_info.rename(columns={'released': 'release_date'})"
   ]
  },
  {
   "cell_type": "code",
   "execution_count": 39,
   "metadata": {},
   "outputs": [],
   "source": [
    "# # Drop columns we do not need ('budget', 'runtime', 'score', 'votes', 'year')\n",
    "# domestic_gross_info = domestic_gross_info.drop(columns=['budget', 'runtime', 'score', 'votes'])"
   ]
  },
  {
   "cell_type": "code",
   "execution_count": 146,
   "metadata": {},
   "outputs": [],
   "source": [
    "# domestic_gross_info.head(2)"
   ]
  },
  {
   "cell_type": "code",
   "execution_count": 147,
   "metadata": {},
   "outputs": [],
   "source": [
    "# domestic_gross_info.dtypes"
   ]
  },
  {
   "cell_type": "code",
   "execution_count": 148,
   "metadata": {},
   "outputs": [],
   "source": [
    "# # Change release_date to datetime type\n",
    "# domestic_gross_info['release_date'] = pd.to_datetime(domestic_gross_info['release_date'])"
   ]
  },
  {
   "cell_type": "code",
   "execution_count": 149,
   "metadata": {},
   "outputs": [],
   "source": [
    "# domestic_gross_info.dtypes"
   ]
  },
  {
   "cell_type": "code",
   "execution_count": 150,
   "metadata": {},
   "outputs": [],
   "source": [
    "# # Write to csv file\n",
    "# domestic_gross_info.to_csv('csv_files/Domestic_Gross_Info.csv')"
   ]
  },
  {
   "cell_type": "code",
   "execution_count": 151,
   "metadata": {},
   "outputs": [],
   "source": [
    "# TO THIS POINT, WE HAVE CREATED TWO MASTER DATAFRAMES THAT ARE CLEAN:\n",
    "# (1) Total_Gross_Info.csv\n",
    "# (2) Domestic_Gross_Info.csv"
   ]
  },
  {
   "cell_type": "markdown",
   "metadata": {},
   "source": [
    "### Merge total_gross_info and domestic_gross_info tables on 'name' column"
   ]
  },
  {
   "cell_type": "code",
   "execution_count": 152,
   "metadata": {},
   "outputs": [],
   "source": [
    "# # combine total and domestic tables on left using name of the movie column\n",
    "# combined_gross_info = pd.merge(domestic_gross_info, total_gross_info, how='left', on=\"name\")"
   ]
  },
  {
   "cell_type": "code",
   "execution_count": 153,
   "metadata": {},
   "outputs": [],
   "source": [
    "# combined_gross_info.head()"
   ]
  },
  {
   "cell_type": "code",
   "execution_count": 154,
   "metadata": {},
   "outputs": [],
   "source": [
    "# len(combined_gross_info)AssertionError"
   ]
  },
  {
   "cell_type": "code",
   "execution_count": 155,
   "metadata": {},
   "outputs": [],
   "source": [
    "# # Add new column and compute the international_total_revenue\n",
    "# combined_gross_info['international_revenue_usd'] = \\\n",
    "#         (combined_gross_info['total_revenue_usd'] - combined_gross_info['domestic_revenue_usd'])"
   ]
  },
  {
   "cell_type": "code",
   "execution_count": 156,
   "metadata": {},
   "outputs": [],
   "source": [
    "# # Rename columns\n",
    "# combined_gross_info = combined_gross_info.rename(columns={'star':'actor'})"
   ]
  },
  {
   "cell_type": "code",
   "execution_count": 157,
   "metadata": {},
   "outputs": [],
   "source": [
    "# # Getting the duplicate movie by title and star released. \n",
    "# dupl_combined_df = combined_gross_info.loc[combined_gross_info.duplicated(subset=[\"name\",\"director\", \"year\"]), \"name\"].unique()\n",
    "# dupl_combined_df"
   ]
  },
  {
   "cell_type": "code",
   "execution_count": 158,
   "metadata": {},
   "outputs": [],
   "source": [
    "# # Get all the data for the duplicate movie \n",
    "# dupl_df = combined_gross_info.loc[combined_gross_info[\"name\"] == \"Clash of the titans\"]\n",
    "# dupl_df"
   ]
  },
  {
   "cell_type": "markdown",
   "metadata": {},
   "source": [
    "#### (removed) Use pandas to push data into database"
   ]
  },
  {
   "cell_type": "code",
   "execution_count": 159,
   "metadata": {},
   "outputs": [],
   "source": [
    "# # Check existing tables\n",
    "# engine.table_names()"
   ]
  },
  {
   "cell_type": "code",
   "execution_count": 160,
   "metadata": {},
   "outputs": [],
   "source": [
    "# # Create domesic gross revenue table in the database\n",
    "# domestic_gross_info.to_sql(name='domestic_gross_info', con=engine, if_exists='append', index=False)"
   ]
  },
  {
   "cell_type": "code",
   "execution_count": 161,
   "metadata": {},
   "outputs": [],
   "source": [
    "# type(total_gross_info['name'])"
   ]
  },
  {
   "cell_type": "code",
   "execution_count": 162,
   "metadata": {},
   "outputs": [],
   "source": [
    "# total_gross_info"
   ]
  },
  {
   "cell_type": "code",
   "execution_count": 163,
   "metadata": {},
   "outputs": [],
   "source": [
    "# domestic_gross_info"
   ]
  },
  {
   "cell_type": "code",
   "execution_count": 164,
   "metadata": {},
   "outputs": [],
   "source": [
    "# # Remove the duplicates\n",
    "# # clean_combined_df = combined_gross_info.drop_duplicates(subset=['name','director','year'], keep='first')\n",
    "# clean_combined_df"
   ]
  },
  {
   "cell_type": "code",
   "execution_count": 165,
   "metadata": {},
   "outputs": [],
   "source": [
    "# len(clean_combined_df)"
   ]
  },
  {
   "cell_type": "markdown",
   "metadata": {},
   "source": [
    "### Create movies table from combined table"
   ]
  },
  {
   "cell_type": "code",
   "execution_count": 166,
   "metadata": {},
   "outputs": [],
   "source": [
    "# # Re-arrange the columns and write into new table\n",
    "# movies = clean_combined_df[['name','total_revenue_usd','international_revenue_usd','domestic_revenue_usd',\n",
    "#                               'director','actor','writer','genre','rating','company','country','year']]"
   ]
  },
  {
   "cell_type": "code",
   "execution_count": 167,
   "metadata": {},
   "outputs": [],
   "source": [
    "# movies.head()"
   ]
  },
  {
   "cell_type": "code",
   "execution_count": 168,
   "metadata": {},
   "outputs": [],
   "source": [
    "# # Fill NaN values with zeroes\n",
    "# movies[['total_revenue_usd','international_revenue_usd','domestic_revenue_usd']] = \\\n",
    "#     movies[['total_revenue_usd','international_revenue_usd','domestic_revenue_usd']].fillna(0)"
   ]
  },
  {
   "cell_type": "markdown",
   "metadata": {},
   "source": [
    "#### Generate movie_id index"
   ]
  },
  {
   "cell_type": "code",
   "execution_count": 169,
   "metadata": {},
   "outputs": [],
   "source": [
    "# movies.head()"
   ]
  },
  {
   "cell_type": "code",
   "execution_count": 170,
   "metadata": {},
   "outputs": [],
   "source": [
    "# # Sort table by total revenue column\n",
    "# movies_sorted = movies.sort_values(by='total_revenue_usd', ascending=False)\n",
    "# movies_sorted.head()"
   ]
  },
  {
   "cell_type": "code",
   "execution_count": 171,
   "metadata": {},
   "outputs": [],
   "source": [
    "# # Reset index\n",
    "# movies_reset_index = movies_sorted.reset_index(drop=True)\n",
    "# movies_reset_index.head()"
   ]
  },
  {
   "cell_type": "code",
   "execution_count": 172,
   "metadata": {},
   "outputs": [],
   "source": [
    "# # Start index from 1\n",
    "# movies_reset_index.index += 1"
   ]
  },
  {
   "cell_type": "code",
   "execution_count": 173,
   "metadata": {},
   "outputs": [],
   "source": [
    "# # Reset index\n",
    "# movies = movies_reset_index.reset_index()"
   ]
  },
  {
   "cell_type": "code",
   "execution_count": 174,
   "metadata": {},
   "outputs": [],
   "source": [
    "# movies.head()"
   ]
  },
  {
   "cell_type": "code",
   "execution_count": 175,
   "metadata": {},
   "outputs": [],
   "source": [
    "# movies = movies.rename(columns={'index': 'movie_id'})"
   ]
  },
  {
   "cell_type": "code",
   "execution_count": 176,
   "metadata": {},
   "outputs": [],
   "source": [
    "# movies.head()"
   ]
  },
  {
   "cell_type": "code",
   "execution_count": 177,
   "metadata": {},
   "outputs": [],
   "source": [
    "# # Reset index\n",
    "# movies.reset_index()"
   ]
  },
  {
   "cell_type": "code",
   "execution_count": 178,
   "metadata": {},
   "outputs": [],
   "source": [
    "# movies.head()"
   ]
  },
  {
   "cell_type": "markdown",
   "metadata": {},
   "source": [
    "### Extract Actor data into a separate table"
   ]
  },
  {
   "cell_type": "code",
   "execution_count": 179,
   "metadata": {},
   "outputs": [],
   "source": [
    "# # Save star_actor data into a separate table\n",
    "# actor = movies['actor'].unique()\n",
    "# len(actor)"
   ]
  },
  {
   "cell_type": "code",
   "execution_count": 180,
   "metadata": {},
   "outputs": [],
   "source": [
    "# actor[:5]"
   ]
  },
  {
   "cell_type": "code",
   "execution_count": 181,
   "metadata": {},
   "outputs": [],
   "source": [
    "# actor = pd.DataFrame({'actor': actor})\n",
    "# actor.head(2)"
   ]
  },
  {
   "cell_type": "code",
   "execution_count": 182,
   "metadata": {},
   "outputs": [],
   "source": [
    "# actor.index += 1\n",
    "# actor"
   ]
  },
  {
   "cell_type": "code",
   "execution_count": 183,
   "metadata": {},
   "outputs": [],
   "source": [
    "# actor = actor.reset_index()\n",
    "# actor.head(2)"
   ]
  },
  {
   "cell_type": "code",
   "execution_count": 184,
   "metadata": {},
   "outputs": [],
   "source": [
    "# actor = actor.rename(columns={'index': 'actor_id'})\n",
    "# actor.head()"
   ]
  },
  {
   "cell_type": "code",
   "execution_count": 185,
   "metadata": {},
   "outputs": [],
   "source": [
    "# len(actor)"
   ]
  },
  {
   "cell_type": "markdown",
   "metadata": {},
   "source": [
    "### Merge movie and actor df on actor column"
   ]
  },
  {
   "cell_type": "code",
   "execution_count": 186,
   "metadata": {},
   "outputs": [],
   "source": [
    "# # combine movie and tables\n",
    "# movie_actor = pd.merge(movies, actor, how='outer', on=\"actor\")"
   ]
  },
  {
   "cell_type": "code",
   "execution_count": 187,
   "metadata": {},
   "outputs": [],
   "source": [
    "# # Extract only movie_id and actor_id columns\n",
    "# movie_actor = movie_actor[['movie_id', 'actor_id']]\n",
    "# movie_actor"
   ]
  },
  {
   "cell_type": "code",
   "execution_count": 188,
   "metadata": {},
   "outputs": [],
   "source": [
    "# # Save to csv\n",
    "# movie_actor.to_csv('csv_files/movie_actor.csv')"
   ]
  },
  {
   "cell_type": "markdown",
   "metadata": {},
   "source": [
    "### Create director_movie table"
   ]
  },
  {
   "cell_type": "code",
   "execution_count": 189,
   "metadata": {},
   "outputs": [],
   "source": [
    "# # Save star_actor data into a separate table\n",
    "# director = movies['director'].unique()\n",
    "# len(director)"
   ]
  },
  {
   "cell_type": "code",
   "execution_count": 190,
   "metadata": {},
   "outputs": [],
   "source": [
    "# director[:5]"
   ]
  },
  {
   "cell_type": "code",
   "execution_count": 191,
   "metadata": {},
   "outputs": [],
   "source": [
    "# director = pd.DataFrame({'director': director})\n",
    "# director.head(2)"
   ]
  },
  {
   "cell_type": "code",
   "execution_count": 192,
   "metadata": {},
   "outputs": [],
   "source": [
    "# director.index += 1\n",
    "# director"
   ]
  },
  {
   "cell_type": "code",
   "execution_count": 193,
   "metadata": {},
   "outputs": [],
   "source": [
    "# director = director.reset_index()\n",
    "# director.head(2)"
   ]
  },
  {
   "cell_type": "code",
   "execution_count": 194,
   "metadata": {},
   "outputs": [],
   "source": [
    "# director = director.rename(columns={'index': 'director_id'})\n",
    "# director.head()"
   ]
  },
  {
   "cell_type": "code",
   "execution_count": 195,
   "metadata": {
    "scrolled": true
   },
   "outputs": [],
   "source": [
    "# len(director)"
   ]
  },
  {
   "cell_type": "markdown",
   "metadata": {},
   "source": [
    "### Merge movie and director df on actor column"
   ]
  },
  {
   "cell_type": "code",
   "execution_count": 196,
   "metadata": {},
   "outputs": [],
   "source": [
    "# # combine movie and tables\n",
    "# movie_director = pd.merge(movies, director, how='outer', on=\"director\")"
   ]
  },
  {
   "cell_type": "code",
   "execution_count": 197,
   "metadata": {
    "scrolled": true
   },
   "outputs": [],
   "source": [
    "# # Extract only movie_id and actor_id columns\n",
    "# movie_director = movie_director[['movie_id', 'director_id']]\n",
    "# movie_director"
   ]
  },
  {
   "cell_type": "code",
   "execution_count": 198,
   "metadata": {},
   "outputs": [],
   "source": [
    "# # Save to csv\n",
    "# movie_director.to_csv('csv_files/movie_director.csv')"
   ]
  },
  {
   "cell_type": "markdown",
   "metadata": {},
   "source": [
    "### Create company_movie table"
   ]
  },
  {
   "cell_type": "code",
   "execution_count": 199,
   "metadata": {},
   "outputs": [],
   "source": [
    "# # Save company_movie data into a separate table\n",
    "# company = movies['company'].unique()\n",
    "# len(company)"
   ]
  },
  {
   "cell_type": "code",
   "execution_count": 200,
   "metadata": {},
   "outputs": [],
   "source": [
    "# company[:5]"
   ]
  },
  {
   "cell_type": "code",
   "execution_count": 201,
   "metadata": {},
   "outputs": [],
   "source": [
    "# company = pd.DataFrame({'company': company})\n",
    "# company.head(2)"
   ]
  },
  {
   "cell_type": "code",
   "execution_count": 202,
   "metadata": {},
   "outputs": [],
   "source": [
    "# company.index += 1\n",
    "# company"
   ]
  },
  {
   "cell_type": "code",
   "execution_count": 203,
   "metadata": {},
   "outputs": [],
   "source": [
    "# company = company.reset_index()\n",
    "# company.head(2)"
   ]
  },
  {
   "cell_type": "code",
   "execution_count": 204,
   "metadata": {},
   "outputs": [],
   "source": [
    "# company = company.rename(columns={'index': 'company_id'})\n",
    "# company.head()"
   ]
  },
  {
   "cell_type": "code",
   "execution_count": 205,
   "metadata": {
    "scrolled": false
   },
   "outputs": [],
   "source": [
    "# len(company)"
   ]
  },
  {
   "cell_type": "markdown",
   "metadata": {},
   "source": [
    "### Merge movie and company df on actor column"
   ]
  },
  {
   "cell_type": "code",
   "execution_count": 206,
   "metadata": {},
   "outputs": [],
   "source": [
    "# # combine movie and tables\n",
    "# company_movie = pd.merge(movies, company, how='outer', on=\"company\")"
   ]
  },
  {
   "cell_type": "code",
   "execution_count": 207,
   "metadata": {
    "scrolled": true
   },
   "outputs": [],
   "source": [
    "# # Extract only movie_id and actor_id columns\n",
    "# company_movie = company_movie[['movie_id', 'company_id']]\n",
    "# company_movie"
   ]
  },
  {
   "cell_type": "code",
   "execution_count": 208,
   "metadata": {},
   "outputs": [],
   "source": [
    "# # Save to csv\n",
    "# company_movie.to_csv('csv_files/company_movie.csv')"
   ]
  },
  {
   "cell_type": "markdown",
   "metadata": {},
   "source": [
    "## Extract Writer data into a separate table"
   ]
  },
  {
   "cell_type": "code",
   "execution_count": 209,
   "metadata": {},
   "outputs": [],
   "source": [
    "# # Save writer data into a separate table\n",
    "# writer = movies['writer'].unique()\n",
    "# len(writer)"
   ]
  },
  {
   "cell_type": "code",
   "execution_count": 210,
   "metadata": {},
   "outputs": [],
   "source": [
    "# writer[:5]"
   ]
  },
  {
   "cell_type": "code",
   "execution_count": 211,
   "metadata": {},
   "outputs": [],
   "source": [
    "# writer = pd.DataFrame({'writer': writer})\n",
    "# writer.head(2)"
   ]
  },
  {
   "cell_type": "code",
   "execution_count": 212,
   "metadata": {},
   "outputs": [],
   "source": [
    "# writer.index += 1\n",
    "# writer"
   ]
  },
  {
   "cell_type": "code",
   "execution_count": 213,
   "metadata": {},
   "outputs": [],
   "source": [
    "# writer = writer.reset_index()\n",
    "# writer.head(2)"
   ]
  },
  {
   "cell_type": "code",
   "execution_count": 214,
   "metadata": {},
   "outputs": [],
   "source": [
    "# writer = writer.rename(columns={'index': 'writer_id'})\n",
    "# writer.head()"
   ]
  },
  {
   "cell_type": "code",
   "execution_count": 215,
   "metadata": {
    "scrolled": false
   },
   "outputs": [],
   "source": [
    "# len(writer)"
   ]
  },
  {
   "cell_type": "markdown",
   "metadata": {},
   "source": [
    "### Merge writer_id column to movies table"
   ]
  },
  {
   "cell_type": "code",
   "execution_count": 216,
   "metadata": {},
   "outputs": [],
   "source": [
    "# # combine movie and tables\n",
    "# movies = pd.merge(movies, writer, how='outer', on=\"writer\")"
   ]
  },
  {
   "cell_type": "code",
   "execution_count": 217,
   "metadata": {
    "scrolled": true
   },
   "outputs": [],
   "source": [
    "# movies.head()"
   ]
  },
  {
   "cell_type": "markdown",
   "metadata": {},
   "source": [
    "## Extract Genre data into a separate table"
   ]
  },
  {
   "cell_type": "code",
   "execution_count": 218,
   "metadata": {},
   "outputs": [],
   "source": [
    "# # Save genre data into a separate table\n",
    "# genre = movies['genre'].unique()\n",
    "# len(genre)"
   ]
  },
  {
   "cell_type": "code",
   "execution_count": 219,
   "metadata": {},
   "outputs": [],
   "source": [
    "# genre[:5]"
   ]
  },
  {
   "cell_type": "code",
   "execution_count": 220,
   "metadata": {},
   "outputs": [],
   "source": [
    "# genre = pd.DataFrame({'genre': genre})\n",
    "# genre.head(2)"
   ]
  },
  {
   "cell_type": "code",
   "execution_count": 221,
   "metadata": {},
   "outputs": [],
   "source": [
    "# genre.index += 1\n",
    "# genre"
   ]
  },
  {
   "cell_type": "code",
   "execution_count": 222,
   "metadata": {},
   "outputs": [],
   "source": [
    "# genre = genre.reset_index()\n",
    "# genre.head(2)"
   ]
  },
  {
   "cell_type": "code",
   "execution_count": 223,
   "metadata": {},
   "outputs": [],
   "source": [
    "# genre = genre.rename(columns={'index': 'genre_id'})\n",
    "# genre.head()"
   ]
  },
  {
   "cell_type": "code",
   "execution_count": 224,
   "metadata": {
    "scrolled": false
   },
   "outputs": [],
   "source": [
    "# len(genre)"
   ]
  },
  {
   "cell_type": "markdown",
   "metadata": {},
   "source": [
    "### Merge genre_id column to movies table"
   ]
  },
  {
   "cell_type": "code",
   "execution_count": 225,
   "metadata": {},
   "outputs": [],
   "source": [
    "# # combine movies and genre\n",
    "# movies = pd.merge(movies, genre, how='outer', on=\"genre\")"
   ]
  },
  {
   "cell_type": "code",
   "execution_count": 226,
   "metadata": {
    "scrolled": true
   },
   "outputs": [],
   "source": [
    "# movies.head()"
   ]
  },
  {
   "cell_type": "code",
   "execution_count": 227,
   "metadata": {},
   "outputs": [],
   "source": [
    "# movies.to_csv('csv_files/movies_genre_ids.csv')"
   ]
  },
  {
   "cell_type": "markdown",
   "metadata": {},
   "source": [
    "## Extract rating data into a separate table"
   ]
  },
  {
   "cell_type": "code",
   "execution_count": 228,
   "metadata": {},
   "outputs": [],
   "source": [
    "# # Save rating data into a separate table\n",
    "# rating = movies['rating'].unique()\n",
    "# len(rating)"
   ]
  },
  {
   "cell_type": "code",
   "execution_count": 229,
   "metadata": {},
   "outputs": [],
   "source": [
    "# rating[:5]"
   ]
  },
  {
   "cell_type": "code",
   "execution_count": 230,
   "metadata": {},
   "outputs": [],
   "source": [
    "# rating = pd.DataFrame({'rating': rating})\n",
    "# rating.head(2)"
   ]
  },
  {
   "cell_type": "code",
   "execution_count": 231,
   "metadata": {},
   "outputs": [],
   "source": [
    "# rating.index += 1"
   ]
  },
  {
   "cell_type": "code",
   "execution_count": 232,
   "metadata": {},
   "outputs": [],
   "source": [
    "# rating = rating.reset_index()\n",
    "# rating.head(2)"
   ]
  },
  {
   "cell_type": "code",
   "execution_count": 233,
   "metadata": {},
   "outputs": [],
   "source": [
    "# rating = rating.rename(columns={'index': 'rating_id'})\n",
    "# rating.head()"
   ]
  },
  {
   "cell_type": "code",
   "execution_count": 234,
   "metadata": {
    "scrolled": false
   },
   "outputs": [],
   "source": [
    "# len(rating)"
   ]
  },
  {
   "cell_type": "code",
   "execution_count": null,
   "metadata": {},
   "outputs": [],
   "source": []
  },
  {
   "cell_type": "markdown",
   "metadata": {},
   "source": [
    "### Merge rating_id column to movies table"
   ]
  },
  {
   "cell_type": "code",
   "execution_count": 235,
   "metadata": {},
   "outputs": [],
   "source": [
    "# # combine movies and rating\n",
    "# movies = pd.merge(movies, rating, how='outer', on=\"rating\")"
   ]
  },
  {
   "cell_type": "code",
   "execution_count": 236,
   "metadata": {
    "scrolled": true
   },
   "outputs": [],
   "source": [
    "# movies.head()"
   ]
  },
  {
   "cell_type": "code",
   "execution_count": 237,
   "metadata": {},
   "outputs": [],
   "source": [
    "# movies.to_csv('csv_files/movies_rating_ids.csv')"
   ]
  },
  {
   "cell_type": "code",
   "execution_count": null,
   "metadata": {},
   "outputs": [],
   "source": []
  },
  {
   "cell_type": "markdown",
   "metadata": {},
   "source": [
    "# Remove unnecessary columns from movies"
   ]
  },
  {
   "cell_type": "code",
   "execution_count": 238,
   "metadata": {},
   "outputs": [],
   "source": [
    "# movies.head(2)"
   ]
  },
  {
   "cell_type": "code",
   "execution_count": 239,
   "metadata": {},
   "outputs": [],
   "source": [
    "# movies = movies[['movie_id','country','genre_id','writer_id','rating_id','name','year','domestic_revenue_usd',\n",
    "#                  'international_revenue_usd', 'total_revenue_usd']]"
   ]
  },
  {
   "cell_type": "code",
   "execution_count": 240,
   "metadata": {
    "scrolled": true
   },
   "outputs": [],
   "source": [
    "# movies.head()"
   ]
  },
  {
   "cell_type": "code",
   "execution_count": null,
   "metadata": {},
   "outputs": [],
   "source": []
  },
  {
   "cell_type": "markdown",
   "metadata": {},
   "source": [
    "## Push table to PostgreSQL"
   ]
  },
  {
   "cell_type": "markdown",
   "metadata": {},
   "source": [
    "### !!! Please import QuickDBD-export.sql in the repo root folder file in pgAdmin\n",
    "### !!! Run SQL file to generate the tables and reference links\n",
    "### UNCOMMENT cell below to run the rest of the code"
   ]
  },
  {
   "cell_type": "code",
   "execution_count": 241,
   "metadata": {},
   "outputs": [],
   "source": [
    "# Connect to the local database\n",
    "connection_string = f'{username}:{password}@localhost:5432/hurricanes_db'\n",
    "engine = create_engine(f'postgresql://{connection_string}')"
   ]
  },
  {
   "cell_type": "code",
   "execution_count": 139,
   "metadata": {},
   "outputs": [],
   "source": [
    "# genre.to_sql(name='genre', con=engine, if_exists='append', index=False)"
   ]
  },
  {
   "cell_type": "code",
   "execution_count": 140,
   "metadata": {},
   "outputs": [],
   "source": [
    "# writer.to_sql(name='writer', con=engine, if_exists='append', index=False)"
   ]
  },
  {
   "cell_type": "code",
   "execution_count": 141,
   "metadata": {},
   "outputs": [],
   "source": [
    "# director.to_sql(name='director', con=engine, if_exists='append', index=False)"
   ]
  },
  {
   "cell_type": "code",
   "execution_count": 142,
   "metadata": {},
   "outputs": [],
   "source": [
    "# rating.to_sql(name='rating', con=engine, if_exists='append', index=False)"
   ]
  },
  {
   "cell_type": "code",
   "execution_count": 143,
   "metadata": {},
   "outputs": [],
   "source": [
    "# company.to_sql(name='company', con=engine, if_exists='append', index=False)"
   ]
  },
  {
   "cell_type": "code",
   "execution_count": 144,
   "metadata": {},
   "outputs": [],
   "source": [
    "# actor.to_sql(name='actor', con=engine, if_exists='append', index=False)"
   ]
  },
  {
   "cell_type": "code",
   "execution_count": 145,
   "metadata": {},
   "outputs": [],
   "source": [
    "# movies.to_sql(name='movies', con=engine, if_exists='append', index=False)"
   ]
  },
  {
   "cell_type": "code",
   "execution_count": 146,
   "metadata": {},
   "outputs": [],
   "source": [
    "# company_movie.to_sql(name='company_movie', con=engine, if_exists='append', index=False)"
   ]
  },
  {
   "cell_type": "code",
   "execution_count": 147,
   "metadata": {},
   "outputs": [],
   "source": [
    "# movie_actor.to_sql(name='movie_actor', con=engine, if_exists='append', index=False)"
   ]
  },
  {
   "cell_type": "code",
   "execution_count": 244,
   "metadata": {},
   "outputs": [
    {
     "data": {
      "text/html": [
       "<div>\n",
       "<style scoped>\n",
       "    .dataframe tbody tr th:only-of-type {\n",
       "        vertical-align: middle;\n",
       "    }\n",
       "\n",
       "    .dataframe tbody tr th {\n",
       "        vertical-align: top;\n",
       "    }\n",
       "\n",
       "    .dataframe thead th {\n",
       "        text-align: right;\n",
       "    }\n",
       "</style>\n",
       "<table border=\"1\" class=\"dataframe\">\n",
       "  <thead>\n",
       "    <tr style=\"text-align: right;\">\n",
       "      <th></th>\n",
       "      <th>name</th>\n",
       "      <th>norm_damage_usd</th>\n",
       "      <th>year</th>\n",
       "      <th>category</th>\n",
       "      <th>states</th>\n",
       "      <th>damage_usd_int</th>\n",
       "    </tr>\n",
       "  </thead>\n",
       "  <tbody>\n",
       "    <tr>\n",
       "      <th>0</th>\n",
       "      <td>Katrina</td>\n",
       "      <td>116.9</td>\n",
       "      <td>2005</td>\n",
       "      <td>Category 5 hurricane</td>\n",
       "      <td>Louisiana Mississippi The Bahamas United State...</td>\n",
       "      <td>125.0</td>\n",
       "    </tr>\n",
       "    <tr>\n",
       "      <th>1</th>\n",
       "      <td>Harvey</td>\n",
       "      <td>62.2</td>\n",
       "      <td>2017</td>\n",
       "      <td>Category 4 hurricane</td>\n",
       "      <td>Texas Louisiana South America Central America ...</td>\n",
       "      <td>125.0</td>\n",
       "    </tr>\n",
       "    <tr>\n",
       "      <th>2</th>\n",
       "      <td>Maria</td>\n",
       "      <td>NaN</td>\n",
       "      <td>2017</td>\n",
       "      <td>Category 5 hurricane</td>\n",
       "      <td>Puerto Rico Lesser Antilles Greater Antilles C...</td>\n",
       "      <td>90.0</td>\n",
       "    </tr>\n",
       "    <tr>\n",
       "      <th>3</th>\n",
       "      <td>Irma</td>\n",
       "      <td>31.0</td>\n",
       "      <td>2017</td>\n",
       "      <td>Category 5 hurricane</td>\n",
       "      <td>Lesser Antilles Greater Antilles Caribbean Sea...</td>\n",
       "      <td>77.2</td>\n",
       "    </tr>\n",
       "    <tr>\n",
       "      <th>4</th>\n",
       "      <td>Sandy</td>\n",
       "      <td>73.5</td>\n",
       "      <td>2012</td>\n",
       "      <td>Category 3 hurricane</td>\n",
       "      <td>The Caribbean United States East Coast Eastern...</td>\n",
       "      <td>68.7</td>\n",
       "    </tr>\n",
       "  </tbody>\n",
       "</table>\n",
       "</div>"
      ],
      "text/plain": [
       "      name norm_damage_usd  year              category  \\\n",
       "0  Katrina           116.9  2005  Category 5 hurricane   \n",
       "1   Harvey            62.2  2017  Category 4 hurricane   \n",
       "2    Maria             NaN  2017  Category 5 hurricane   \n",
       "3     Irma            31.0  2017  Category 5 hurricane   \n",
       "4    Sandy            73.5  2012  Category 3 hurricane   \n",
       "\n",
       "                                              states damage_usd_int  \n",
       "0  Louisiana Mississippi The Bahamas United State...          125.0  \n",
       "1  Texas Louisiana South America Central America ...          125.0  \n",
       "2  Puerto Rico Lesser Antilles Greater Antilles C...           90.0  \n",
       "3  Lesser Antilles Greater Antilles Caribbean Sea...           77.2  \n",
       "4  The Caribbean United States East Coast Eastern...           68.7  "
      ]
     },
     "execution_count": 244,
     "metadata": {},
     "output_type": "execute_result"
    }
   ],
   "source": [
    "most_costly_hurricanes.head()"
   ]
  },
  {
   "cell_type": "code",
   "execution_count": 242,
   "metadata": {},
   "outputs": [],
   "source": [
    "most_costly_hurricanes[\"norm_damage_usd\"] = most_costly_hurricanes[\"norm_damage_usd\"].str.replace('$','')"
   ]
  },
  {
   "cell_type": "code",
   "execution_count": 245,
   "metadata": {},
   "outputs": [],
   "source": [
    "most_costly_hurricanes[\"damage_usd_int\"] = most_costly_hurricanes[\"damage_usd_int\"].str.replace('<','')"
   ]
  },
  {
   "cell_type": "code",
   "execution_count": 246,
   "metadata": {},
   "outputs": [],
   "source": [
    "most_costly_hurricanes[\"damage_usd_int\"] = most_costly_hurricanes[\"damage_usd_int\"].str.replace('>','')"
   ]
  },
  {
   "cell_type": "code",
   "execution_count": 247,
   "metadata": {},
   "outputs": [],
   "source": [
    "most_costly_hurricanes[\"damage_usd_int\"] = most_costly_hurricanes[\"damage_usd_int\"].str.replace('$','')"
   ]
  },
  {
   "cell_type": "code",
   "execution_count": 252,
   "metadata": {},
   "outputs": [],
   "source": [
    "most_costly_hurricanes[\"norm_damage_usd\"] = most_costly_hurricanes[\"norm_damage_usd\"].str.replace('<','')"
   ]
  },
  {
   "cell_type": "code",
   "execution_count": 253,
   "metadata": {},
   "outputs": [
    {
     "data": {
      "text/html": [
       "<div>\n",
       "<style scoped>\n",
       "    .dataframe tbody tr th:only-of-type {\n",
       "        vertical-align: middle;\n",
       "    }\n",
       "\n",
       "    .dataframe tbody tr th {\n",
       "        vertical-align: top;\n",
       "    }\n",
       "\n",
       "    .dataframe thead th {\n",
       "        text-align: right;\n",
       "    }\n",
       "</style>\n",
       "<table border=\"1\" class=\"dataframe\">\n",
       "  <thead>\n",
       "    <tr style=\"text-align: right;\">\n",
       "      <th></th>\n",
       "      <th>name</th>\n",
       "      <th>norm_damage_usd</th>\n",
       "      <th>year</th>\n",
       "      <th>category</th>\n",
       "      <th>states</th>\n",
       "      <th>damage_usd_int</th>\n",
       "    </tr>\n",
       "  </thead>\n",
       "  <tbody>\n",
       "    <tr>\n",
       "      <th>0</th>\n",
       "      <td>Katrina</td>\n",
       "      <td>116.9</td>\n",
       "      <td>2005</td>\n",
       "      <td>Category 5 hurricane</td>\n",
       "      <td>Louisiana Mississippi The Bahamas United State...</td>\n",
       "      <td>125.0</td>\n",
       "    </tr>\n",
       "    <tr>\n",
       "      <th>1</th>\n",
       "      <td>Harvey</td>\n",
       "      <td>62.2</td>\n",
       "      <td>2017</td>\n",
       "      <td>Category 4 hurricane</td>\n",
       "      <td>Texas Louisiana South America Central America ...</td>\n",
       "      <td>125.0</td>\n",
       "    </tr>\n",
       "    <tr>\n",
       "      <th>2</th>\n",
       "      <td>Maria</td>\n",
       "      <td>NaN</td>\n",
       "      <td>2017</td>\n",
       "      <td>Category 5 hurricane</td>\n",
       "      <td>Puerto Rico Lesser Antilles Greater Antilles C...</td>\n",
       "      <td>90.0</td>\n",
       "    </tr>\n",
       "    <tr>\n",
       "      <th>3</th>\n",
       "      <td>Irma</td>\n",
       "      <td>31.0</td>\n",
       "      <td>2017</td>\n",
       "      <td>Category 5 hurricane</td>\n",
       "      <td>Lesser Antilles Greater Antilles Caribbean Sea...</td>\n",
       "      <td>77.2</td>\n",
       "    </tr>\n",
       "    <tr>\n",
       "      <th>4</th>\n",
       "      <td>Sandy</td>\n",
       "      <td>73.5</td>\n",
       "      <td>2012</td>\n",
       "      <td>Category 3 hurricane</td>\n",
       "      <td>The Caribbean United States East Coast Eastern...</td>\n",
       "      <td>68.7</td>\n",
       "    </tr>\n",
       "  </tbody>\n",
       "</table>\n",
       "</div>"
      ],
      "text/plain": [
       "      name norm_damage_usd  year              category  \\\n",
       "0  Katrina           116.9  2005  Category 5 hurricane   \n",
       "1   Harvey            62.2  2017  Category 4 hurricane   \n",
       "2    Maria             NaN  2017  Category 5 hurricane   \n",
       "3     Irma            31.0  2017  Category 5 hurricane   \n",
       "4    Sandy            73.5  2012  Category 3 hurricane   \n",
       "\n",
       "                                              states damage_usd_int  \n",
       "0  Louisiana Mississippi The Bahamas United State...          125.0  \n",
       "1  Texas Louisiana South America Central America ...          125.0  \n",
       "2  Puerto Rico Lesser Antilles Greater Antilles C...           90.0  \n",
       "3  Lesser Antilles Greater Antilles Caribbean Sea...           77.2  \n",
       "4  The Caribbean United States East Coast Eastern...           68.7  "
      ]
     },
     "execution_count": 253,
     "metadata": {},
     "output_type": "execute_result"
    }
   ],
   "source": [
    "most_costly_hurricanes.head()"
   ]
  },
  {
   "cell_type": "code",
   "execution_count": 254,
   "metadata": {},
   "outputs": [],
   "source": [
    "most_costly_hurricanes['norm_damage_usd'] = most_costly_hurricanes['norm_damage_usd'].astype(float)"
   ]
  },
  {
   "cell_type": "code",
   "execution_count": 255,
   "metadata": {},
   "outputs": [],
   "source": [
    "most_costly_hurricanes['damage_usd_int'] = most_costly_hurricanes['damage_usd_int'].astype(float)"
   ]
  },
  {
   "cell_type": "code",
   "execution_count": 256,
   "metadata": {},
   "outputs": [],
   "source": [
    "most_costly_hurricanes['damage_usd_int'] = most_costly_hurricanes['damage_usd_int'].dropna()"
   ]
  },
  {
   "cell_type": "code",
   "execution_count": 257,
   "metadata": {},
   "outputs": [],
   "source": [
    "most_costly_hurricanes['norm_damage_usd'] = most_costly_hurricanes['norm_damage_usd'].dropna()"
   ]
  },
  {
   "cell_type": "code",
   "execution_count": 258,
   "metadata": {},
   "outputs": [
    {
     "data": {
      "text/plain": [
       "61"
      ]
     },
     "execution_count": 258,
     "metadata": {},
     "output_type": "execute_result"
    }
   ],
   "source": [
    "len(most_costly_hurricanes)"
   ]
  },
  {
   "cell_type": "code",
   "execution_count": 259,
   "metadata": {},
   "outputs": [
    {
     "data": {
      "text/html": [
       "<div>\n",
       "<style scoped>\n",
       "    .dataframe tbody tr th:only-of-type {\n",
       "        vertical-align: middle;\n",
       "    }\n",
       "\n",
       "    .dataframe tbody tr th {\n",
       "        vertical-align: top;\n",
       "    }\n",
       "\n",
       "    .dataframe thead th {\n",
       "        text-align: right;\n",
       "    }\n",
       "</style>\n",
       "<table border=\"1\" class=\"dataframe\">\n",
       "  <thead>\n",
       "    <tr style=\"text-align: right;\">\n",
       "      <th></th>\n",
       "      <th>name</th>\n",
       "      <th>norm_damage_usd</th>\n",
       "      <th>year</th>\n",
       "      <th>category</th>\n",
       "      <th>states</th>\n",
       "      <th>damage_usd_int</th>\n",
       "    </tr>\n",
       "  </thead>\n",
       "  <tbody>\n",
       "    <tr>\n",
       "      <th>0</th>\n",
       "      <td>Katrina</td>\n",
       "      <td>116.9</td>\n",
       "      <td>2005</td>\n",
       "      <td>Category 5 hurricane</td>\n",
       "      <td>Louisiana Mississippi The Bahamas United State...</td>\n",
       "      <td>125.00</td>\n",
       "    </tr>\n",
       "    <tr>\n",
       "      <th>1</th>\n",
       "      <td>Harvey</td>\n",
       "      <td>62.2</td>\n",
       "      <td>2017</td>\n",
       "      <td>Category 4 hurricane</td>\n",
       "      <td>Texas Louisiana South America Central America ...</td>\n",
       "      <td>125.00</td>\n",
       "    </tr>\n",
       "    <tr>\n",
       "      <th>2</th>\n",
       "      <td>Maria</td>\n",
       "      <td>NaN</td>\n",
       "      <td>2017</td>\n",
       "      <td>Category 5 hurricane</td>\n",
       "      <td>Puerto Rico Lesser Antilles Greater Antilles C...</td>\n",
       "      <td>90.00</td>\n",
       "    </tr>\n",
       "    <tr>\n",
       "      <th>3</th>\n",
       "      <td>Irma</td>\n",
       "      <td>31.0</td>\n",
       "      <td>2017</td>\n",
       "      <td>Category 5 hurricane</td>\n",
       "      <td>Lesser Antilles Greater Antilles Caribbean Sea...</td>\n",
       "      <td>77.20</td>\n",
       "    </tr>\n",
       "    <tr>\n",
       "      <th>4</th>\n",
       "      <td>Sandy</td>\n",
       "      <td>73.5</td>\n",
       "      <td>2012</td>\n",
       "      <td>Category 3 hurricane</td>\n",
       "      <td>The Caribbean United States East Coast Eastern...</td>\n",
       "      <td>68.70</td>\n",
       "    </tr>\n",
       "    <tr>\n",
       "      <th>...</th>\n",
       "      <td>...</td>\n",
       "      <td>...</td>\n",
       "      <td>...</td>\n",
       "      <td>...</td>\n",
       "      <td>...</td>\n",
       "      <td>...</td>\n",
       "    </tr>\n",
       "    <tr>\n",
       "      <th>56</th>\n",
       "      <td>Isidore</td>\n",
       "      <td>6.0</td>\n",
       "      <td>2002</td>\n",
       "      <td>Category 3 hurricane</td>\n",
       "      <td>Cuba Yucatán Peninsula Louisiana</td>\n",
       "      <td>1.28</td>\n",
       "    </tr>\n",
       "    <tr>\n",
       "      <th>57</th>\n",
       "      <td>Lili</td>\n",
       "      <td>6.0</td>\n",
       "      <td>2002</td>\n",
       "      <td>Category 4 hurricane</td>\n",
       "      <td>Lesser Antilles Greater Antilles Gulf Coast of...</td>\n",
       "      <td>1.16</td>\n",
       "    </tr>\n",
       "    <tr>\n",
       "      <th>58</th>\n",
       "      <td>Alberto</td>\n",
       "      <td>6.0</td>\n",
       "      <td>1994</td>\n",
       "      <td>Tropical storm</td>\n",
       "      <td>Southeastern United States</td>\n",
       "      <td>1.03</td>\n",
       "    </tr>\n",
       "    <tr>\n",
       "      <th>59</th>\n",
       "      <td>Emily</td>\n",
       "      <td>6.0</td>\n",
       "      <td>2005</td>\n",
       "      <td>Category 5 hurricane</td>\n",
       "      <td>The Caribbean Honduras Belize Mexico Texas</td>\n",
       "      <td>1.01</td>\n",
       "    </tr>\n",
       "    <tr>\n",
       "      <th>60</th>\n",
       "      <td>Bonnie</td>\n",
       "      <td>6.0</td>\n",
       "      <td>1998</td>\n",
       "      <td>Category 3 hurricane</td>\n",
       "      <td>Lesser Antilles East Coast of the United States</td>\n",
       "      <td>1.00</td>\n",
       "    </tr>\n",
       "  </tbody>\n",
       "</table>\n",
       "<p>61 rows × 6 columns</p>\n",
       "</div>"
      ],
      "text/plain": [
       "       name  norm_damage_usd  year              category  \\\n",
       "0   Katrina            116.9  2005  Category 5 hurricane   \n",
       "1    Harvey             62.2  2017  Category 4 hurricane   \n",
       "2     Maria              NaN  2017  Category 5 hurricane   \n",
       "3      Irma             31.0  2017  Category 5 hurricane   \n",
       "4     Sandy             73.5  2012  Category 3 hurricane   \n",
       "..      ...              ...   ...                   ...   \n",
       "56  Isidore              6.0  2002  Category 3 hurricane   \n",
       "57     Lili              6.0  2002  Category 4 hurricane   \n",
       "58  Alberto              6.0  1994        Tropical storm   \n",
       "59    Emily              6.0  2005  Category 5 hurricane   \n",
       "60   Bonnie              6.0  1998  Category 3 hurricane   \n",
       "\n",
       "                                               states  damage_usd_int  \n",
       "0   Louisiana Mississippi The Bahamas United State...          125.00  \n",
       "1   Texas Louisiana South America Central America ...          125.00  \n",
       "2   Puerto Rico Lesser Antilles Greater Antilles C...           90.00  \n",
       "3   Lesser Antilles Greater Antilles Caribbean Sea...           77.20  \n",
       "4   The Caribbean United States East Coast Eastern...           68.70  \n",
       "..                                                ...             ...  \n",
       "56                   Cuba Yucatán Peninsula Louisiana            1.28  \n",
       "57  Lesser Antilles Greater Antilles Gulf Coast of...            1.16  \n",
       "58                         Southeastern United States            1.03  \n",
       "59         The Caribbean Honduras Belize Mexico Texas            1.01  \n",
       "60    Lesser Antilles East Coast of the United States            1.00  \n",
       "\n",
       "[61 rows x 6 columns]"
      ]
     },
     "execution_count": 259,
     "metadata": {},
     "output_type": "execute_result"
    }
   ],
   "source": [
    "most_costly_hurricanes.head(100)"
   ]
  },
  {
   "cell_type": "code",
   "execution_count": 260,
   "metadata": {},
   "outputs": [],
   "source": [
    "cost_df = most_costly_hurricanes"
   ]
  },
  {
   "cell_type": "code",
   "execution_count": 261,
   "metadata": {},
   "outputs": [],
   "source": [
    "cost_df = cost_df.dropna()"
   ]
  },
  {
   "cell_type": "code",
   "execution_count": 262,
   "metadata": {},
   "outputs": [
    {
     "data": {
      "text/plain": [
       "54"
      ]
     },
     "execution_count": 262,
     "metadata": {},
     "output_type": "execute_result"
    }
   ],
   "source": [
    "len(cost_df)"
   ]
  },
  {
   "cell_type": "code",
   "execution_count": 268,
   "metadata": {},
   "outputs": [
    {
     "data": {
      "text/html": [
       "<div>\n",
       "<style scoped>\n",
       "    .dataframe tbody tr th:only-of-type {\n",
       "        vertical-align: middle;\n",
       "    }\n",
       "\n",
       "    .dataframe tbody tr th {\n",
       "        vertical-align: top;\n",
       "    }\n",
       "\n",
       "    .dataframe thead th {\n",
       "        text-align: right;\n",
       "    }\n",
       "</style>\n",
       "<table border=\"1\" class=\"dataframe\">\n",
       "  <thead>\n",
       "    <tr style=\"text-align: right;\">\n",
       "      <th></th>\n",
       "      <th>index</th>\n",
       "      <th>name</th>\n",
       "      <th>norm_damage_usd</th>\n",
       "      <th>year</th>\n",
       "      <th>category</th>\n",
       "      <th>states</th>\n",
       "      <th>damage_usd_int</th>\n",
       "    </tr>\n",
       "  </thead>\n",
       "  <tbody>\n",
       "    <tr>\n",
       "      <th>0</th>\n",
       "      <td>0</td>\n",
       "      <td>Katrina</td>\n",
       "      <td>116.9</td>\n",
       "      <td>2005</td>\n",
       "      <td>Category 5 hurricane</td>\n",
       "      <td>Louisiana Mississippi The Bahamas United State...</td>\n",
       "      <td>125.00</td>\n",
       "    </tr>\n",
       "    <tr>\n",
       "      <th>1</th>\n",
       "      <td>1</td>\n",
       "      <td>Harvey</td>\n",
       "      <td>62.2</td>\n",
       "      <td>2017</td>\n",
       "      <td>Category 4 hurricane</td>\n",
       "      <td>Texas Louisiana South America Central America ...</td>\n",
       "      <td>125.00</td>\n",
       "    </tr>\n",
       "    <tr>\n",
       "      <th>2</th>\n",
       "      <td>3</td>\n",
       "      <td>Irma</td>\n",
       "      <td>31.0</td>\n",
       "      <td>2017</td>\n",
       "      <td>Category 5 hurricane</td>\n",
       "      <td>Lesser Antilles Greater Antilles Caribbean Sea...</td>\n",
       "      <td>77.20</td>\n",
       "    </tr>\n",
       "    <tr>\n",
       "      <th>3</th>\n",
       "      <td>4</td>\n",
       "      <td>Sandy</td>\n",
       "      <td>73.5</td>\n",
       "      <td>2012</td>\n",
       "      <td>Category 3 hurricane</td>\n",
       "      <td>The Caribbean United States East Coast Eastern...</td>\n",
       "      <td>68.70</td>\n",
       "    </tr>\n",
       "    <tr>\n",
       "      <th>4</th>\n",
       "      <td>5</td>\n",
       "      <td>Ike</td>\n",
       "      <td>35.2</td>\n",
       "      <td>2008</td>\n",
       "      <td>Category 4 hurricane</td>\n",
       "      <td>Greater Antilles Texas Louisiana Midwestern Un...</td>\n",
       "      <td>38.00</td>\n",
       "    </tr>\n",
       "    <tr>\n",
       "      <th>5</th>\n",
       "      <td>6</td>\n",
       "      <td>Wilma</td>\n",
       "      <td>31.9</td>\n",
       "      <td>2005</td>\n",
       "      <td>Category 5 hurricane</td>\n",
       "      <td>Greater Antilles Central America Florida</td>\n",
       "      <td>27.40</td>\n",
       "    </tr>\n",
       "    <tr>\n",
       "      <th>6</th>\n",
       "      <td>7</td>\n",
       "      <td>Andrew</td>\n",
       "      <td>106.0</td>\n",
       "      <td>1992</td>\n",
       "      <td>Category 5 hurricane</td>\n",
       "      <td>The Bahamas Florida Louisiana</td>\n",
       "      <td>27.30</td>\n",
       "    </tr>\n",
       "    <tr>\n",
       "      <th>7</th>\n",
       "      <td>8</td>\n",
       "      <td>Ivan</td>\n",
       "      <td>25.9</td>\n",
       "      <td>2004</td>\n",
       "      <td>Category 5 hurricane</td>\n",
       "      <td>The Caribbean Venezuela United States Gulf Coast</td>\n",
       "      <td>26.10</td>\n",
       "    </tr>\n",
       "    <tr>\n",
       "      <th>8</th>\n",
       "      <td>11</td>\n",
       "      <td>Rita</td>\n",
       "      <td>14.9</td>\n",
       "      <td>2005</td>\n",
       "      <td>Category 5 hurricane</td>\n",
       "      <td>Cuba Texas Louisiana</td>\n",
       "      <td>18.50</td>\n",
       "    </tr>\n",
       "    <tr>\n",
       "      <th>9</th>\n",
       "      <td>12</td>\n",
       "      <td>Charley</td>\n",
       "      <td>26.9</td>\n",
       "      <td>2004</td>\n",
       "      <td>Category 4 hurricane</td>\n",
       "      <td>Jamaica Cayman Islands Cuba Florida The Carolinas</td>\n",
       "      <td>16.90</td>\n",
       "    </tr>\n",
       "    <tr>\n",
       "      <th>10</th>\n",
       "      <td>13</td>\n",
       "      <td>Matthew</td>\n",
       "      <td>8.6</td>\n",
       "      <td>2016</td>\n",
       "      <td>Category 5 hurricane</td>\n",
       "      <td>Colombia Venezuela The Caribbean United States...</td>\n",
       "      <td>16.50</td>\n",
       "    </tr>\n",
       "    <tr>\n",
       "      <th>11</th>\n",
       "      <td>14</td>\n",
       "      <td>Irene</td>\n",
       "      <td>10.8</td>\n",
       "      <td>2011</td>\n",
       "      <td>Category 3 hurricane</td>\n",
       "      <td>The Caribbean United States East Coast Eastern...</td>\n",
       "      <td>14.20</td>\n",
       "    </tr>\n",
       "    <tr>\n",
       "      <th>12</th>\n",
       "      <td>15</td>\n",
       "      <td>Georges</td>\n",
       "      <td>6.0</td>\n",
       "      <td>1998</td>\n",
       "      <td>Category 4 hurricane</td>\n",
       "      <td>The Caribbean United States Gulf Coast</td>\n",
       "      <td>13.90</td>\n",
       "    </tr>\n",
       "    <tr>\n",
       "      <th>13</th>\n",
       "      <td>16</td>\n",
       "      <td>Frances</td>\n",
       "      <td>16.5</td>\n",
       "      <td>2004</td>\n",
       "      <td>Category 4 hurricane</td>\n",
       "      <td>The Caribbean Eastern United States Ontario</td>\n",
       "      <td>10.10</td>\n",
       "    </tr>\n",
       "    <tr>\n",
       "      <th>14</th>\n",
       "      <td>17</td>\n",
       "      <td>Hugo</td>\n",
       "      <td>25.1</td>\n",
       "      <td>1989</td>\n",
       "      <td>Category 5 hurricane</td>\n",
       "      <td>The Caribbean United States East Coast</td>\n",
       "      <td>9.47</td>\n",
       "    </tr>\n",
       "    <tr>\n",
       "      <th>15</th>\n",
       "      <td>19</td>\n",
       "      <td>Allison</td>\n",
       "      <td>6.0</td>\n",
       "      <td>2001</td>\n",
       "      <td>Tropical storm</td>\n",
       "      <td>Texas Louisiana Southern United States</td>\n",
       "      <td>8.50</td>\n",
       "    </tr>\n",
       "    <tr>\n",
       "      <th>16</th>\n",
       "      <td>20</td>\n",
       "      <td>Gustav</td>\n",
       "      <td>6.0</td>\n",
       "      <td>2008</td>\n",
       "      <td>Category 4 hurricane</td>\n",
       "      <td>Hispaniola Jamaica Cuba Louisiana</td>\n",
       "      <td>8.31</td>\n",
       "    </tr>\n",
       "    <tr>\n",
       "      <th>17</th>\n",
       "      <td>21</td>\n",
       "      <td>Jeanne</td>\n",
       "      <td>13.6</td>\n",
       "      <td>2004</td>\n",
       "      <td>Category 3 hurricane</td>\n",
       "      <td>The Caribbean Eastern United States</td>\n",
       "      <td>7.94</td>\n",
       "    </tr>\n",
       "    <tr>\n",
       "      <th>18</th>\n",
       "      <td>22</td>\n",
       "      <td>Floyd</td>\n",
       "      <td>13.9</td>\n",
       "      <td>1999</td>\n",
       "      <td>Category 4 hurricane</td>\n",
       "      <td>The Bahamas Eastern United States Atlantic Canada</td>\n",
       "      <td>6.50</td>\n",
       "    </tr>\n",
       "    <tr>\n",
       "      <th>19</th>\n",
       "      <td>23</td>\n",
       "      <td>Mitch</td>\n",
       "      <td>6.0</td>\n",
       "      <td>1998</td>\n",
       "      <td>Category 5 hurricane</td>\n",
       "      <td>Central America Yucatán Peninsula South Florida</td>\n",
       "      <td>6.08</td>\n",
       "    </tr>\n",
       "    <tr>\n",
       "      <th>20</th>\n",
       "      <td>24</td>\n",
       "      <td>Isabel</td>\n",
       "      <td>6.0</td>\n",
       "      <td>2003</td>\n",
       "      <td>Category 5 hurricane</td>\n",
       "      <td>Greater Antilles The Bahamas Eastern United St...</td>\n",
       "      <td>5.50</td>\n",
       "    </tr>\n",
       "    <tr>\n",
       "      <th>21</th>\n",
       "      <td>27</td>\n",
       "      <td>Fran</td>\n",
       "      <td>11.1</td>\n",
       "      <td>1996</td>\n",
       "      <td>Category 3 hurricane</td>\n",
       "      <td>Eastern United States Ontario</td>\n",
       "      <td>5.00</td>\n",
       "    </tr>\n",
       "    <tr>\n",
       "      <th>22</th>\n",
       "      <td>28</td>\n",
       "      <td>Opal</td>\n",
       "      <td>10.0</td>\n",
       "      <td>1995</td>\n",
       "      <td>Category 4 hurricane</td>\n",
       "      <td>Guatemala Yucatán Peninsula Eastern United States</td>\n",
       "      <td>4.70</td>\n",
       "    </tr>\n",
       "    <tr>\n",
       "      <th>23</th>\n",
       "      <td>30</td>\n",
       "      <td>Stan</td>\n",
       "      <td>6.0</td>\n",
       "      <td>2005</td>\n",
       "      <td>Category 1 hurricane</td>\n",
       "      <td>Mexico Central America</td>\n",
       "      <td>3.96</td>\n",
       "    </tr>\n",
       "    <tr>\n",
       "      <th>24</th>\n",
       "      <td>31</td>\n",
       "      <td>Karl</td>\n",
       "      <td>6.0</td>\n",
       "      <td>2010</td>\n",
       "      <td>Category 3 hurricane</td>\n",
       "      <td>Mexico Central America</td>\n",
       "      <td>3.90</td>\n",
       "    </tr>\n",
       "    <tr>\n",
       "      <th>25</th>\n",
       "      <td>32</td>\n",
       "      <td>Dennis</td>\n",
       "      <td>6.0</td>\n",
       "      <td>2005</td>\n",
       "      <td>Category 4 hurricane</td>\n",
       "      <td>Greater Antilles Southeastern United States</td>\n",
       "      <td>3.98</td>\n",
       "    </tr>\n",
       "    <tr>\n",
       "      <th>26</th>\n",
       "      <td>33</td>\n",
       "      <td>Isaac</td>\n",
       "      <td>6.0</td>\n",
       "      <td>2012</td>\n",
       "      <td>Category 1 hurricane</td>\n",
       "      <td>The Caribbean Eastern United States</td>\n",
       "      <td>3.11</td>\n",
       "    </tr>\n",
       "    <tr>\n",
       "      <th>27</th>\n",
       "      <td>34</td>\n",
       "      <td>Alicia</td>\n",
       "      <td>13.6</td>\n",
       "      <td>1983</td>\n",
       "      <td>Category 3 hurricane</td>\n",
       "      <td>East Texas Louisiana</td>\n",
       "      <td>3.00</td>\n",
       "    </tr>\n",
       "    <tr>\n",
       "      <th>28</th>\n",
       "      <td>35</td>\n",
       "      <td>Gilbert</td>\n",
       "      <td>6.0</td>\n",
       "      <td>1988</td>\n",
       "      <td>Category 5 hurricane</td>\n",
       "      <td>Venezuela Central America Hispaniola Mexico</td>\n",
       "      <td>2.98</td>\n",
       "    </tr>\n",
       "    <tr>\n",
       "      <th>29</th>\n",
       "      <td>36</td>\n",
       "      <td>Luis</td>\n",
       "      <td>6.0</td>\n",
       "      <td>1995</td>\n",
       "      <td>Category 4 hurricane</td>\n",
       "      <td>Leeward Islands Puerto Rico Bermuda</td>\n",
       "      <td>2.97</td>\n",
       "    </tr>\n",
       "    <tr>\n",
       "      <th>30</th>\n",
       "      <td>37</td>\n",
       "      <td>Lee</td>\n",
       "      <td>6.0</td>\n",
       "      <td>2011</td>\n",
       "      <td>Tropical storm</td>\n",
       "      <td>Louisiana Mississippi</td>\n",
       "      <td>2.80</td>\n",
       "    </tr>\n",
       "    <tr>\n",
       "      <th>31</th>\n",
       "      <td>38</td>\n",
       "      <td>Michelle</td>\n",
       "      <td>6.0</td>\n",
       "      <td>2001</td>\n",
       "      <td>Category 4 hurricane</td>\n",
       "      <td>Central America Jamaica Cuba The Bahamas</td>\n",
       "      <td>2.35</td>\n",
       "    </tr>\n",
       "    <tr>\n",
       "      <th>32</th>\n",
       "      <td>39</td>\n",
       "      <td>Marilyn</td>\n",
       "      <td>6.0</td>\n",
       "      <td>1995</td>\n",
       "      <td>Category 3 hurricane</td>\n",
       "      <td>The Caribbean Bermuda</td>\n",
       "      <td>2.10</td>\n",
       "    </tr>\n",
       "    <tr>\n",
       "      <th>33</th>\n",
       "      <td>40</td>\n",
       "      <td>Agnes</td>\n",
       "      <td>26.0</td>\n",
       "      <td>1972</td>\n",
       "      <td>Category 1 hurricane</td>\n",
       "      <td>Mexico Cuba Eastern United States</td>\n",
       "      <td>2.10</td>\n",
       "    </tr>\n",
       "    <tr>\n",
       "      <th>34</th>\n",
       "      <td>41</td>\n",
       "      <td>Dean</td>\n",
       "      <td>6.0</td>\n",
       "      <td>2007</td>\n",
       "      <td>Category 5 hurricane</td>\n",
       "      <td>The Caribbean Central America</td>\n",
       "      <td>1.95</td>\n",
       "    </tr>\n",
       "    <tr>\n",
       "      <th>35</th>\n",
       "      <td>42</td>\n",
       "      <td>Joan</td>\n",
       "      <td>6.0</td>\n",
       "      <td>1988</td>\n",
       "      <td>Category 4 hurricane</td>\n",
       "      <td>Lesser Antilles Colombia Venezuela Central Ame...</td>\n",
       "      <td>1.87</td>\n",
       "    </tr>\n",
       "    <tr>\n",
       "      <th>36</th>\n",
       "      <td>43</td>\n",
       "      <td>Fifi</td>\n",
       "      <td>6.0</td>\n",
       "      <td>1974</td>\n",
       "      <td>Category 2 hurricane</td>\n",
       "      <td>Jamaica Central America Mexico</td>\n",
       "      <td>1.80</td>\n",
       "    </tr>\n",
       "    <tr>\n",
       "      <th>37</th>\n",
       "      <td>44</td>\n",
       "      <td>Frederic</td>\n",
       "      <td>6.0</td>\n",
       "      <td>1979</td>\n",
       "      <td>Category 4 hurricane</td>\n",
       "      <td>The Caribbean Southeastern United States</td>\n",
       "      <td>1.77</td>\n",
       "    </tr>\n",
       "    <tr>\n",
       "      <th>38</th>\n",
       "      <td>45</td>\n",
       "      <td>Dolly</td>\n",
       "      <td>6.0</td>\n",
       "      <td>2008</td>\n",
       "      <td>Category 2 hurricane</td>\n",
       "      <td>Cayman Islands Mexico Southwestern United States</td>\n",
       "      <td>1.60</td>\n",
       "    </tr>\n",
       "    <tr>\n",
       "      <th>39</th>\n",
       "      <td>46</td>\n",
       "      <td>Allen</td>\n",
       "      <td>6.0</td>\n",
       "      <td>1980</td>\n",
       "      <td>Category 5 hurricane</td>\n",
       "      <td>The Caribbean Yucatán Peninsula Mexico South T...</td>\n",
       "      <td>1.57</td>\n",
       "    </tr>\n",
       "    <tr>\n",
       "      <th>40</th>\n",
       "      <td>47</td>\n",
       "      <td>David</td>\n",
       "      <td>6.0</td>\n",
       "      <td>1979</td>\n",
       "      <td>Category 5 hurricane</td>\n",
       "      <td>The Caribbean United States East Coast</td>\n",
       "      <td>1.54</td>\n",
       "    </tr>\n",
       "    <tr>\n",
       "      <th>41</th>\n",
       "      <td>48</td>\n",
       "      <td>Alex</td>\n",
       "      <td>6.0</td>\n",
       "      <td>2010</td>\n",
       "      <td>Category 2 hurricane</td>\n",
       "      <td>Central America Greater Antilles Texas</td>\n",
       "      <td>1.52</td>\n",
       "    </tr>\n",
       "    <tr>\n",
       "      <th>42</th>\n",
       "      <td>49</td>\n",
       "      <td>Juan</td>\n",
       "      <td>6.0</td>\n",
       "      <td>1985</td>\n",
       "      <td>Category 1 hurricane</td>\n",
       "      <td>United States Gulf Coast</td>\n",
       "      <td>1.50</td>\n",
       "    </tr>\n",
       "    <tr>\n",
       "      <th>43</th>\n",
       "      <td>50</td>\n",
       "      <td>Bob</td>\n",
       "      <td>6.0</td>\n",
       "      <td>1991</td>\n",
       "      <td>Category 3 hurricane</td>\n",
       "      <td>United States East Coast Canada</td>\n",
       "      <td>1.50</td>\n",
       "    </tr>\n",
       "    <tr>\n",
       "      <th>44</th>\n",
       "      <td>51</td>\n",
       "      <td>Roxanne</td>\n",
       "      <td>6.0</td>\n",
       "      <td>1995</td>\n",
       "      <td>Category 3 hurricane</td>\n",
       "      <td>Mexico</td>\n",
       "      <td>1.50</td>\n",
       "    </tr>\n",
       "    <tr>\n",
       "      <th>45</th>\n",
       "      <td>52</td>\n",
       "      <td>Ingrid</td>\n",
       "      <td>6.0</td>\n",
       "      <td>2013</td>\n",
       "      <td>Category 1 hurricane</td>\n",
       "      <td>Mexico</td>\n",
       "      <td>1.50</td>\n",
       "    </tr>\n",
       "    <tr>\n",
       "      <th>46</th>\n",
       "      <td>53</td>\n",
       "      <td>Betsy</td>\n",
       "      <td>6.0</td>\n",
       "      <td>1965</td>\n",
       "      <td>Category 4 hurricane</td>\n",
       "      <td>Louisiana South Florida Caribbean</td>\n",
       "      <td>1.42</td>\n",
       "    </tr>\n",
       "    <tr>\n",
       "      <th>47</th>\n",
       "      <td>54</td>\n",
       "      <td>Camille</td>\n",
       "      <td>26.4</td>\n",
       "      <td>1969</td>\n",
       "      <td>Category 5 hurricane</td>\n",
       "      <td>Mississippi Louisiana Alabama Virginia Cuba</td>\n",
       "      <td>1.42</td>\n",
       "    </tr>\n",
       "    <tr>\n",
       "      <th>48</th>\n",
       "      <td>55</td>\n",
       "      <td>Elena</td>\n",
       "      <td>6.0</td>\n",
       "      <td>1985</td>\n",
       "      <td>Category 3 hurricane</td>\n",
       "      <td>Cuba United States Gulf Coast</td>\n",
       "      <td>1.30</td>\n",
       "    </tr>\n",
       "    <tr>\n",
       "      <th>49</th>\n",
       "      <td>56</td>\n",
       "      <td>Isidore</td>\n",
       "      <td>6.0</td>\n",
       "      <td>2002</td>\n",
       "      <td>Category 3 hurricane</td>\n",
       "      <td>Cuba Yucatán Peninsula Louisiana</td>\n",
       "      <td>1.28</td>\n",
       "    </tr>\n",
       "    <tr>\n",
       "      <th>50</th>\n",
       "      <td>57</td>\n",
       "      <td>Lili</td>\n",
       "      <td>6.0</td>\n",
       "      <td>2002</td>\n",
       "      <td>Category 4 hurricane</td>\n",
       "      <td>Lesser Antilles Greater Antilles Gulf Coast of...</td>\n",
       "      <td>1.16</td>\n",
       "    </tr>\n",
       "    <tr>\n",
       "      <th>51</th>\n",
       "      <td>58</td>\n",
       "      <td>Alberto</td>\n",
       "      <td>6.0</td>\n",
       "      <td>1994</td>\n",
       "      <td>Tropical storm</td>\n",
       "      <td>Southeastern United States</td>\n",
       "      <td>1.03</td>\n",
       "    </tr>\n",
       "    <tr>\n",
       "      <th>52</th>\n",
       "      <td>59</td>\n",
       "      <td>Emily</td>\n",
       "      <td>6.0</td>\n",
       "      <td>2005</td>\n",
       "      <td>Category 5 hurricane</td>\n",
       "      <td>The Caribbean Honduras Belize Mexico Texas</td>\n",
       "      <td>1.01</td>\n",
       "    </tr>\n",
       "    <tr>\n",
       "      <th>53</th>\n",
       "      <td>60</td>\n",
       "      <td>Bonnie</td>\n",
       "      <td>6.0</td>\n",
       "      <td>1998</td>\n",
       "      <td>Category 3 hurricane</td>\n",
       "      <td>Lesser Antilles East Coast of the United States</td>\n",
       "      <td>1.00</td>\n",
       "    </tr>\n",
       "  </tbody>\n",
       "</table>\n",
       "</div>"
      ],
      "text/plain": [
       "    index      name  norm_damage_usd  year              category  \\\n",
       "0       0   Katrina            116.9  2005  Category 5 hurricane   \n",
       "1       1    Harvey             62.2  2017  Category 4 hurricane   \n",
       "2       3      Irma             31.0  2017  Category 5 hurricane   \n",
       "3       4     Sandy             73.5  2012  Category 3 hurricane   \n",
       "4       5       Ike             35.2  2008  Category 4 hurricane   \n",
       "5       6     Wilma             31.9  2005  Category 5 hurricane   \n",
       "6       7    Andrew            106.0  1992  Category 5 hurricane   \n",
       "7       8      Ivan             25.9  2004  Category 5 hurricane   \n",
       "8      11      Rita             14.9  2005  Category 5 hurricane   \n",
       "9      12   Charley             26.9  2004  Category 4 hurricane   \n",
       "10     13   Matthew              8.6  2016  Category 5 hurricane   \n",
       "11     14     Irene             10.8  2011  Category 3 hurricane   \n",
       "12     15   Georges              6.0  1998  Category 4 hurricane   \n",
       "13     16   Frances             16.5  2004  Category 4 hurricane   \n",
       "14     17      Hugo             25.1  1989  Category 5 hurricane   \n",
       "15     19   Allison              6.0  2001        Tropical storm   \n",
       "16     20    Gustav              6.0  2008  Category 4 hurricane   \n",
       "17     21    Jeanne             13.6  2004  Category 3 hurricane   \n",
       "18     22     Floyd             13.9  1999  Category 4 hurricane   \n",
       "19     23     Mitch              6.0  1998  Category 5 hurricane   \n",
       "20     24    Isabel              6.0  2003  Category 5 hurricane   \n",
       "21     27      Fran             11.1  1996  Category 3 hurricane   \n",
       "22     28      Opal             10.0  1995  Category 4 hurricane   \n",
       "23     30      Stan              6.0  2005  Category 1 hurricane   \n",
       "24     31      Karl              6.0  2010  Category 3 hurricane   \n",
       "25     32    Dennis              6.0  2005  Category 4 hurricane   \n",
       "26     33     Isaac              6.0  2012  Category 1 hurricane   \n",
       "27     34    Alicia             13.6  1983  Category 3 hurricane   \n",
       "28     35   Gilbert              6.0  1988  Category 5 hurricane   \n",
       "29     36      Luis              6.0  1995  Category 4 hurricane   \n",
       "30     37       Lee              6.0  2011        Tropical storm   \n",
       "31     38  Michelle              6.0  2001  Category 4 hurricane   \n",
       "32     39   Marilyn              6.0  1995  Category 3 hurricane   \n",
       "33     40     Agnes             26.0  1972  Category 1 hurricane   \n",
       "34     41      Dean              6.0  2007  Category 5 hurricane   \n",
       "35     42      Joan              6.0  1988  Category 4 hurricane   \n",
       "36     43      Fifi              6.0  1974  Category 2 hurricane   \n",
       "37     44  Frederic              6.0  1979  Category 4 hurricane   \n",
       "38     45     Dolly              6.0  2008  Category 2 hurricane   \n",
       "39     46     Allen              6.0  1980  Category 5 hurricane   \n",
       "40     47     David              6.0  1979  Category 5 hurricane   \n",
       "41     48      Alex              6.0  2010  Category 2 hurricane   \n",
       "42     49      Juan              6.0  1985  Category 1 hurricane   \n",
       "43     50       Bob              6.0  1991  Category 3 hurricane   \n",
       "44     51   Roxanne              6.0  1995  Category 3 hurricane   \n",
       "45     52    Ingrid              6.0  2013  Category 1 hurricane   \n",
       "46     53     Betsy              6.0  1965  Category 4 hurricane   \n",
       "47     54   Camille             26.4  1969  Category 5 hurricane   \n",
       "48     55     Elena              6.0  1985  Category 3 hurricane   \n",
       "49     56   Isidore              6.0  2002  Category 3 hurricane   \n",
       "50     57      Lili              6.0  2002  Category 4 hurricane   \n",
       "51     58   Alberto              6.0  1994        Tropical storm   \n",
       "52     59     Emily              6.0  2005  Category 5 hurricane   \n",
       "53     60    Bonnie              6.0  1998  Category 3 hurricane   \n",
       "\n",
       "                                               states  damage_usd_int  \n",
       "0   Louisiana Mississippi The Bahamas United State...          125.00  \n",
       "1   Texas Louisiana South America Central America ...          125.00  \n",
       "2   Lesser Antilles Greater Antilles Caribbean Sea...           77.20  \n",
       "3   The Caribbean United States East Coast Eastern...           68.70  \n",
       "4   Greater Antilles Texas Louisiana Midwestern Un...           38.00  \n",
       "5            Greater Antilles Central America Florida           27.40  \n",
       "6                       The Bahamas Florida Louisiana           27.30  \n",
       "7    The Caribbean Venezuela United States Gulf Coast           26.10  \n",
       "8                                Cuba Texas Louisiana           18.50  \n",
       "9   Jamaica Cayman Islands Cuba Florida The Carolinas           16.90  \n",
       "10  Colombia Venezuela The Caribbean United States...           16.50  \n",
       "11  The Caribbean United States East Coast Eastern...           14.20  \n",
       "12             The Caribbean United States Gulf Coast           13.90  \n",
       "13        The Caribbean Eastern United States Ontario           10.10  \n",
       "14             The Caribbean United States East Coast            9.47  \n",
       "15             Texas Louisiana Southern United States            8.50  \n",
       "16                  Hispaniola Jamaica Cuba Louisiana            8.31  \n",
       "17                The Caribbean Eastern United States            7.94  \n",
       "18  The Bahamas Eastern United States Atlantic Canada            6.50  \n",
       "19    Central America Yucatán Peninsula South Florida            6.08  \n",
       "20  Greater Antilles The Bahamas Eastern United St...            5.50  \n",
       "21                      Eastern United States Ontario            5.00  \n",
       "22  Guatemala Yucatán Peninsula Eastern United States            4.70  \n",
       "23                             Mexico Central America            3.96  \n",
       "24                             Mexico Central America            3.90  \n",
       "25        Greater Antilles Southeastern United States            3.98  \n",
       "26                The Caribbean Eastern United States            3.11  \n",
       "27                               East Texas Louisiana            3.00  \n",
       "28        Venezuela Central America Hispaniola Mexico            2.98  \n",
       "29                Leeward Islands Puerto Rico Bermuda            2.97  \n",
       "30                              Louisiana Mississippi            2.80  \n",
       "31           Central America Jamaica Cuba The Bahamas            2.35  \n",
       "32                              The Caribbean Bermuda            2.10  \n",
       "33                  Mexico Cuba Eastern United States            2.10  \n",
       "34                      The Caribbean Central America            1.95  \n",
       "35  Lesser Antilles Colombia Venezuela Central Ame...            1.87  \n",
       "36                     Jamaica Central America Mexico            1.80  \n",
       "37           The Caribbean Southeastern United States            1.77  \n",
       "38   Cayman Islands Mexico Southwestern United States            1.60  \n",
       "39  The Caribbean Yucatán Peninsula Mexico South T...            1.57  \n",
       "40             The Caribbean United States East Coast            1.54  \n",
       "41             Central America Greater Antilles Texas            1.52  \n",
       "42                           United States Gulf Coast            1.50  \n",
       "43                    United States East Coast Canada            1.50  \n",
       "44                                             Mexico            1.50  \n",
       "45                                             Mexico            1.50  \n",
       "46                  Louisiana South Florida Caribbean            1.42  \n",
       "47        Mississippi Louisiana Alabama Virginia Cuba            1.42  \n",
       "48                      Cuba United States Gulf Coast            1.30  \n",
       "49                   Cuba Yucatán Peninsula Louisiana            1.28  \n",
       "50  Lesser Antilles Greater Antilles Gulf Coast of...            1.16  \n",
       "51                         Southeastern United States            1.03  \n",
       "52         The Caribbean Honduras Belize Mexico Texas            1.01  \n",
       "53    Lesser Antilles East Coast of the United States            1.00  "
      ]
     },
     "execution_count": 268,
     "metadata": {},
     "output_type": "execute_result"
    }
   ],
   "source": [
    "cost_df.reset_index()"
   ]
  },
  {
   "cell_type": "code",
   "execution_count": 272,
   "metadata": {},
   "outputs": [
    {
     "data": {
      "text/html": [
       "<div>\n",
       "<style scoped>\n",
       "    .dataframe tbody tr th:only-of-type {\n",
       "        vertical-align: middle;\n",
       "    }\n",
       "\n",
       "    .dataframe tbody tr th {\n",
       "        vertical-align: top;\n",
       "    }\n",
       "\n",
       "    .dataframe thead th {\n",
       "        text-align: right;\n",
       "    }\n",
       "</style>\n",
       "<table border=\"1\" class=\"dataframe\">\n",
       "  <thead>\n",
       "    <tr style=\"text-align: right;\">\n",
       "      <th></th>\n",
       "      <th>name</th>\n",
       "      <th>norm_damage_usd</th>\n",
       "      <th>year</th>\n",
       "      <th>category</th>\n",
       "      <th>states</th>\n",
       "      <th>damage_usd_int</th>\n",
       "    </tr>\n",
       "  </thead>\n",
       "  <tbody>\n",
       "    <tr>\n",
       "      <th>0</th>\n",
       "      <td>Katrina</td>\n",
       "      <td>116.9</td>\n",
       "      <td>2005</td>\n",
       "      <td>Category 5 hurricane</td>\n",
       "      <td>Louisiana Mississippi The Bahamas United State...</td>\n",
       "      <td>125.0</td>\n",
       "    </tr>\n",
       "    <tr>\n",
       "      <th>1</th>\n",
       "      <td>Harvey</td>\n",
       "      <td>62.2</td>\n",
       "      <td>2017</td>\n",
       "      <td>Category 4 hurricane</td>\n",
       "      <td>Texas Louisiana South America Central America ...</td>\n",
       "      <td>125.0</td>\n",
       "    </tr>\n",
       "    <tr>\n",
       "      <th>2</th>\n",
       "      <td>Irma</td>\n",
       "      <td>31.0</td>\n",
       "      <td>2017</td>\n",
       "      <td>Category 5 hurricane</td>\n",
       "      <td>Lesser Antilles Greater Antilles Caribbean Sea...</td>\n",
       "      <td>77.2</td>\n",
       "    </tr>\n",
       "    <tr>\n",
       "      <th>3</th>\n",
       "      <td>Sandy</td>\n",
       "      <td>73.5</td>\n",
       "      <td>2012</td>\n",
       "      <td>Category 3 hurricane</td>\n",
       "      <td>The Caribbean United States East Coast Eastern...</td>\n",
       "      <td>68.7</td>\n",
       "    </tr>\n",
       "    <tr>\n",
       "      <th>4</th>\n",
       "      <td>Ike</td>\n",
       "      <td>35.2</td>\n",
       "      <td>2008</td>\n",
       "      <td>Category 4 hurricane</td>\n",
       "      <td>Greater Antilles Texas Louisiana Midwestern Un...</td>\n",
       "      <td>38.0</td>\n",
       "    </tr>\n",
       "  </tbody>\n",
       "</table>\n",
       "</div>"
      ],
      "text/plain": [
       "      name  norm_damage_usd  year              category  \\\n",
       "0  Katrina            116.9  2005  Category 5 hurricane   \n",
       "1   Harvey             62.2  2017  Category 4 hurricane   \n",
       "2     Irma             31.0  2017  Category 5 hurricane   \n",
       "3    Sandy             73.5  2012  Category 3 hurricane   \n",
       "4      Ike             35.2  2008  Category 4 hurricane   \n",
       "\n",
       "                                              states  damage_usd_int  \n",
       "0  Louisiana Mississippi The Bahamas United State...           125.0  \n",
       "1  Texas Louisiana South America Central America ...           125.0  \n",
       "2  Lesser Antilles Greater Antilles Caribbean Sea...            77.2  \n",
       "3  The Caribbean United States East Coast Eastern...            68.7  \n",
       "4  Greater Antilles Texas Louisiana Midwestern Un...            38.0  "
      ]
     },
     "execution_count": 272,
     "metadata": {},
     "output_type": "execute_result"
    }
   ],
   "source": [
    "# Reset index\n",
    "cost_df = cost_df.reset_index(drop=True)\n",
    "cost_df.head()"
   ]
  },
  {
   "cell_type": "code",
   "execution_count": 276,
   "metadata": {},
   "outputs": [],
   "source": [
    "cost_df.to_sql(name='Cost', con=engine, if_exists='append', index=False)"
   ]
  },
  {
   "cell_type": "code",
   "execution_count": 277,
   "metadata": {},
   "outputs": [
    {
     "name": "stdout",
     "output_type": "stream",
     "text": [
      "<class 'pandas.core.frame.DataFrame'>\n",
      "RangeIndex: 61 entries, 0 to 60\n",
      "Data columns (total 6 columns):\n",
      " #   Column           Non-Null Count  Dtype  \n",
      "---  ------           --------------  -----  \n",
      " 0   name             61 non-null     object \n",
      " 1   norm_damage_usd  54 non-null     float64\n",
      " 2   year             61 non-null     int64  \n",
      " 3   category         61 non-null     object \n",
      " 4   states           61 non-null     object \n",
      " 5   damage_usd_int   61 non-null     float64\n",
      "dtypes: float64(2), int64(1), object(3)\n",
      "memory usage: 3.0+ KB\n"
     ]
    }
   ],
   "source": [
    "most_costly_hurricanes.info()"
   ]
  },
  {
   "cell_type": "code",
   "execution_count": 275,
   "metadata": {},
   "outputs": [
    {
     "data": {
      "text/html": [
       "<div>\n",
       "<style scoped>\n",
       "    .dataframe tbody tr th:only-of-type {\n",
       "        vertical-align: middle;\n",
       "    }\n",
       "\n",
       "    .dataframe tbody tr th {\n",
       "        vertical-align: top;\n",
       "    }\n",
       "\n",
       "    .dataframe thead th {\n",
       "        text-align: right;\n",
       "    }\n",
       "</style>\n",
       "<table border=\"1\" class=\"dataframe\">\n",
       "  <thead>\n",
       "    <tr style=\"text-align: right;\">\n",
       "      <th></th>\n",
       "      <th>name</th>\n",
       "      <th>norm_damage_usd</th>\n",
       "      <th>year</th>\n",
       "      <th>category</th>\n",
       "      <th>states</th>\n",
       "      <th>damage_usd_int</th>\n",
       "    </tr>\n",
       "  </thead>\n",
       "  <tbody>\n",
       "    <tr>\n",
       "      <th>0</th>\n",
       "      <td>Katrina</td>\n",
       "      <td>116.9</td>\n",
       "      <td>2005</td>\n",
       "      <td>Category 5 hurricane</td>\n",
       "      <td>Louisiana Mississippi The Bahamas United State...</td>\n",
       "      <td>125.0</td>\n",
       "    </tr>\n",
       "    <tr>\n",
       "      <th>1</th>\n",
       "      <td>Harvey</td>\n",
       "      <td>62.2</td>\n",
       "      <td>2017</td>\n",
       "      <td>Category 4 hurricane</td>\n",
       "      <td>Texas Louisiana South America Central America ...</td>\n",
       "      <td>125.0</td>\n",
       "    </tr>\n",
       "    <tr>\n",
       "      <th>2</th>\n",
       "      <td>Maria</td>\n",
       "      <td>NaN</td>\n",
       "      <td>2017</td>\n",
       "      <td>Category 5 hurricane</td>\n",
       "      <td>Puerto Rico Lesser Antilles Greater Antilles C...</td>\n",
       "      <td>90.0</td>\n",
       "    </tr>\n",
       "    <tr>\n",
       "      <th>3</th>\n",
       "      <td>Irma</td>\n",
       "      <td>31.0</td>\n",
       "      <td>2017</td>\n",
       "      <td>Category 5 hurricane</td>\n",
       "      <td>Lesser Antilles Greater Antilles Caribbean Sea...</td>\n",
       "      <td>77.2</td>\n",
       "    </tr>\n",
       "    <tr>\n",
       "      <th>4</th>\n",
       "      <td>Sandy</td>\n",
       "      <td>73.5</td>\n",
       "      <td>2012</td>\n",
       "      <td>Category 3 hurricane</td>\n",
       "      <td>The Caribbean United States East Coast Eastern...</td>\n",
       "      <td>68.7</td>\n",
       "    </tr>\n",
       "  </tbody>\n",
       "</table>\n",
       "</div>"
      ],
      "text/plain": [
       "      name  norm_damage_usd  year              category  \\\n",
       "0  Katrina            116.9  2005  Category 5 hurricane   \n",
       "1   Harvey             62.2  2017  Category 4 hurricane   \n",
       "2    Maria              NaN  2017  Category 5 hurricane   \n",
       "3     Irma             31.0  2017  Category 5 hurricane   \n",
       "4    Sandy             73.5  2012  Category 3 hurricane   \n",
       "\n",
       "                                              states  damage_usd_int  \n",
       "0  Louisiana Mississippi The Bahamas United State...           125.0  \n",
       "1  Texas Louisiana South America Central America ...           125.0  \n",
       "2  Puerto Rico Lesser Antilles Greater Antilles C...            90.0  \n",
       "3  Lesser Antilles Greater Antilles Caribbean Sea...            77.2  \n",
       "4  The Caribbean United States East Coast Eastern...            68.7  "
      ]
     },
     "execution_count": 275,
     "metadata": {},
     "output_type": "execute_result"
    }
   ],
   "source": [
    "most_costly_hurricanes.head()"
   ]
  },
  {
   "cell_type": "code",
   "execution_count": null,
   "metadata": {},
   "outputs": [],
   "source": []
  }
 ],
 "metadata": {
  "kernelspec": {
   "display_name": "Python 3.8.2 64-bit ('PythonData': virtualenv)",
   "language": "python",
   "name": "python38264bitpythondatavirtualenva6ed9450beb7421c92e17db9f8dc29a3"
  },
  "language_info": {
   "codemirror_mode": {
    "name": "ipython",
    "version": 3
   },
   "file_extension": ".py",
   "mimetype": "text/x-python",
   "name": "python",
   "nbconvert_exporter": "python",
   "pygments_lexer": "ipython3",
   "version": "3.8.2"
  }
 },
 "nbformat": 4,
 "nbformat_minor": 4
}
