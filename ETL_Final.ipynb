{
 "cells": [
  {
   "cell_type": "code",
   "execution_count": 1,
   "metadata": {},
   "outputs": [],
   "source": [
    "# Import modules\n",
    "from bs4 import BeautifulSoup\n",
    "import requests\n",
    "from splinter import Browser\n",
    "from selenium import webdriver\n",
    "import pandas as pd\n",
    "import time\n",
    "from secret import username, password\n",
    "from sqlalchemy import create_engine\n",
    "import csv\n",
    "import numpy as np\n",
    "import html5lib"
   ]
  },
  {
   "cell_type": "markdown",
   "metadata": {},
   "source": [
    "### Mac (Irina) Connection"
   ]
  },
  {
   "cell_type": "code",
   "execution_count": 2,
   "metadata": {},
   "outputs": [
    {
     "name": "stdout",
     "output_type": "stream",
     "text": [
      "/usr/local/bin/chromedriver\r\n"
     ]
    }
   ],
   "source": [
    "# https://splinter.readthedocs.io/en/latest/drivers/chrome.html\n",
    "!which chromedriver"
   ]
  },
  {
   "cell_type": "code",
   "execution_count": 3,
   "metadata": {},
   "outputs": [],
   "source": [
    "# executable_path = {'executable_path': '/usr/local/bin/chromedriver'}\n",
    "# browser = Browser('chrome', **executable_path, headless=False)"
   ]
  },
  {
   "cell_type": "markdown",
   "metadata": {},
   "source": [
    "### Windows (Clay) Connection"
   ]
  },
  {
   "cell_type": "code",
   "execution_count": 4,
   "metadata": {},
   "outputs": [],
   "source": [
    "# executable_path = {'executable_path': 'C:/Users/Clay/chromedriver.exe'}\n",
    "# browser = Browser('chrome', **executable_path, headless=False)"
   ]
  },
  {
   "cell_type": "markdown",
   "metadata": {},
   "source": [
    "### Dataset 1 - Web Scrape Wikipedia Most Costliest hurricanes"
   ]
  },
  {
   "cell_type": "code",
   "execution_count": 5,
   "metadata": {},
   "outputs": [
    {
     "name": "stdout",
     "output_type": "stream",
     "text": [
      "Open web browser\n",
      "Read and save table\n"
     ]
    },
    {
     "data": {
      "text/html": [
       "<div>\n",
       "<style scoped>\n",
       "    .dataframe tbody tr th:only-of-type {\n",
       "        vertical-align: middle;\n",
       "    }\n",
       "\n",
       "    .dataframe tbody tr th {\n",
       "        vertical-align: top;\n",
       "    }\n",
       "\n",
       "    .dataframe thead th {\n",
       "        text-align: right;\n",
       "    }\n",
       "</style>\n",
       "<table border=\"1\" class=\"dataframe\">\n",
       "  <thead>\n",
       "    <tr style=\"text-align: right;\">\n",
       "      <th></th>\n",
       "      <th>Name</th>\n",
       "      <th>Nominal damage(Billions USD)</th>\n",
       "      <th>Normalized damage(Billions USD)</th>\n",
       "      <th>Season</th>\n",
       "      <th>Storm classificationat peak intensity</th>\n",
       "      <th>Areas affected</th>\n",
       "      <th>References</th>\n",
       "    </tr>\n",
       "  </thead>\n",
       "  <tbody>\n",
       "    <tr>\n",
       "      <th>0</th>\n",
       "      <td>Katrina</td>\n",
       "      <td>$125.0</td>\n",
       "      <td>$116.9</td>\n",
       "      <td>2005</td>\n",
       "      <td>Category 5 hurricane</td>\n",
       "      <td>Louisiana Mississippi The Bahamas United State...</td>\n",
       "      <td>[4][5]</td>\n",
       "    </tr>\n",
       "    <tr>\n",
       "      <th>1</th>\n",
       "      <td>Harvey</td>\n",
       "      <td>$125.0</td>\n",
       "      <td>$62.2</td>\n",
       "      <td>2017</td>\n",
       "      <td>Category 4 hurricane</td>\n",
       "      <td>Texas Louisiana South America Central America ...</td>\n",
       "      <td>[5][6]</td>\n",
       "    </tr>\n",
       "    <tr>\n",
       "      <th>2</th>\n",
       "      <td>Maria</td>\n",
       "      <td>$90.0</td>\n",
       "      <td>NaN</td>\n",
       "      <td>2017</td>\n",
       "      <td>Category 5 hurricane</td>\n",
       "      <td>Puerto Rico Lesser Antilles Greater Antilles C...</td>\n",
       "      <td>[7]</td>\n",
       "    </tr>\n",
       "    <tr>\n",
       "      <th>3</th>\n",
       "      <td>Irma</td>\n",
       "      <td>$77.2</td>\n",
       "      <td>$31.0</td>\n",
       "      <td>2017</td>\n",
       "      <td>Category 5 hurricane</td>\n",
       "      <td>Lesser Antilles Greater Antilles Caribbean Sea...</td>\n",
       "      <td>[5]</td>\n",
       "    </tr>\n",
       "    <tr>\n",
       "      <th>4</th>\n",
       "      <td>Sandy</td>\n",
       "      <td>$68.7</td>\n",
       "      <td>$73.5</td>\n",
       "      <td>2012</td>\n",
       "      <td>Category 3 hurricane</td>\n",
       "      <td>The Caribbean United States East Coast Eastern...</td>\n",
       "      <td>[5][8]</td>\n",
       "    </tr>\n",
       "  </tbody>\n",
       "</table>\n",
       "</div>"
      ],
      "text/plain": [
       "      Name Nominal damage(Billions USD) Normalized damage(Billions USD)  \\\n",
       "0  Katrina                       $125.0                          $116.9   \n",
       "1   Harvey                       $125.0                           $62.2   \n",
       "2    Maria                        $90.0                             NaN   \n",
       "3     Irma                        $77.2                           $31.0   \n",
       "4    Sandy                        $68.7                           $73.5   \n",
       "\n",
       "   Season Storm classificationat peak intensity  \\\n",
       "0    2005                  Category 5 hurricane   \n",
       "1    2017                  Category 4 hurricane   \n",
       "2    2017                  Category 5 hurricane   \n",
       "3    2017                  Category 5 hurricane   \n",
       "4    2012                  Category 3 hurricane   \n",
       "\n",
       "                                      Areas affected References  \n",
       "0  Louisiana Mississippi The Bahamas United State...     [4][5]  \n",
       "1  Texas Louisiana South America Central America ...     [5][6]  \n",
       "2  Puerto Rico Lesser Antilles Greater Antilles C...        [7]  \n",
       "3  Lesser Antilles Greater Antilles Caribbean Sea...        [5]  \n",
       "4  The Caribbean United States East Coast Eastern...     [5][8]  "
      ]
     },
     "execution_count": 5,
     "metadata": {},
     "output_type": "execute_result"
    }
   ],
   "source": [
    "url = 'https://en.wikipedia.org/wiki/List_of_costliest_Atlantic_hurricanes'\n",
    "executable_path = {'executable_path': '/usr/local/bin/chromedriver'}\n",
    "browser = Browser('chrome', **executable_path, headless=False)\n",
    "browser.visit(url)\n",
    "time.sleep(3)\n",
    "print(\"Open web browser\")\n",
    "tables = pd.read_html(url)\n",
    "most_costly_hurricanes = tables[0]\n",
    "print(\"Read and save table\")\n",
    "browser.quit()\n",
    "most_costly_hurricanes.head()"
   ]
  },
  {
   "cell_type": "code",
   "execution_count": 6,
   "metadata": {},
   "outputs": [],
   "source": [
    "# Create a copy of the df\n",
    "renamed_cost_df = most_costly_hurricanes"
   ]
  },
  {
   "cell_type": "code",
   "execution_count": 7,
   "metadata": {},
   "outputs": [],
   "source": [
    "# # Rename columns\n",
    "renamed_cost_df = renamed_cost_df.rename(columns={'Name': 'name','Nominal damage(Billions USD)': 'damage_usd', 'Normalized damage(Billions USD)': 'norm_damage_usd', \n",
    "                'Season': 'year', 'Storm classificationat peak intensity': 'category', 'Areas affected':'states'})"
   ]
  },
  {
   "cell_type": "code",
   "execution_count": 8,
   "metadata": {},
   "outputs": [],
   "source": [
    "# Drop Reference column\n",
    "renamed_cost_df = renamed_cost_df.drop(columns=['References','states'])"
   ]
  },
  {
   "cell_type": "code",
   "execution_count": 9,
   "metadata": {},
   "outputs": [
    {
     "data": {
      "text/html": [
       "<div>\n",
       "<style scoped>\n",
       "    .dataframe tbody tr th:only-of-type {\n",
       "        vertical-align: middle;\n",
       "    }\n",
       "\n",
       "    .dataframe tbody tr th {\n",
       "        vertical-align: top;\n",
       "    }\n",
       "\n",
       "    .dataframe thead th {\n",
       "        text-align: right;\n",
       "    }\n",
       "</style>\n",
       "<table border=\"1\" class=\"dataframe\">\n",
       "  <thead>\n",
       "    <tr style=\"text-align: right;\">\n",
       "      <th></th>\n",
       "      <th>name</th>\n",
       "      <th>damage_usd</th>\n",
       "      <th>norm_damage_usd</th>\n",
       "      <th>year</th>\n",
       "      <th>category</th>\n",
       "    </tr>\n",
       "  </thead>\n",
       "  <tbody>\n",
       "    <tr>\n",
       "      <th>0</th>\n",
       "      <td>Katrina</td>\n",
       "      <td>$125.0</td>\n",
       "      <td>$116.9</td>\n",
       "      <td>2005</td>\n",
       "      <td>Category 5 hurricane</td>\n",
       "    </tr>\n",
       "    <tr>\n",
       "      <th>1</th>\n",
       "      <td>Harvey</td>\n",
       "      <td>$125.0</td>\n",
       "      <td>$62.2</td>\n",
       "      <td>2017</td>\n",
       "      <td>Category 4 hurricane</td>\n",
       "    </tr>\n",
       "    <tr>\n",
       "      <th>2</th>\n",
       "      <td>Maria</td>\n",
       "      <td>$90.0</td>\n",
       "      <td>NaN</td>\n",
       "      <td>2017</td>\n",
       "      <td>Category 5 hurricane</td>\n",
       "    </tr>\n",
       "    <tr>\n",
       "      <th>3</th>\n",
       "      <td>Irma</td>\n",
       "      <td>$77.2</td>\n",
       "      <td>$31.0</td>\n",
       "      <td>2017</td>\n",
       "      <td>Category 5 hurricane</td>\n",
       "    </tr>\n",
       "    <tr>\n",
       "      <th>4</th>\n",
       "      <td>Sandy</td>\n",
       "      <td>$68.7</td>\n",
       "      <td>$73.5</td>\n",
       "      <td>2012</td>\n",
       "      <td>Category 3 hurricane</td>\n",
       "    </tr>\n",
       "  </tbody>\n",
       "</table>\n",
       "</div>"
      ],
      "text/plain": [
       "      name damage_usd norm_damage_usd  year              category\n",
       "0  Katrina     $125.0          $116.9  2005  Category 5 hurricane\n",
       "1   Harvey     $125.0           $62.2  2017  Category 4 hurricane\n",
       "2    Maria      $90.0             NaN  2017  Category 5 hurricane\n",
       "3     Irma      $77.2           $31.0  2017  Category 5 hurricane\n",
       "4    Sandy      $68.7           $73.5  2012  Category 3 hurricane"
      ]
     },
     "execution_count": 9,
     "metadata": {},
     "output_type": "execute_result"
    }
   ],
   "source": [
    "renamed_cost_df.head()"
   ]
  },
  {
   "cell_type": "code",
   "execution_count": 10,
   "metadata": {},
   "outputs": [],
   "source": [
    "# Save to the csv file\n",
    "renamed_cost_df.to_csv(\"Data/01_most_costly_hurricanes_wiki_web.csv\")"
   ]
  },
  {
   "cell_type": "code",
   "execution_count": 11,
   "metadata": {},
   "outputs": [],
   "source": [
    "# Read csv file into df\n",
    "renamed_cost_df = pd.read_csv('Data/01_most_costly_hurricanes_wiki_web.csv', index_col=[0])"
   ]
  },
  {
   "cell_type": "code",
   "execution_count": 12,
   "metadata": {},
   "outputs": [
    {
     "data": {
      "text/html": [
       "<div>\n",
       "<style scoped>\n",
       "    .dataframe tbody tr th:only-of-type {\n",
       "        vertical-align: middle;\n",
       "    }\n",
       "\n",
       "    .dataframe tbody tr th {\n",
       "        vertical-align: top;\n",
       "    }\n",
       "\n",
       "    .dataframe thead th {\n",
       "        text-align: right;\n",
       "    }\n",
       "</style>\n",
       "<table border=\"1\" class=\"dataframe\">\n",
       "  <thead>\n",
       "    <tr style=\"text-align: right;\">\n",
       "      <th></th>\n",
       "      <th>name</th>\n",
       "      <th>damage_usd</th>\n",
       "      <th>norm_damage_usd</th>\n",
       "      <th>year</th>\n",
       "      <th>category</th>\n",
       "    </tr>\n",
       "  </thead>\n",
       "  <tbody>\n",
       "    <tr>\n",
       "      <th>0</th>\n",
       "      <td>Katrina</td>\n",
       "      <td>$125.0</td>\n",
       "      <td>$116.9</td>\n",
       "      <td>2005</td>\n",
       "      <td>Category 5 hurricane</td>\n",
       "    </tr>\n",
       "    <tr>\n",
       "      <th>1</th>\n",
       "      <td>Harvey</td>\n",
       "      <td>$125.0</td>\n",
       "      <td>$62.2</td>\n",
       "      <td>2017</td>\n",
       "      <td>Category 4 hurricane</td>\n",
       "    </tr>\n",
       "    <tr>\n",
       "      <th>2</th>\n",
       "      <td>Maria</td>\n",
       "      <td>$90.0</td>\n",
       "      <td>NaN</td>\n",
       "      <td>2017</td>\n",
       "      <td>Category 5 hurricane</td>\n",
       "    </tr>\n",
       "    <tr>\n",
       "      <th>3</th>\n",
       "      <td>Irma</td>\n",
       "      <td>$77.2</td>\n",
       "      <td>$31.0</td>\n",
       "      <td>2017</td>\n",
       "      <td>Category 5 hurricane</td>\n",
       "    </tr>\n",
       "    <tr>\n",
       "      <th>4</th>\n",
       "      <td>Sandy</td>\n",
       "      <td>$68.7</td>\n",
       "      <td>$73.5</td>\n",
       "      <td>2012</td>\n",
       "      <td>Category 3 hurricane</td>\n",
       "    </tr>\n",
       "  </tbody>\n",
       "</table>\n",
       "</div>"
      ],
      "text/plain": [
       "      name damage_usd norm_damage_usd  year              category\n",
       "0  Katrina     $125.0          $116.9  2005  Category 5 hurricane\n",
       "1   Harvey     $125.0           $62.2  2017  Category 4 hurricane\n",
       "2    Maria      $90.0             NaN  2017  Category 5 hurricane\n",
       "3     Irma      $77.2           $31.0  2017  Category 5 hurricane\n",
       "4    Sandy      $68.7           $73.5  2012  Category 3 hurricane"
      ]
     },
     "execution_count": 12,
     "metadata": {},
     "output_type": "execute_result"
    }
   ],
   "source": [
    "renamed_cost_df.head()"
   ]
  },
  {
   "cell_type": "markdown",
   "metadata": {},
   "source": [
    "## Prepare Cost data"
   ]
  },
  {
   "cell_type": "code",
   "execution_count": 13,
   "metadata": {},
   "outputs": [],
   "source": [
    "cost_df = renamed_cost_df"
   ]
  },
  {
   "cell_type": "code",
   "execution_count": 14,
   "metadata": {},
   "outputs": [
    {
     "data": {
      "text/plain": [
       "54"
      ]
     },
     "execution_count": 14,
     "metadata": {},
     "output_type": "execute_result"
    }
   ],
   "source": [
    "cost_df[\"norm_damage_usd\"] = cost_df[\"norm_damage_usd\"].str.replace('$','')\n",
    "cost_df[\"norm_damage_usd\"] = cost_df[\"norm_damage_usd\"].str.replace('<','')\n",
    "cost_df[\"norm_damage_usd\"] = cost_df[\"norm_damage_usd\"].str.replace('>','')\n",
    "cost_df[\"damage_usd\"] = cost_df[\"damage_usd\"].str.replace('$','')\n",
    "cost_df[\"damage_usd\"] = cost_df[\"damage_usd\"].str.replace('<','')\n",
    "cost_df[\"damage_usd\"] = cost_df[\"damage_usd\"].str.replace('>','')\n",
    "cost_df['norm_damage_usd'] = cost_df['norm_damage_usd'].astype(float)\n",
    "cost_df['norm_damage_usd'] = cost_df['norm_damage_usd'].dropna()\n",
    "cost_df['damage_usd'] = cost_df['damage_usd'].astype(float)\n",
    "cost_df['damage_usd'] = cost_df['damage_usd'].dropna()\n",
    "cost_df = cost_df.dropna()\n",
    "len(cost_df) # 54 count"
   ]
  },
  {
   "cell_type": "markdown",
   "metadata": {},
   "source": [
    "### Add id column"
   ]
  },
  {
   "cell_type": "code",
   "execution_count": 15,
   "metadata": {},
   "outputs": [
    {
     "data": {
      "text/html": [
       "<div>\n",
       "<style scoped>\n",
       "    .dataframe tbody tr th:only-of-type {\n",
       "        vertical-align: middle;\n",
       "    }\n",
       "\n",
       "    .dataframe tbody tr th {\n",
       "        vertical-align: top;\n",
       "    }\n",
       "\n",
       "    .dataframe thead th {\n",
       "        text-align: right;\n",
       "    }\n",
       "</style>\n",
       "<table border=\"1\" class=\"dataframe\">\n",
       "  <thead>\n",
       "    <tr style=\"text-align: right;\">\n",
       "      <th></th>\n",
       "      <th>name</th>\n",
       "      <th>damage_usd</th>\n",
       "      <th>norm_damage_usd</th>\n",
       "      <th>year</th>\n",
       "      <th>category</th>\n",
       "    </tr>\n",
       "  </thead>\n",
       "  <tbody>\n",
       "    <tr>\n",
       "      <th>0</th>\n",
       "      <td>Katrina</td>\n",
       "      <td>125.0</td>\n",
       "      <td>116.9</td>\n",
       "      <td>2005</td>\n",
       "      <td>Category 5 hurricane</td>\n",
       "    </tr>\n",
       "    <tr>\n",
       "      <th>7</th>\n",
       "      <td>Andrew</td>\n",
       "      <td>27.3</td>\n",
       "      <td>106.0</td>\n",
       "      <td>1992</td>\n",
       "      <td>Category 5 hurricane</td>\n",
       "    </tr>\n",
       "    <tr>\n",
       "      <th>4</th>\n",
       "      <td>Sandy</td>\n",
       "      <td>68.7</td>\n",
       "      <td>73.5</td>\n",
       "      <td>2012</td>\n",
       "      <td>Category 3 hurricane</td>\n",
       "    </tr>\n",
       "    <tr>\n",
       "      <th>1</th>\n",
       "      <td>Harvey</td>\n",
       "      <td>125.0</td>\n",
       "      <td>62.2</td>\n",
       "      <td>2017</td>\n",
       "      <td>Category 4 hurricane</td>\n",
       "    </tr>\n",
       "    <tr>\n",
       "      <th>5</th>\n",
       "      <td>Ike</td>\n",
       "      <td>38.0</td>\n",
       "      <td>35.2</td>\n",
       "      <td>2008</td>\n",
       "      <td>Category 4 hurricane</td>\n",
       "    </tr>\n",
       "  </tbody>\n",
       "</table>\n",
       "</div>"
      ],
      "text/plain": [
       "      name  damage_usd  norm_damage_usd  year              category\n",
       "0  Katrina       125.0            116.9  2005  Category 5 hurricane\n",
       "7   Andrew        27.3            106.0  1992  Category 5 hurricane\n",
       "4    Sandy        68.7             73.5  2012  Category 3 hurricane\n",
       "1   Harvey       125.0             62.2  2017  Category 4 hurricane\n",
       "5      Ike        38.0             35.2  2008  Category 4 hurricane"
      ]
     },
     "execution_count": 15,
     "metadata": {},
     "output_type": "execute_result"
    }
   ],
   "source": [
    "# Sort table \n",
    "cost_df = cost_df.sort_values(by='norm_damage_usd', ascending=False)\n",
    "cost_df.head()"
   ]
  },
  {
   "cell_type": "code",
   "execution_count": 16,
   "metadata": {},
   "outputs": [
    {
     "data": {
      "text/html": [
       "<div>\n",
       "<style scoped>\n",
       "    .dataframe tbody tr th:only-of-type {\n",
       "        vertical-align: middle;\n",
       "    }\n",
       "\n",
       "    .dataframe tbody tr th {\n",
       "        vertical-align: top;\n",
       "    }\n",
       "\n",
       "    .dataframe thead th {\n",
       "        text-align: right;\n",
       "    }\n",
       "</style>\n",
       "<table border=\"1\" class=\"dataframe\">\n",
       "  <thead>\n",
       "    <tr style=\"text-align: right;\">\n",
       "      <th></th>\n",
       "      <th>name</th>\n",
       "      <th>damage_usd</th>\n",
       "      <th>norm_damage_usd</th>\n",
       "      <th>year</th>\n",
       "      <th>category</th>\n",
       "    </tr>\n",
       "  </thead>\n",
       "  <tbody>\n",
       "    <tr>\n",
       "      <th>0</th>\n",
       "      <td>Katrina</td>\n",
       "      <td>125.0</td>\n",
       "      <td>116.9</td>\n",
       "      <td>2005</td>\n",
       "      <td>Category 5 hurricane</td>\n",
       "    </tr>\n",
       "    <tr>\n",
       "      <th>1</th>\n",
       "      <td>Andrew</td>\n",
       "      <td>27.3</td>\n",
       "      <td>106.0</td>\n",
       "      <td>1992</td>\n",
       "      <td>Category 5 hurricane</td>\n",
       "    </tr>\n",
       "    <tr>\n",
       "      <th>2</th>\n",
       "      <td>Sandy</td>\n",
       "      <td>68.7</td>\n",
       "      <td>73.5</td>\n",
       "      <td>2012</td>\n",
       "      <td>Category 3 hurricane</td>\n",
       "    </tr>\n",
       "    <tr>\n",
       "      <th>3</th>\n",
       "      <td>Harvey</td>\n",
       "      <td>125.0</td>\n",
       "      <td>62.2</td>\n",
       "      <td>2017</td>\n",
       "      <td>Category 4 hurricane</td>\n",
       "    </tr>\n",
       "    <tr>\n",
       "      <th>4</th>\n",
       "      <td>Ike</td>\n",
       "      <td>38.0</td>\n",
       "      <td>35.2</td>\n",
       "      <td>2008</td>\n",
       "      <td>Category 4 hurricane</td>\n",
       "    </tr>\n",
       "  </tbody>\n",
       "</table>\n",
       "</div>"
      ],
      "text/plain": [
       "      name  damage_usd  norm_damage_usd  year              category\n",
       "0  Katrina       125.0            116.9  2005  Category 5 hurricane\n",
       "1   Andrew        27.3            106.0  1992  Category 5 hurricane\n",
       "2    Sandy        68.7             73.5  2012  Category 3 hurricane\n",
       "3   Harvey       125.0             62.2  2017  Category 4 hurricane\n",
       "4      Ike        38.0             35.2  2008  Category 4 hurricane"
      ]
     },
     "execution_count": 16,
     "metadata": {},
     "output_type": "execute_result"
    }
   ],
   "source": [
    "# Reset index\n",
    "cost_df = cost_df.reset_index(drop=True)\n",
    "cost_df.head()"
   ]
  },
  {
   "cell_type": "code",
   "execution_count": 17,
   "metadata": {},
   "outputs": [
    {
     "data": {
      "text/html": [
       "<div>\n",
       "<style scoped>\n",
       "    .dataframe tbody tr th:only-of-type {\n",
       "        vertical-align: middle;\n",
       "    }\n",
       "\n",
       "    .dataframe tbody tr th {\n",
       "        vertical-align: top;\n",
       "    }\n",
       "\n",
       "    .dataframe thead th {\n",
       "        text-align: right;\n",
       "    }\n",
       "</style>\n",
       "<table border=\"1\" class=\"dataframe\">\n",
       "  <thead>\n",
       "    <tr style=\"text-align: right;\">\n",
       "      <th></th>\n",
       "      <th>name</th>\n",
       "      <th>damage_usd</th>\n",
       "      <th>norm_damage_usd</th>\n",
       "      <th>year</th>\n",
       "      <th>category</th>\n",
       "    </tr>\n",
       "  </thead>\n",
       "  <tbody>\n",
       "    <tr>\n",
       "      <th>1</th>\n",
       "      <td>Katrina</td>\n",
       "      <td>125.0</td>\n",
       "      <td>116.9</td>\n",
       "      <td>2005</td>\n",
       "      <td>Category 5 hurricane</td>\n",
       "    </tr>\n",
       "    <tr>\n",
       "      <th>2</th>\n",
       "      <td>Andrew</td>\n",
       "      <td>27.3</td>\n",
       "      <td>106.0</td>\n",
       "      <td>1992</td>\n",
       "      <td>Category 5 hurricane</td>\n",
       "    </tr>\n",
       "  </tbody>\n",
       "</table>\n",
       "</div>"
      ],
      "text/plain": [
       "      name  damage_usd  norm_damage_usd  year              category\n",
       "1  Katrina       125.0            116.9  2005  Category 5 hurricane\n",
       "2   Andrew        27.3            106.0  1992  Category 5 hurricane"
      ]
     },
     "execution_count": 17,
     "metadata": {},
     "output_type": "execute_result"
    }
   ],
   "source": [
    "# Start index from 1\n",
    "cost_df.index += 1\n",
    "cost_df.head(2)"
   ]
  },
  {
   "cell_type": "code",
   "execution_count": 18,
   "metadata": {},
   "outputs": [
    {
     "data": {
      "text/html": [
       "<div>\n",
       "<style scoped>\n",
       "    .dataframe tbody tr th:only-of-type {\n",
       "        vertical-align: middle;\n",
       "    }\n",
       "\n",
       "    .dataframe tbody tr th {\n",
       "        vertical-align: top;\n",
       "    }\n",
       "\n",
       "    .dataframe thead th {\n",
       "        text-align: right;\n",
       "    }\n",
       "</style>\n",
       "<table border=\"1\" class=\"dataframe\">\n",
       "  <thead>\n",
       "    <tr style=\"text-align: right;\">\n",
       "      <th></th>\n",
       "      <th>index</th>\n",
       "      <th>name</th>\n",
       "      <th>damage_usd</th>\n",
       "      <th>norm_damage_usd</th>\n",
       "      <th>year</th>\n",
       "      <th>category</th>\n",
       "    </tr>\n",
       "  </thead>\n",
       "  <tbody>\n",
       "    <tr>\n",
       "      <th>0</th>\n",
       "      <td>1</td>\n",
       "      <td>Katrina</td>\n",
       "      <td>125.0</td>\n",
       "      <td>116.9</td>\n",
       "      <td>2005</td>\n",
       "      <td>Category 5 hurricane</td>\n",
       "    </tr>\n",
       "    <tr>\n",
       "      <th>1</th>\n",
       "      <td>2</td>\n",
       "      <td>Andrew</td>\n",
       "      <td>27.3</td>\n",
       "      <td>106.0</td>\n",
       "      <td>1992</td>\n",
       "      <td>Category 5 hurricane</td>\n",
       "    </tr>\n",
       "  </tbody>\n",
       "</table>\n",
       "</div>"
      ],
      "text/plain": [
       "   index     name  damage_usd  norm_damage_usd  year              category\n",
       "0      1  Katrina       125.0            116.9  2005  Category 5 hurricane\n",
       "1      2   Andrew        27.3            106.0  1992  Category 5 hurricane"
      ]
     },
     "execution_count": 18,
     "metadata": {},
     "output_type": "execute_result"
    }
   ],
   "source": [
    "cost_df = cost_df.reset_index()\n",
    "cost_df.head(2)"
   ]
  },
  {
   "cell_type": "code",
   "execution_count": 19,
   "metadata": {},
   "outputs": [
    {
     "data": {
      "text/html": [
       "<div>\n",
       "<style scoped>\n",
       "    .dataframe tbody tr th:only-of-type {\n",
       "        vertical-align: middle;\n",
       "    }\n",
       "\n",
       "    .dataframe tbody tr th {\n",
       "        vertical-align: top;\n",
       "    }\n",
       "\n",
       "    .dataframe thead th {\n",
       "        text-align: right;\n",
       "    }\n",
       "</style>\n",
       "<table border=\"1\" class=\"dataframe\">\n",
       "  <thead>\n",
       "    <tr style=\"text-align: right;\">\n",
       "      <th></th>\n",
       "      <th>hurricane_id</th>\n",
       "      <th>name</th>\n",
       "      <th>damage_usd</th>\n",
       "      <th>norm_damage_usd</th>\n",
       "      <th>year</th>\n",
       "      <th>category</th>\n",
       "    </tr>\n",
       "  </thead>\n",
       "  <tbody>\n",
       "    <tr>\n",
       "      <th>0</th>\n",
       "      <td>1</td>\n",
       "      <td>Katrina</td>\n",
       "      <td>125.0</td>\n",
       "      <td>116.9</td>\n",
       "      <td>2005</td>\n",
       "      <td>Category 5 hurricane</td>\n",
       "    </tr>\n",
       "    <tr>\n",
       "      <th>1</th>\n",
       "      <td>2</td>\n",
       "      <td>Andrew</td>\n",
       "      <td>27.3</td>\n",
       "      <td>106.0</td>\n",
       "      <td>1992</td>\n",
       "      <td>Category 5 hurricane</td>\n",
       "    </tr>\n",
       "    <tr>\n",
       "      <th>2</th>\n",
       "      <td>3</td>\n",
       "      <td>Sandy</td>\n",
       "      <td>68.7</td>\n",
       "      <td>73.5</td>\n",
       "      <td>2012</td>\n",
       "      <td>Category 3 hurricane</td>\n",
       "    </tr>\n",
       "    <tr>\n",
       "      <th>3</th>\n",
       "      <td>4</td>\n",
       "      <td>Harvey</td>\n",
       "      <td>125.0</td>\n",
       "      <td>62.2</td>\n",
       "      <td>2017</td>\n",
       "      <td>Category 4 hurricane</td>\n",
       "    </tr>\n",
       "    <tr>\n",
       "      <th>4</th>\n",
       "      <td>5</td>\n",
       "      <td>Ike</td>\n",
       "      <td>38.0</td>\n",
       "      <td>35.2</td>\n",
       "      <td>2008</td>\n",
       "      <td>Category 4 hurricane</td>\n",
       "    </tr>\n",
       "  </tbody>\n",
       "</table>\n",
       "</div>"
      ],
      "text/plain": [
       "   hurricane_id     name  damage_usd  norm_damage_usd  year  \\\n",
       "0             1  Katrina       125.0            116.9  2005   \n",
       "1             2   Andrew        27.3            106.0  1992   \n",
       "2             3    Sandy        68.7             73.5  2012   \n",
       "3             4   Harvey       125.0             62.2  2017   \n",
       "4             5      Ike        38.0             35.2  2008   \n",
       "\n",
       "               category  \n",
       "0  Category 5 hurricane  \n",
       "1  Category 5 hurricane  \n",
       "2  Category 3 hurricane  \n",
       "3  Category 4 hurricane  \n",
       "4  Category 4 hurricane  "
      ]
     },
     "execution_count": 19,
     "metadata": {},
     "output_type": "execute_result"
    }
   ],
   "source": [
    "cost_df = cost_df.rename(columns={'index': 'hurricane_id'})\n",
    "cost_df.head()"
   ]
  },
  {
   "cell_type": "code",
   "execution_count": 20,
   "metadata": {},
   "outputs": [],
   "source": [
    "cost_df.reset_index(drop=True, inplace=True)"
   ]
  },
  {
   "cell_type": "code",
   "execution_count": 21,
   "metadata": {},
   "outputs": [
    {
     "data": {
      "text/html": [
       "<div>\n",
       "<style scoped>\n",
       "    .dataframe tbody tr th:only-of-type {\n",
       "        vertical-align: middle;\n",
       "    }\n",
       "\n",
       "    .dataframe tbody tr th {\n",
       "        vertical-align: top;\n",
       "    }\n",
       "\n",
       "    .dataframe thead th {\n",
       "        text-align: right;\n",
       "    }\n",
       "</style>\n",
       "<table border=\"1\" class=\"dataframe\">\n",
       "  <thead>\n",
       "    <tr style=\"text-align: right;\">\n",
       "      <th></th>\n",
       "      <th>hurricane_id</th>\n",
       "      <th>name</th>\n",
       "      <th>damage_usd</th>\n",
       "      <th>norm_damage_usd</th>\n",
       "      <th>year</th>\n",
       "      <th>category</th>\n",
       "    </tr>\n",
       "  </thead>\n",
       "  <tbody>\n",
       "    <tr>\n",
       "      <th>0</th>\n",
       "      <td>1</td>\n",
       "      <td>Katrina</td>\n",
       "      <td>125.0</td>\n",
       "      <td>116.9</td>\n",
       "      <td>2005</td>\n",
       "      <td>Category 5 hurricane</td>\n",
       "    </tr>\n",
       "    <tr>\n",
       "      <th>1</th>\n",
       "      <td>2</td>\n",
       "      <td>Andrew</td>\n",
       "      <td>27.3</td>\n",
       "      <td>106.0</td>\n",
       "      <td>1992</td>\n",
       "      <td>Category 5 hurricane</td>\n",
       "    </tr>\n",
       "    <tr>\n",
       "      <th>2</th>\n",
       "      <td>3</td>\n",
       "      <td>Sandy</td>\n",
       "      <td>68.7</td>\n",
       "      <td>73.5</td>\n",
       "      <td>2012</td>\n",
       "      <td>Category 3 hurricane</td>\n",
       "    </tr>\n",
       "    <tr>\n",
       "      <th>3</th>\n",
       "      <td>4</td>\n",
       "      <td>Harvey</td>\n",
       "      <td>125.0</td>\n",
       "      <td>62.2</td>\n",
       "      <td>2017</td>\n",
       "      <td>Category 4 hurricane</td>\n",
       "    </tr>\n",
       "    <tr>\n",
       "      <th>4</th>\n",
       "      <td>5</td>\n",
       "      <td>Ike</td>\n",
       "      <td>38.0</td>\n",
       "      <td>35.2</td>\n",
       "      <td>2008</td>\n",
       "      <td>Category 4 hurricane</td>\n",
       "    </tr>\n",
       "  </tbody>\n",
       "</table>\n",
       "</div>"
      ],
      "text/plain": [
       "   hurricane_id     name  damage_usd  norm_damage_usd  year  \\\n",
       "0             1  Katrina       125.0            116.9  2005   \n",
       "1             2   Andrew        27.3            106.0  1992   \n",
       "2             3    Sandy        68.7             73.5  2012   \n",
       "3             4   Harvey       125.0             62.2  2017   \n",
       "4             5      Ike        38.0             35.2  2008   \n",
       "\n",
       "               category  \n",
       "0  Category 5 hurricane  \n",
       "1  Category 5 hurricane  \n",
       "2  Category 3 hurricane  \n",
       "3  Category 4 hurricane  \n",
       "4  Category 4 hurricane  "
      ]
     },
     "execution_count": 21,
     "metadata": {},
     "output_type": "execute_result"
    }
   ],
   "source": [
    "cost_df.head()"
   ]
  },
  {
   "cell_type": "code",
   "execution_count": 22,
   "metadata": {},
   "outputs": [],
   "source": [
    "# # Rename columns\n",
    "# total_gross_info = total_gross_info.rename(columns={'Rank': 'rank', 'Title': 'name', \n",
    "#                 'Year': 'year', 'GrossNumeric': 'total_revenue_usd'})"
   ]
  },
  {
   "cell_type": "code",
   "execution_count": 23,
   "metadata": {},
   "outputs": [],
   "source": [
    "# total_gross_info.head()"
   ]
  },
  {
   "cell_type": "code",
   "execution_count": 24,
   "metadata": {},
   "outputs": [],
   "source": [
    "# Change name column to lower case to easier join \n",
    "# total_gross_info['name'] = total_gross_info['name'].str.capitalize()"
   ]
  },
  {
   "cell_type": "code",
   "execution_count": 25,
   "metadata": {},
   "outputs": [],
   "source": [
    "# # Drop year column\n",
    "# total_gross_info = total_gross_info.drop(columns='year')"
   ]
  },
  {
   "cell_type": "code",
   "execution_count": 26,
   "metadata": {},
   "outputs": [],
   "source": [
    "# # Rename Lifetime Gross to total_revenue_usd\n",
    "# total_gross_info = total_gross_info.rename(columns={'Lifetime Gross': 'total_revenue_usd'})"
   ]
  },
  {
   "cell_type": "code",
   "execution_count": 27,
   "metadata": {},
   "outputs": [],
   "source": [
    "# total_gross_info.head()"
   ]
  },
  {
   "cell_type": "code",
   "execution_count": 28,
   "metadata": {},
   "outputs": [],
   "source": [
    "# # Convert total_revenue_usd to Integer\n",
    "# tot_rev_usd = total_gross_info['total_revenue_usd']\n",
    "# len(tot_rev_usd)"
   ]
  },
  {
   "cell_type": "code",
   "execution_count": 29,
   "metadata": {},
   "outputs": [],
   "source": [
    "# list = []\n",
    "# for i in tot_rev_usd:\n",
    "#     list.append(i.split('$')[-1]) \n",
    "# print(list[:10])"
   ]
  },
  {
   "cell_type": "code",
   "execution_count": 30,
   "metadata": {},
   "outputs": [],
   "source": [
    "# split_list = []\n",
    "# for i in list:\n",
    "#     i = i.split(',')\n",
    "#     split_list.append(''.join(i)) "
   ]
  },
  {
   "cell_type": "code",
   "execution_count": 31,
   "metadata": {},
   "outputs": [],
   "source": [
    "# merged_list = []\n",
    "# for i in split_list:\n",
    "#     merged_list.append(''.join(i)) \n",
    "# print(merged_list[:5])"
   ]
  },
  {
   "cell_type": "code",
   "execution_count": 32,
   "metadata": {},
   "outputs": [],
   "source": [
    "# len(merged_list)"
   ]
  },
  {
   "cell_type": "code",
   "execution_count": 33,
   "metadata": {},
   "outputs": [],
   "source": [
    "# Change revenue column from string to big integer\n",
    "# total_gross_info['total_revenue_usd'] = merged_list"
   ]
  },
  {
   "cell_type": "code",
   "execution_count": 34,
   "metadata": {},
   "outputs": [],
   "source": [
    "# total_gross_info['total_revenue_usd'] = pd.to_numeric(total_gross_info['total_revenue_usd'])"
   ]
  },
  {
   "cell_type": "code",
   "execution_count": 35,
   "metadata": {},
   "outputs": [],
   "source": [
    "# total_gross_info.dtypes"
   ]
  },
  {
   "cell_type": "code",
   "execution_count": 36,
   "metadata": {},
   "outputs": [],
   "source": [
    "# total_gross_info.to_csv('csv_files/Total_Gross_Info.csv')"
   ]
  },
  {
   "cell_type": "markdown",
   "metadata": {},
   "source": [
    "## Dataset 2 - Kaggle domestic revenue data - Load and clean¶\n",
    "#### Please download source data set - https://www.kaggle.com/danielgrijalvas/movies?select=movies.csv\n",
    "#### Save in 'csv_files/datasets_2745_4700_movies.csv'"
   ]
  },
  {
   "cell_type": "code",
   "execution_count": 37,
   "metadata": {},
   "outputs": [],
   "source": [
    "# path = 'csv_files/datasets_2745_4700_movies.csv'"
   ]
  },
  {
   "cell_type": "code",
   "execution_count": 38,
   "metadata": {},
   "outputs": [],
   "source": [
    "# # Convert all rows to UTF-8 type and write to a new file\n",
    "# with open(path, 'r', encoding='utf-8', errors='ignore') as infile, open(path + '_UTF8.csv', 'w') as outfile:\n",
    "#      inputs = csv.reader(infile)\n",
    "#      output = csv.writer(outfile)\n",
    "\n",
    "#      for index, row in enumerate(inputs):\n",
    "#          # Create file with no header\n",
    "#          if index == 0:\n",
    "#              continue\n",
    "#          output.writerow(row)"
   ]
  },
  {
   "cell_type": "code",
   "execution_count": 39,
   "metadata": {},
   "outputs": [],
   "source": [
    "# # Read csv file into df\n",
    "# domestic_df = pd.read_csv('csv_files/datasets_2745_4700_movies.csv_UTF8.csv')"
   ]
  },
  {
   "cell_type": "code",
   "execution_count": 40,
   "metadata": {},
   "outputs": [],
   "source": [
    "# # Add header \n",
    "# domestic_df.columns = [\"budget\",\"company\",\"country\",\"director\",\"genre\",\"gross\",\"name\",\"rating\",\"released\",\"runtime\",\"score\",\"star\",\"votes\",\"writer\",\"year\"]"
   ]
  },
  {
   "cell_type": "code",
   "execution_count": 41,
   "metadata": {},
   "outputs": [],
   "source": [
    "# domestic_df.head(2)"
   ]
  },
  {
   "cell_type": "code",
   "execution_count": 42,
   "metadata": {},
   "outputs": [],
   "source": [
    "# Make names capitalized\n",
    "# domestic_df['name'] = domestic_df['name'].str.capitalize()"
   ]
  },
  {
   "cell_type": "code",
   "execution_count": 43,
   "metadata": {},
   "outputs": [],
   "source": [
    "# domestic_df.head(2)"
   ]
  },
  {
   "cell_type": "code",
   "execution_count": 44,
   "metadata": {
    "scrolled": true
   },
   "outputs": [],
   "source": [
    "# # Getting the duplicate movies\n",
    "# duplicated_domestic_df = domestic_df.loc[domestic_df.duplicated(subset=[\"name\",\"director\"]), \"name\"].unique()\n",
    "# duplicated_domestic_df"
   ]
  },
  {
   "cell_type": "code",
   "execution_count": 45,
   "metadata": {
    "scrolled": true
   },
   "outputs": [],
   "source": [
    "# # Getting the duplicate movie by title and star released. \n",
    "# duplicated_domestic_df = domestic_df.loc[domestic_df.duplicated(subset=[\"name\",\"star\"]), \"name\"].unique()\n",
    "# duplicated_domestic_df"
   ]
  },
  {
   "cell_type": "code",
   "execution_count": 46,
   "metadata": {
    "scrolled": true
   },
   "outputs": [],
   "source": [
    "# # Getting the duplicate movie by title and country released. \n",
    "# duplicated_domestic_df = domestic_df.loc[domestic_df.duplicated(subset=[\"name\",\"country\"]), \"name\"].unique()\n",
    "# duplicated_domestic_df"
   ]
  },
  {
   "cell_type": "code",
   "execution_count": 47,
   "metadata": {},
   "outputs": [],
   "source": [
    "# # Check duplicated movie\n",
    "# duplicated_domestic_df = domestic_df.loc[domestic_df[\"name\"] == \"Godzilla\"]\n",
    "# duplicated_domestic_df"
   ]
  },
  {
   "cell_type": "code",
   "execution_count": 48,
   "metadata": {},
   "outputs": [],
   "source": [
    "# # Rename gross to domestic_revenue_usd\n",
    "# domestic_gross_info = domestic_df.rename(columns={'gross': 'domestic_revenue_usd'})"
   ]
  },
  {
   "cell_type": "code",
   "execution_count": 49,
   "metadata": {},
   "outputs": [],
   "source": [
    "# # Rename released to release_date\n",
    "# domestic_gross_info = domestic_gross_info.rename(columns={'released': 'release_date'})"
   ]
  },
  {
   "cell_type": "code",
   "execution_count": 50,
   "metadata": {},
   "outputs": [],
   "source": [
    "# # Drop columns we do not need ('budget', 'runtime', 'score', 'votes', 'year')\n",
    "# domestic_gross_info = domestic_gross_info.drop(columns=['budget', 'runtime', 'score', 'votes'])"
   ]
  },
  {
   "cell_type": "code",
   "execution_count": 51,
   "metadata": {},
   "outputs": [],
   "source": [
    "# domestic_gross_info.head(2)"
   ]
  },
  {
   "cell_type": "code",
   "execution_count": 52,
   "metadata": {},
   "outputs": [],
   "source": [
    "# domestic_gross_info.dtypes"
   ]
  },
  {
   "cell_type": "code",
   "execution_count": 53,
   "metadata": {},
   "outputs": [],
   "source": [
    "# # Change release_date to datetime type\n",
    "# domestic_gross_info['release_date'] = pd.to_datetime(domestic_gross_info['release_date'])"
   ]
  },
  {
   "cell_type": "code",
   "execution_count": 54,
   "metadata": {},
   "outputs": [],
   "source": [
    "# domestic_gross_info.dtypes"
   ]
  },
  {
   "cell_type": "code",
   "execution_count": 55,
   "metadata": {},
   "outputs": [],
   "source": [
    "# # Write to csv file\n",
    "# domestic_gross_info.to_csv('csv_files/Domestic_Gross_Info.csv')"
   ]
  },
  {
   "cell_type": "code",
   "execution_count": 56,
   "metadata": {},
   "outputs": [],
   "source": [
    "# TO THIS POINT, WE HAVE CREATED TWO MASTER DATAFRAMES THAT ARE CLEAN:\n",
    "# (1) Total_Gross_Info.csv\n",
    "# (2) Domestic_Gross_Info.csv"
   ]
  },
  {
   "cell_type": "markdown",
   "metadata": {},
   "source": [
    "### Merge total_gross_info and domestic_gross_info tables on 'name' column"
   ]
  },
  {
   "cell_type": "code",
   "execution_count": 57,
   "metadata": {},
   "outputs": [],
   "source": [
    "# # combine total and domestic tables on left using name of the movie column\n",
    "# combined_gross_info = pd.merge(domestic_gross_info, total_gross_info, how='left', on=\"name\")"
   ]
  },
  {
   "cell_type": "code",
   "execution_count": 58,
   "metadata": {},
   "outputs": [],
   "source": [
    "# combined_gross_info.head()"
   ]
  },
  {
   "cell_type": "code",
   "execution_count": 59,
   "metadata": {},
   "outputs": [],
   "source": [
    "# len(combined_gross_info)AssertionError"
   ]
  },
  {
   "cell_type": "code",
   "execution_count": 60,
   "metadata": {},
   "outputs": [],
   "source": [
    "# # Add new column and compute the international_total_revenue\n",
    "# combined_gross_info['international_revenue_usd'] = \\\n",
    "#         (combined_gross_info['total_revenue_usd'] - combined_gross_info['domestic_revenue_usd'])"
   ]
  },
  {
   "cell_type": "code",
   "execution_count": 61,
   "metadata": {},
   "outputs": [],
   "source": [
    "# # Rename columns\n",
    "# combined_gross_info = combined_gross_info.rename(columns={'star':'actor'})"
   ]
  },
  {
   "cell_type": "code",
   "execution_count": 62,
   "metadata": {},
   "outputs": [],
   "source": [
    "# # Getting the duplicate movie by title and star released. \n",
    "# dupl_combined_df = combined_gross_info.loc[combined_gross_info.duplicated(subset=[\"name\",\"director\", \"year\"]), \"name\"].unique()\n",
    "# dupl_combined_df"
   ]
  },
  {
   "cell_type": "code",
   "execution_count": 63,
   "metadata": {},
   "outputs": [],
   "source": [
    "# # Get all the data for the duplicate movie \n",
    "# dupl_df = combined_gross_info.loc[combined_gross_info[\"name\"] == \"Clash of the titans\"]\n",
    "# dupl_df"
   ]
  },
  {
   "cell_type": "markdown",
   "metadata": {},
   "source": [
    "#### (removed) Use pandas to push data into database"
   ]
  },
  {
   "cell_type": "code",
   "execution_count": 64,
   "metadata": {},
   "outputs": [],
   "source": [
    "# # Check existing tables\n",
    "# engine.table_names()"
   ]
  },
  {
   "cell_type": "code",
   "execution_count": 65,
   "metadata": {},
   "outputs": [],
   "source": [
    "# # Create domesic gross revenue table in the database\n",
    "# domestic_gross_info.to_sql(name='domestic_gross_info', con=engine, if_exists='append', index=False)"
   ]
  },
  {
   "cell_type": "code",
   "execution_count": 66,
   "metadata": {},
   "outputs": [],
   "source": [
    "# type(total_gross_info['name'])"
   ]
  },
  {
   "cell_type": "code",
   "execution_count": 67,
   "metadata": {},
   "outputs": [],
   "source": [
    "# total_gross_info"
   ]
  },
  {
   "cell_type": "code",
   "execution_count": 68,
   "metadata": {},
   "outputs": [],
   "source": [
    "# domestic_gross_info"
   ]
  },
  {
   "cell_type": "code",
   "execution_count": 69,
   "metadata": {},
   "outputs": [],
   "source": [
    "# # Remove the duplicates\n",
    "# # clean_combined_df = combined_gross_info.drop_duplicates(subset=['name','director','year'], keep='first')\n",
    "# clean_combined_df"
   ]
  },
  {
   "cell_type": "code",
   "execution_count": 70,
   "metadata": {},
   "outputs": [],
   "source": [
    "# len(clean_combined_df)"
   ]
  },
  {
   "cell_type": "markdown",
   "metadata": {},
   "source": [
    "### Create movies table from combined table"
   ]
  },
  {
   "cell_type": "code",
   "execution_count": 71,
   "metadata": {},
   "outputs": [],
   "source": [
    "# # Re-arrange the columns and write into new table\n",
    "# movies = clean_combined_df[['name','total_revenue_usd','international_revenue_usd','domestic_revenue_usd',\n",
    "#                               'director','actor','writer','genre','rating','company','country','year']]"
   ]
  },
  {
   "cell_type": "code",
   "execution_count": 72,
   "metadata": {},
   "outputs": [],
   "source": [
    "# movies.head()"
   ]
  },
  {
   "cell_type": "code",
   "execution_count": 73,
   "metadata": {},
   "outputs": [],
   "source": [
    "# # Fill NaN values with zeroes\n",
    "# movies[['total_revenue_usd','international_revenue_usd','domestic_revenue_usd']] = \\\n",
    "#     movies[['total_revenue_usd','international_revenue_usd','domestic_revenue_usd']].fillna(0)"
   ]
  },
  {
   "cell_type": "markdown",
   "metadata": {},
   "source": [
    "### Extract Actor data into a separate table"
   ]
  },
  {
   "cell_type": "code",
   "execution_count": 74,
   "metadata": {},
   "outputs": [],
   "source": [
    "# # Save star_actor data into a separate table\n",
    "# actor = movies['actor'].unique()\n",
    "# len(actor)"
   ]
  },
  {
   "cell_type": "code",
   "execution_count": 75,
   "metadata": {},
   "outputs": [],
   "source": [
    "# actor[:5]"
   ]
  },
  {
   "cell_type": "code",
   "execution_count": 76,
   "metadata": {},
   "outputs": [],
   "source": [
    "# actor = pd.DataFrame({'actor': actor})\n",
    "# actor.head(2)"
   ]
  },
  {
   "cell_type": "code",
   "execution_count": 77,
   "metadata": {},
   "outputs": [],
   "source": [
    "# actor.index += 1\n",
    "# actor"
   ]
  },
  {
   "cell_type": "code",
   "execution_count": 78,
   "metadata": {},
   "outputs": [],
   "source": [
    "# actor = actor.reset_index()\n",
    "# actor.head(2)"
   ]
  },
  {
   "cell_type": "code",
   "execution_count": 79,
   "metadata": {},
   "outputs": [],
   "source": [
    "# actor = actor.rename(columns={'index': 'actor_id'})\n",
    "# actor.head()"
   ]
  },
  {
   "cell_type": "code",
   "execution_count": 80,
   "metadata": {},
   "outputs": [],
   "source": [
    "# len(actor)"
   ]
  },
  {
   "cell_type": "markdown",
   "metadata": {},
   "source": [
    "### Merge movie and actor df on actor column"
   ]
  },
  {
   "cell_type": "code",
   "execution_count": 81,
   "metadata": {},
   "outputs": [],
   "source": [
    "# # combine movie and tables\n",
    "# movie_actor = pd.merge(movies, actor, how='outer', on=\"actor\")"
   ]
  },
  {
   "cell_type": "code",
   "execution_count": 82,
   "metadata": {},
   "outputs": [],
   "source": [
    "# # Extract only movie_id and actor_id columns\n",
    "# movie_actor = movie_actor[['movie_id', 'actor_id']]\n",
    "# movie_actor"
   ]
  },
  {
   "cell_type": "code",
   "execution_count": 83,
   "metadata": {},
   "outputs": [],
   "source": [
    "# # Save to csv\n",
    "# movie_actor.to_csv('csv_files/movie_actor.csv')"
   ]
  },
  {
   "cell_type": "markdown",
   "metadata": {},
   "source": [
    "### Create director_movie table"
   ]
  },
  {
   "cell_type": "code",
   "execution_count": 84,
   "metadata": {},
   "outputs": [],
   "source": [
    "# # Save star_actor data into a separate table\n",
    "# director = movies['director'].unique()\n",
    "# len(director)"
   ]
  },
  {
   "cell_type": "code",
   "execution_count": 85,
   "metadata": {},
   "outputs": [],
   "source": [
    "# director[:5]"
   ]
  },
  {
   "cell_type": "code",
   "execution_count": 86,
   "metadata": {},
   "outputs": [],
   "source": [
    "# director = pd.DataFrame({'director': director})\n",
    "# director.head(2)"
   ]
  },
  {
   "cell_type": "code",
   "execution_count": 87,
   "metadata": {},
   "outputs": [],
   "source": [
    "# director.index += 1\n",
    "# director"
   ]
  },
  {
   "cell_type": "code",
   "execution_count": 88,
   "metadata": {},
   "outputs": [],
   "source": [
    "# director = director.reset_index()\n",
    "# director.head(2)"
   ]
  },
  {
   "cell_type": "code",
   "execution_count": 89,
   "metadata": {},
   "outputs": [],
   "source": [
    "# director = director.rename(columns={'index': 'director_id'})\n",
    "# director.head()"
   ]
  },
  {
   "cell_type": "code",
   "execution_count": 90,
   "metadata": {
    "scrolled": true
   },
   "outputs": [],
   "source": [
    "# len(director)"
   ]
  },
  {
   "cell_type": "markdown",
   "metadata": {},
   "source": [
    "### Merge movie and director df on actor column"
   ]
  },
  {
   "cell_type": "code",
   "execution_count": 91,
   "metadata": {},
   "outputs": [],
   "source": [
    "# # combine movie and tables\n",
    "# movie_director = pd.merge(movies, director, how='outer', on=\"director\")"
   ]
  },
  {
   "cell_type": "code",
   "execution_count": 92,
   "metadata": {
    "scrolled": true
   },
   "outputs": [],
   "source": [
    "# # Extract only movie_id and actor_id columns\n",
    "# movie_director = movie_director[['movie_id', 'director_id']]\n",
    "# movie_director"
   ]
  },
  {
   "cell_type": "code",
   "execution_count": 93,
   "metadata": {},
   "outputs": [],
   "source": [
    "# # Save to csv\n",
    "# movie_director.to_csv('csv_files/movie_director.csv')"
   ]
  },
  {
   "cell_type": "markdown",
   "metadata": {},
   "source": [
    "### Create company_movie table"
   ]
  },
  {
   "cell_type": "code",
   "execution_count": 94,
   "metadata": {},
   "outputs": [],
   "source": [
    "# # Save company_movie data into a separate table\n",
    "# company = movies['company'].unique()\n",
    "# len(company)"
   ]
  },
  {
   "cell_type": "code",
   "execution_count": 95,
   "metadata": {},
   "outputs": [],
   "source": [
    "# company[:5]"
   ]
  },
  {
   "cell_type": "code",
   "execution_count": 96,
   "metadata": {},
   "outputs": [],
   "source": [
    "# company = pd.DataFrame({'company': company})\n",
    "# company.head(2)"
   ]
  },
  {
   "cell_type": "code",
   "execution_count": 97,
   "metadata": {},
   "outputs": [],
   "source": [
    "# company.index += 1\n",
    "# company"
   ]
  },
  {
   "cell_type": "code",
   "execution_count": 98,
   "metadata": {},
   "outputs": [],
   "source": [
    "# company = company.reset_index()\n",
    "# company.head(2)"
   ]
  },
  {
   "cell_type": "code",
   "execution_count": 99,
   "metadata": {},
   "outputs": [],
   "source": [
    "# company = company.rename(columns={'index': 'company_id'})\n",
    "# company.head()"
   ]
  },
  {
   "cell_type": "code",
   "execution_count": 100,
   "metadata": {
    "scrolled": false
   },
   "outputs": [],
   "source": [
    "# len(company)"
   ]
  },
  {
   "cell_type": "markdown",
   "metadata": {},
   "source": [
    "### Merge movie and company df on actor column"
   ]
  },
  {
   "cell_type": "code",
   "execution_count": 101,
   "metadata": {},
   "outputs": [],
   "source": [
    "# # combine movie and tables\n",
    "# company_movie = pd.merge(movies, company, how='outer', on=\"company\")"
   ]
  },
  {
   "cell_type": "code",
   "execution_count": 102,
   "metadata": {
    "scrolled": true
   },
   "outputs": [],
   "source": [
    "# # Extract only movie_id and actor_id columns\n",
    "# company_movie = company_movie[['movie_id', 'company_id']]\n",
    "# company_movie"
   ]
  },
  {
   "cell_type": "code",
   "execution_count": 103,
   "metadata": {},
   "outputs": [],
   "source": [
    "# # Save to csv\n",
    "# company_movie.to_csv('csv_files/company_movie.csv')"
   ]
  },
  {
   "cell_type": "markdown",
   "metadata": {},
   "source": [
    "## Extract Writer data into a separate table"
   ]
  },
  {
   "cell_type": "code",
   "execution_count": 104,
   "metadata": {},
   "outputs": [],
   "source": [
    "# # Save writer data into a separate table\n",
    "# writer = movies['writer'].unique()\n",
    "# len(writer)"
   ]
  },
  {
   "cell_type": "code",
   "execution_count": 105,
   "metadata": {},
   "outputs": [],
   "source": [
    "# writer[:5]"
   ]
  },
  {
   "cell_type": "code",
   "execution_count": 106,
   "metadata": {},
   "outputs": [],
   "source": [
    "# writer = pd.DataFrame({'writer': writer})\n",
    "# writer.head(2)"
   ]
  },
  {
   "cell_type": "code",
   "execution_count": 107,
   "metadata": {},
   "outputs": [],
   "source": [
    "# writer.index += 1\n",
    "# writer"
   ]
  },
  {
   "cell_type": "code",
   "execution_count": 108,
   "metadata": {},
   "outputs": [],
   "source": [
    "# writer = writer.reset_index()\n",
    "# writer.head(2)"
   ]
  },
  {
   "cell_type": "code",
   "execution_count": 109,
   "metadata": {},
   "outputs": [],
   "source": [
    "# writer = writer.rename(columns={'index': 'writer_id'})\n",
    "# writer.head()"
   ]
  },
  {
   "cell_type": "code",
   "execution_count": 110,
   "metadata": {
    "scrolled": false
   },
   "outputs": [],
   "source": [
    "# len(writer)"
   ]
  },
  {
   "cell_type": "markdown",
   "metadata": {},
   "source": [
    "### Merge writer_id column to movies table"
   ]
  },
  {
   "cell_type": "code",
   "execution_count": 111,
   "metadata": {},
   "outputs": [],
   "source": [
    "# # combine movie and tables\n",
    "# movies = pd.merge(movies, writer, how='outer', on=\"writer\")"
   ]
  },
  {
   "cell_type": "code",
   "execution_count": 112,
   "metadata": {
    "scrolled": true
   },
   "outputs": [],
   "source": [
    "# movies.head()"
   ]
  },
  {
   "cell_type": "markdown",
   "metadata": {},
   "source": [
    "## Extract Genre data into a separate table"
   ]
  },
  {
   "cell_type": "code",
   "execution_count": 113,
   "metadata": {},
   "outputs": [],
   "source": [
    "# # Save genre data into a separate table\n",
    "# genre = movies['genre'].unique()\n",
    "# len(genre)"
   ]
  },
  {
   "cell_type": "code",
   "execution_count": 114,
   "metadata": {},
   "outputs": [],
   "source": [
    "# genre[:5]"
   ]
  },
  {
   "cell_type": "code",
   "execution_count": 115,
   "metadata": {},
   "outputs": [],
   "source": [
    "# genre = pd.DataFrame({'genre': genre})\n",
    "# genre.head(2)"
   ]
  },
  {
   "cell_type": "code",
   "execution_count": 116,
   "metadata": {},
   "outputs": [],
   "source": [
    "# genre.index += 1\n",
    "# genre"
   ]
  },
  {
   "cell_type": "code",
   "execution_count": 117,
   "metadata": {},
   "outputs": [],
   "source": [
    "# genre = genre.reset_index()\n",
    "# genre.head(2)"
   ]
  },
  {
   "cell_type": "code",
   "execution_count": 118,
   "metadata": {},
   "outputs": [],
   "source": [
    "# genre = genre.rename(columns={'index': 'genre_id'})\n",
    "# genre.head()"
   ]
  },
  {
   "cell_type": "code",
   "execution_count": 119,
   "metadata": {
    "scrolled": false
   },
   "outputs": [],
   "source": [
    "# len(genre)"
   ]
  },
  {
   "cell_type": "markdown",
   "metadata": {},
   "source": [
    "### Merge genre_id column to movies table"
   ]
  },
  {
   "cell_type": "code",
   "execution_count": 120,
   "metadata": {},
   "outputs": [],
   "source": [
    "# # combine movies and genre\n",
    "# movies = pd.merge(movies, genre, how='outer', on=\"genre\")"
   ]
  },
  {
   "cell_type": "code",
   "execution_count": 121,
   "metadata": {
    "scrolled": true
   },
   "outputs": [],
   "source": [
    "# movies.head()"
   ]
  },
  {
   "cell_type": "code",
   "execution_count": 122,
   "metadata": {},
   "outputs": [],
   "source": [
    "# movies.to_csv('csv_files/movies_genre_ids.csv')"
   ]
  },
  {
   "cell_type": "markdown",
   "metadata": {},
   "source": [
    "## Extract rating data into a separate table"
   ]
  },
  {
   "cell_type": "code",
   "execution_count": 123,
   "metadata": {},
   "outputs": [],
   "source": [
    "# # Save rating data into a separate table\n",
    "# rating = movies['rating'].unique()\n",
    "# len(rating)"
   ]
  },
  {
   "cell_type": "code",
   "execution_count": 124,
   "metadata": {},
   "outputs": [],
   "source": [
    "# rating[:5]"
   ]
  },
  {
   "cell_type": "code",
   "execution_count": 125,
   "metadata": {},
   "outputs": [],
   "source": [
    "# rating = pd.DataFrame({'rating': rating})\n",
    "# rating.head(2)"
   ]
  },
  {
   "cell_type": "code",
   "execution_count": 126,
   "metadata": {},
   "outputs": [],
   "source": [
    "# rating.index += 1"
   ]
  },
  {
   "cell_type": "code",
   "execution_count": 127,
   "metadata": {},
   "outputs": [],
   "source": [
    "# rating = rating.reset_index()\n",
    "# rating.head(2)"
   ]
  },
  {
   "cell_type": "code",
   "execution_count": 128,
   "metadata": {},
   "outputs": [],
   "source": [
    "# rating = rating.rename(columns={'index': 'rating_id'})\n",
    "# rating.head()"
   ]
  },
  {
   "cell_type": "code",
   "execution_count": 129,
   "metadata": {
    "scrolled": false
   },
   "outputs": [],
   "source": [
    "# len(rating)"
   ]
  },
  {
   "cell_type": "code",
   "execution_count": null,
   "metadata": {},
   "outputs": [],
   "source": []
  },
  {
   "cell_type": "markdown",
   "metadata": {},
   "source": [
    "### Merge rating_id column to movies table"
   ]
  },
  {
   "cell_type": "code",
   "execution_count": 130,
   "metadata": {},
   "outputs": [],
   "source": [
    "# # combine movies and rating\n",
    "# movies = pd.merge(movies, rating, how='outer', on=\"rating\")"
   ]
  },
  {
   "cell_type": "code",
   "execution_count": 131,
   "metadata": {
    "scrolled": true
   },
   "outputs": [],
   "source": [
    "# movies.head()"
   ]
  },
  {
   "cell_type": "code",
   "execution_count": 132,
   "metadata": {},
   "outputs": [],
   "source": [
    "# movies.to_csv('csv_files/movies_rating_ids.csv')"
   ]
  },
  {
   "cell_type": "code",
   "execution_count": null,
   "metadata": {},
   "outputs": [],
   "source": []
  },
  {
   "cell_type": "markdown",
   "metadata": {},
   "source": [
    "# Remove unnecessary columns from movies"
   ]
  },
  {
   "cell_type": "code",
   "execution_count": 133,
   "metadata": {},
   "outputs": [],
   "source": [
    "# movies.head(2)"
   ]
  },
  {
   "cell_type": "code",
   "execution_count": 134,
   "metadata": {},
   "outputs": [],
   "source": [
    "# movies = movies[['movie_id','country','genre_id','writer_id','rating_id','name','year','domestic_revenue_usd',\n",
    "#                  'international_revenue_usd', 'total_revenue_usd']]"
   ]
  },
  {
   "cell_type": "code",
   "execution_count": 135,
   "metadata": {
    "scrolled": true
   },
   "outputs": [],
   "source": [
    "# movies.head()"
   ]
  },
  {
   "cell_type": "code",
   "execution_count": null,
   "metadata": {},
   "outputs": [],
   "source": []
  },
  {
   "cell_type": "markdown",
   "metadata": {},
   "source": [
    "## Push table to PostgreSQL"
   ]
  },
  {
   "cell_type": "markdown",
   "metadata": {},
   "source": [
    "### !!! Please import QuickDBD-export.sql in the repo root folder file in pgAdmin\n",
    "### !!! Run SQL file to generate the tables and reference links\n",
    "### UNCOMMENT cell below to run the rest of the code"
   ]
  },
  {
   "cell_type": "code",
   "execution_count": 136,
   "metadata": {},
   "outputs": [],
   "source": [
    "# Connect to the local database\n",
    "connection_string = f'{username}:{password}@localhost:5432/hurricanes_db'\n",
    "engine = create_engine(f'postgresql://{connection_string}')"
   ]
  },
  {
   "cell_type": "code",
   "execution_count": 137,
   "metadata": {},
   "outputs": [],
   "source": [
    "# genre.to_sql(name='genre', con=engine, if_exists='append', index=False)"
   ]
  },
  {
   "cell_type": "code",
   "execution_count": 138,
   "metadata": {},
   "outputs": [],
   "source": [
    "# writer.to_sql(name='writer', con=engine, if_exists='append', index=False)"
   ]
  },
  {
   "cell_type": "code",
   "execution_count": 139,
   "metadata": {},
   "outputs": [],
   "source": [
    "# director.to_sql(name='director', con=engine, if_exists='append', index=False)"
   ]
  },
  {
   "cell_type": "code",
   "execution_count": 140,
   "metadata": {},
   "outputs": [],
   "source": [
    "# rating.to_sql(name='rating', con=engine, if_exists='append', index=False)"
   ]
  },
  {
   "cell_type": "code",
   "execution_count": 141,
   "metadata": {},
   "outputs": [],
   "source": [
    "# company.to_sql(name='company', con=engine, if_exists='append', index=False)"
   ]
  },
  {
   "cell_type": "code",
   "execution_count": 142,
   "metadata": {},
   "outputs": [],
   "source": [
    "# actor.to_sql(name='actor', con=engine, if_exists='append', index=False)"
   ]
  },
  {
   "cell_type": "code",
   "execution_count": 143,
   "metadata": {},
   "outputs": [],
   "source": [
    "# movies.to_sql(name='movies', con=engine, if_exists='append', index=False)"
   ]
  },
  {
   "cell_type": "code",
   "execution_count": 144,
   "metadata": {},
   "outputs": [],
   "source": [
    "# company_movie.to_sql(name='company_movie', con=engine, if_exists='append', index=False)"
   ]
  },
  {
   "cell_type": "code",
   "execution_count": 145,
   "metadata": {},
   "outputs": [],
   "source": [
    "# movie_actor.to_sql(name='movie_actor', con=engine, if_exists='append', index=False)"
   ]
  },
  {
   "cell_type": "code",
   "execution_count": 147,
   "metadata": {},
   "outputs": [],
   "source": [
    "cost_df.to_sql(name=\"Cost\", con=engine, if_exists='append', index=False)"
   ]
  },
  {
   "cell_type": "code",
   "execution_count": null,
   "metadata": {},
   "outputs": [],
   "source": []
  }
 ],
 "metadata": {
  "kernelspec": {
   "display_name": "Python 3.8.2 64-bit ('PythonData': virtualenv)",
   "language": "python",
   "name": "python38264bitpythondatavirtualenva6ed9450beb7421c92e17db9f8dc29a3"
  },
  "language_info": {
   "codemirror_mode": {
    "name": "ipython",
    "version": 3
   },
   "file_extension": ".py",
   "mimetype": "text/x-python",
   "name": "python",
   "nbconvert_exporter": "python",
   "pygments_lexer": "ipython3",
   "version": "3.8.2"
  }
 },
 "nbformat": 4,
 "nbformat_minor": 4
}
